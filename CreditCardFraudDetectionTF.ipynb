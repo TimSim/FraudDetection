{
  "nbformat": 4,
  "nbformat_minor": 0,
  "metadata": {
    "colab": {
      "name": "CreditCardFraudDetectionTF.ipynb",
      "provenance": [],
      "collapsed_sections": [],
      "authorship_tag": "ABX9TyPhwdwqCKsX2QXxl/MArC6R",
      "include_colab_link": true
    },
    "kernelspec": {
      "name": "python3",
      "display_name": "Python 3"
    },
    "language_info": {
      "name": "python"
    }
  },
  "cells": [
    {
      "cell_type": "markdown",
      "metadata": {
        "id": "view-in-github",
        "colab_type": "text"
      },
      "source": [
        "<a href=\"https://colab.research.google.com/github/TimSim/FraudDetection/blob/main/CreditCardFraudDetectionTF.ipynb\" target=\"_parent\"><img src=\"https://colab.research.google.com/assets/colab-badge.svg\" alt=\"Open In Colab\"/></a>"
      ]
    },
    {
      "cell_type": "markdown",
      "metadata": {
        "id": "0t-Ww-DyCx-1"
      },
      "source": [
        "The goal is to identify fraudulent credit card transactions using ML or Deep Learning models. Given the class imbalance ratio, we recommend measuring the accuracy using the Area Under the Precision-Recall Curve (AUPRC). Confusion matrix accuracy is not meaningful for unbalanced classification. We recommend using the TensorFlow tf.keras.metrics.AUC(curve='PR') as our performance and scoring metric.\n"
      ]
    },
    {
      "cell_type": "code",
      "metadata": {
        "id": "V_EvpLTzCds9"
      },
      "source": [
        "import numpy as np\n",
        "import pandas as pd\n",
        "from sklearn.model_selection import train_test_split\n",
        "%matplotlib inline\n",
        "import matplotlib\n",
        "#import seaborn as sns\n",
        "from matplotlib import pylab as plt\n",
        "plt.rcParams['figure.figsize'] = [10, 6]\n",
        "plt.rcParams['figure.dpi'] = 100\n",
        "plt.rcParams['agg.path.chunksize'] = 10000\n",
        "\n",
        "pd.set_option('display.max_columns', None)"
      ],
      "execution_count": 1,
      "outputs": []
    },
    {
      "cell_type": "code",
      "metadata": {
        "colab": {
          "base_uri": "https://localhost:8080/"
        },
        "id": "YgiXj35t5h9Y",
        "outputId": "f796cdb1-97b5-4ba9-e6e3-5e9bc0409714"
      },
      "source": [
        "# Load the Drive helper and mount\n",
        "from google.colab import drive\n",
        "\n",
        "# This will prompt for authorization.\n",
        "drive.mount('/content/drive')"
      ],
      "execution_count": 3,
      "outputs": [
        {
          "output_type": "stream",
          "name": "stdout",
          "text": [
            "Mounted at /content/drive\n"
          ]
        }
      ]
    },
    {
      "cell_type": "code",
      "metadata": {
        "id": "dO6Edwz8Vz5l",
        "colab": {
          "base_uri": "https://localhost:8080/"
        },
        "outputId": "4e1ed0ca-53d2-4922-b852-02a7c2aa5df0"
      },
      "source": [
        "# After executing the cell above, Drive\n",
        "# files will be present in \"/content/drive/My Drive\".\n",
        "!ls -la \"/content/drive/My Drive/Colab Notebooks/data\""
      ],
      "execution_count": 6,
      "outputs": [
        {
          "output_type": "stream",
          "name": "stdout",
          "text": [
            "total 157245\n",
            "-rw------- 1 root root 150828752 Sep 19  2019 creditcard.csv\n",
            "-rw------- 1 root root  10188854 May  6  2019 Shakespeare_data.csv\n"
          ]
        }
      ]
    },
    {
      "cell_type": "markdown",
      "metadata": {
        "id": "PVfNs4iSz4TB"
      },
      "source": [
        "Credit Card data from https://www.kaggle.com/mlg-ulb/creditcardfraud\n"
      ]
    },
    {
      "cell_type": "code",
      "metadata": {
        "id": "tf-0G73dztCm"
      },
      "source": [
        "df = pd.read_csv('/content/drive/My Drive/Colab Notebooks/data/creditcard.csv')\n",
        "(tv_df,test_df) = train_test_split(df, stratify=df['Class'], test_size=0.2, random_state=51)"
      ],
      "execution_count": 7,
      "outputs": []
    },
    {
      "cell_type": "code",
      "metadata": {
        "id": "q-5sRUBp7LT8"
      },
      "source": [
        "# split the training data into training and validation:\n",
        "train_df, val_df = train_test_split(tv_df, stratify=tv_df['Class'], test_size=0.2, random_state=51)"
      ],
      "execution_count": 8,
      "outputs": []
    },
    {
      "cell_type": "code",
      "metadata": {
        "colab": {
          "base_uri": "https://localhost:8080/"
        },
        "id": "h1fbUv4-9iF1",
        "outputId": "d3800545-89ff-4666-dfa4-5e2fc1616c22"
      },
      "source": [
        "# Verify stratification:\n",
        "print((test_df.shape,df.shape,len(test_df)/len(df)))\n",
        "print((test_df.Class.sum(),df.Class.sum(),test_df.Class.sum()/df.Class.sum()))"
      ],
      "execution_count": 9,
      "outputs": [
        {
          "output_type": "stream",
          "name": "stdout",
          "text": [
            "((56962, 31), (284807, 31), 0.20000210668979343)\n",
            "(98, 492, 0.1991869918699187)\n"
          ]
        }
      ]
    },
    {
      "cell_type": "code",
      "metadata": {
        "id": "JuNZz0Rj9lMh"
      },
      "source": [
        "\n",
        "# separate class from features:\n",
        "(X_train,X_val,X_test,X_tv) = [DF.drop('Class',axis=1,inplace=False) for DF in [train_df,val_df,test_df,tv_df]]\n",
        "(y_train,y_val,y_test,y_tv) = [DF['Class'] for DF in [train_df,val_df,test_df,tv_df]]"
      ],
      "execution_count": 10,
      "outputs": []
    },
    {
      "cell_type": "code",
      "metadata": {
        "colab": {
          "base_uri": "https://localhost:8080/",
          "height": 317
        },
        "id": "Wp3SsKbF9tWt",
        "outputId": "ffbad632-93a7-419e-f66c-743f4594f949"
      },
      "source": [
        "tv_df.describe()"
      ],
      "execution_count": 11,
      "outputs": [
        {
          "output_type": "execute_result",
          "data": {
            "text/html": [
              "<div>\n",
              "<style scoped>\n",
              "    .dataframe tbody tr th:only-of-type {\n",
              "        vertical-align: middle;\n",
              "    }\n",
              "\n",
              "    .dataframe tbody tr th {\n",
              "        vertical-align: top;\n",
              "    }\n",
              "\n",
              "    .dataframe thead th {\n",
              "        text-align: right;\n",
              "    }\n",
              "</style>\n",
              "<table border=\"1\" class=\"dataframe\">\n",
              "  <thead>\n",
              "    <tr style=\"text-align: right;\">\n",
              "      <th></th>\n",
              "      <th>Time</th>\n",
              "      <th>V1</th>\n",
              "      <th>V2</th>\n",
              "      <th>V3</th>\n",
              "      <th>V4</th>\n",
              "      <th>V5</th>\n",
              "      <th>V6</th>\n",
              "      <th>V7</th>\n",
              "      <th>V8</th>\n",
              "      <th>V9</th>\n",
              "      <th>V10</th>\n",
              "      <th>V11</th>\n",
              "      <th>V12</th>\n",
              "      <th>V13</th>\n",
              "      <th>V14</th>\n",
              "      <th>V15</th>\n",
              "      <th>V16</th>\n",
              "      <th>V17</th>\n",
              "      <th>V18</th>\n",
              "      <th>V19</th>\n",
              "      <th>V20</th>\n",
              "      <th>V21</th>\n",
              "      <th>V22</th>\n",
              "      <th>V23</th>\n",
              "      <th>V24</th>\n",
              "      <th>V25</th>\n",
              "      <th>V26</th>\n",
              "      <th>V27</th>\n",
              "      <th>V28</th>\n",
              "      <th>Amount</th>\n",
              "      <th>Class</th>\n",
              "    </tr>\n",
              "  </thead>\n",
              "  <tbody>\n",
              "    <tr>\n",
              "      <th>count</th>\n",
              "      <td>227845.000000</td>\n",
              "      <td>227845.000000</td>\n",
              "      <td>227845.000000</td>\n",
              "      <td>227845.000000</td>\n",
              "      <td>227845.000000</td>\n",
              "      <td>227845.000000</td>\n",
              "      <td>227845.000000</td>\n",
              "      <td>227845.000000</td>\n",
              "      <td>227845.000000</td>\n",
              "      <td>227845.000000</td>\n",
              "      <td>227845.000000</td>\n",
              "      <td>227845.000000</td>\n",
              "      <td>227845.000000</td>\n",
              "      <td>227845.000000</td>\n",
              "      <td>227845.000000</td>\n",
              "      <td>227845.000000</td>\n",
              "      <td>227845.000000</td>\n",
              "      <td>227845.000000</td>\n",
              "      <td>227845.000000</td>\n",
              "      <td>227845.000000</td>\n",
              "      <td>227845.000000</td>\n",
              "      <td>227845.000000</td>\n",
              "      <td>227845.000000</td>\n",
              "      <td>227845.000000</td>\n",
              "      <td>227845.000000</td>\n",
              "      <td>227845.000000</td>\n",
              "      <td>227845.000000</td>\n",
              "      <td>227845.000000</td>\n",
              "      <td>227845.000000</td>\n",
              "      <td>227845.000000</td>\n",
              "      <td>227845.000000</td>\n",
              "    </tr>\n",
              "    <tr>\n",
              "      <th>mean</th>\n",
              "      <td>94834.244666</td>\n",
              "      <td>-0.000429</td>\n",
              "      <td>-0.001766</td>\n",
              "      <td>-0.001021</td>\n",
              "      <td>0.000414</td>\n",
              "      <td>-0.000731</td>\n",
              "      <td>0.001989</td>\n",
              "      <td>0.001310</td>\n",
              "      <td>-0.001327</td>\n",
              "      <td>-0.000376</td>\n",
              "      <td>0.001597</td>\n",
              "      <td>0.000143</td>\n",
              "      <td>0.000581</td>\n",
              "      <td>0.000103</td>\n",
              "      <td>-0.001121</td>\n",
              "      <td>-0.000030</td>\n",
              "      <td>-0.000144</td>\n",
              "      <td>-0.000657</td>\n",
              "      <td>-0.000136</td>\n",
              "      <td>0.000653</td>\n",
              "      <td>0.000517</td>\n",
              "      <td>0.000100</td>\n",
              "      <td>0.000326</td>\n",
              "      <td>0.000070</td>\n",
              "      <td>0.001336</td>\n",
              "      <td>0.000473</td>\n",
              "      <td>-0.000161</td>\n",
              "      <td>0.000165</td>\n",
              "      <td>-0.000059</td>\n",
              "      <td>88.771219</td>\n",
              "      <td>0.001729</td>\n",
              "    </tr>\n",
              "    <tr>\n",
              "      <th>std</th>\n",
              "      <td>47476.822552</td>\n",
              "      <td>1.967426</td>\n",
              "      <td>1.662720</td>\n",
              "      <td>1.521840</td>\n",
              "      <td>1.416733</td>\n",
              "      <td>1.385033</td>\n",
              "      <td>1.334890</td>\n",
              "      <td>1.247306</td>\n",
              "      <td>1.195472</td>\n",
              "      <td>1.099686</td>\n",
              "      <td>1.090792</td>\n",
              "      <td>1.019617</td>\n",
              "      <td>0.996069</td>\n",
              "      <td>0.994237</td>\n",
              "      <td>0.958634</td>\n",
              "      <td>0.915960</td>\n",
              "      <td>0.876402</td>\n",
              "      <td>0.848492</td>\n",
              "      <td>0.838721</td>\n",
              "      <td>0.814122</td>\n",
              "      <td>0.778989</td>\n",
              "      <td>0.740174</td>\n",
              "      <td>0.726675</td>\n",
              "      <td>0.625204</td>\n",
              "      <td>0.605842</td>\n",
              "      <td>0.521631</td>\n",
              "      <td>0.481928</td>\n",
              "      <td>0.404762</td>\n",
              "      <td>0.331608</td>\n",
              "      <td>253.068313</td>\n",
              "      <td>0.041548</td>\n",
              "    </tr>\n",
              "    <tr>\n",
              "      <th>min</th>\n",
              "      <td>0.000000</td>\n",
              "      <td>-56.407510</td>\n",
              "      <td>-72.715728</td>\n",
              "      <td>-48.325589</td>\n",
              "      <td>-5.683171</td>\n",
              "      <td>-113.743307</td>\n",
              "      <td>-26.160506</td>\n",
              "      <td>-43.557242</td>\n",
              "      <td>-50.688419</td>\n",
              "      <td>-13.434066</td>\n",
              "      <td>-24.588262</td>\n",
              "      <td>-4.797473</td>\n",
              "      <td>-18.683715</td>\n",
              "      <td>-4.008640</td>\n",
              "      <td>-19.214325</td>\n",
              "      <td>-4.498945</td>\n",
              "      <td>-14.129855</td>\n",
              "      <td>-24.019099</td>\n",
              "      <td>-9.335193</td>\n",
              "      <td>-7.213527</td>\n",
              "      <td>-54.497720</td>\n",
              "      <td>-22.889347</td>\n",
              "      <td>-10.933144</td>\n",
              "      <td>-44.807735</td>\n",
              "      <td>-2.836627</td>\n",
              "      <td>-10.295397</td>\n",
              "      <td>-2.604551</td>\n",
              "      <td>-22.565679</td>\n",
              "      <td>-15.430084</td>\n",
              "      <td>0.000000</td>\n",
              "      <td>0.000000</td>\n",
              "    </tr>\n",
              "    <tr>\n",
              "      <th>25%</th>\n",
              "      <td>54246.000000</td>\n",
              "      <td>-0.919893</td>\n",
              "      <td>-0.599011</td>\n",
              "      <td>-0.890786</td>\n",
              "      <td>-0.847792</td>\n",
              "      <td>-0.691670</td>\n",
              "      <td>-0.766960</td>\n",
              "      <td>-0.553506</td>\n",
              "      <td>-0.208716</td>\n",
              "      <td>-0.644858</td>\n",
              "      <td>-0.533726</td>\n",
              "      <td>-0.761618</td>\n",
              "      <td>-0.405820</td>\n",
              "      <td>-0.647725</td>\n",
              "      <td>-0.427788</td>\n",
              "      <td>-0.582582</td>\n",
              "      <td>-0.467742</td>\n",
              "      <td>-0.484224</td>\n",
              "      <td>-0.499053</td>\n",
              "      <td>-0.454887</td>\n",
              "      <td>-0.211660</td>\n",
              "      <td>-0.228192</td>\n",
              "      <td>-0.542369</td>\n",
              "      <td>-0.161836</td>\n",
              "      <td>-0.354038</td>\n",
              "      <td>-0.316550</td>\n",
              "      <td>-0.327156</td>\n",
              "      <td>-0.070900</td>\n",
              "      <td>-0.052907</td>\n",
              "      <td>5.700000</td>\n",
              "      <td>0.000000</td>\n",
              "    </tr>\n",
              "    <tr>\n",
              "      <th>50%</th>\n",
              "      <td>84691.000000</td>\n",
              "      <td>0.018846</td>\n",
              "      <td>0.063994</td>\n",
              "      <td>0.180546</td>\n",
              "      <td>-0.019239</td>\n",
              "      <td>-0.055925</td>\n",
              "      <td>-0.272083</td>\n",
              "      <td>0.041010</td>\n",
              "      <td>0.021875</td>\n",
              "      <td>-0.050596</td>\n",
              "      <td>-0.092371</td>\n",
              "      <td>-0.032355</td>\n",
              "      <td>0.139424</td>\n",
              "      <td>-0.013170</td>\n",
              "      <td>0.049538</td>\n",
              "      <td>0.047587</td>\n",
              "      <td>0.066979</td>\n",
              "      <td>-0.065487</td>\n",
              "      <td>-0.003826</td>\n",
              "      <td>0.004441</td>\n",
              "      <td>-0.062241</td>\n",
              "      <td>-0.029092</td>\n",
              "      <td>0.006740</td>\n",
              "      <td>-0.011021</td>\n",
              "      <td>0.042253</td>\n",
              "      <td>0.017417</td>\n",
              "      <td>-0.051862</td>\n",
              "      <td>0.001194</td>\n",
              "      <td>0.011292</td>\n",
              "      <td>22.060000</td>\n",
              "      <td>0.000000</td>\n",
              "    </tr>\n",
              "    <tr>\n",
              "      <th>75%</th>\n",
              "      <td>139340.000000</td>\n",
              "      <td>1.315404</td>\n",
              "      <td>0.802516</td>\n",
              "      <td>1.027751</td>\n",
              "      <td>0.743302</td>\n",
              "      <td>0.612093</td>\n",
              "      <td>0.399907</td>\n",
              "      <td>0.570426</td>\n",
              "      <td>0.325719</td>\n",
              "      <td>0.597298</td>\n",
              "      <td>0.454159</td>\n",
              "      <td>0.739493</td>\n",
              "      <td>0.618366</td>\n",
              "      <td>0.661789</td>\n",
              "      <td>0.492063</td>\n",
              "      <td>0.649629</td>\n",
              "      <td>0.521739</td>\n",
              "      <td>0.400064</td>\n",
              "      <td>0.501636</td>\n",
              "      <td>0.458616</td>\n",
              "      <td>0.134009</td>\n",
              "      <td>0.186476</td>\n",
              "      <td>0.529748</td>\n",
              "      <td>0.147667</td>\n",
              "      <td>0.441007</td>\n",
              "      <td>0.350871</td>\n",
              "      <td>0.240447</td>\n",
              "      <td>0.090606</td>\n",
              "      <td>0.078413</td>\n",
              "      <td>77.750000</td>\n",
              "      <td>0.000000</td>\n",
              "    </tr>\n",
              "    <tr>\n",
              "      <th>max</th>\n",
              "      <td>172788.000000</td>\n",
              "      <td>2.451888</td>\n",
              "      <td>22.057729</td>\n",
              "      <td>9.382558</td>\n",
              "      <td>16.875344</td>\n",
              "      <td>34.801666</td>\n",
              "      <td>73.301626</td>\n",
              "      <td>120.589494</td>\n",
              "      <td>20.007208</td>\n",
              "      <td>15.594995</td>\n",
              "      <td>23.745136</td>\n",
              "      <td>12.018913</td>\n",
              "      <td>4.846452</td>\n",
              "      <td>7.126883</td>\n",
              "      <td>7.754599</td>\n",
              "      <td>8.877742</td>\n",
              "      <td>17.315112</td>\n",
              "      <td>9.253526</td>\n",
              "      <td>5.041069</td>\n",
              "      <td>5.572113</td>\n",
              "      <td>39.420904</td>\n",
              "      <td>27.202839</td>\n",
              "      <td>8.361985</td>\n",
              "      <td>22.528412</td>\n",
              "      <td>4.584549</td>\n",
              "      <td>6.070850</td>\n",
              "      <td>3.517346</td>\n",
              "      <td>31.612198</td>\n",
              "      <td>33.847808</td>\n",
              "      <td>25691.160000</td>\n",
              "      <td>1.000000</td>\n",
              "    </tr>\n",
              "  </tbody>\n",
              "</table>\n",
              "</div>"
            ],
            "text/plain": [
              "                Time             V1             V2             V3  \\\n",
              "count  227845.000000  227845.000000  227845.000000  227845.000000   \n",
              "mean    94834.244666      -0.000429      -0.001766      -0.001021   \n",
              "std     47476.822552       1.967426       1.662720       1.521840   \n",
              "min         0.000000     -56.407510     -72.715728     -48.325589   \n",
              "25%     54246.000000      -0.919893      -0.599011      -0.890786   \n",
              "50%     84691.000000       0.018846       0.063994       0.180546   \n",
              "75%    139340.000000       1.315404       0.802516       1.027751   \n",
              "max    172788.000000       2.451888      22.057729       9.382558   \n",
              "\n",
              "                  V4             V5             V6             V7  \\\n",
              "count  227845.000000  227845.000000  227845.000000  227845.000000   \n",
              "mean        0.000414      -0.000731       0.001989       0.001310   \n",
              "std         1.416733       1.385033       1.334890       1.247306   \n",
              "min        -5.683171    -113.743307     -26.160506     -43.557242   \n",
              "25%        -0.847792      -0.691670      -0.766960      -0.553506   \n",
              "50%        -0.019239      -0.055925      -0.272083       0.041010   \n",
              "75%         0.743302       0.612093       0.399907       0.570426   \n",
              "max        16.875344      34.801666      73.301626     120.589494   \n",
              "\n",
              "                  V8             V9            V10            V11  \\\n",
              "count  227845.000000  227845.000000  227845.000000  227845.000000   \n",
              "mean       -0.001327      -0.000376       0.001597       0.000143   \n",
              "std         1.195472       1.099686       1.090792       1.019617   \n",
              "min       -50.688419     -13.434066     -24.588262      -4.797473   \n",
              "25%        -0.208716      -0.644858      -0.533726      -0.761618   \n",
              "50%         0.021875      -0.050596      -0.092371      -0.032355   \n",
              "75%         0.325719       0.597298       0.454159       0.739493   \n",
              "max        20.007208      15.594995      23.745136      12.018913   \n",
              "\n",
              "                 V12            V13            V14            V15  \\\n",
              "count  227845.000000  227845.000000  227845.000000  227845.000000   \n",
              "mean        0.000581       0.000103      -0.001121      -0.000030   \n",
              "std         0.996069       0.994237       0.958634       0.915960   \n",
              "min       -18.683715      -4.008640     -19.214325      -4.498945   \n",
              "25%        -0.405820      -0.647725      -0.427788      -0.582582   \n",
              "50%         0.139424      -0.013170       0.049538       0.047587   \n",
              "75%         0.618366       0.661789       0.492063       0.649629   \n",
              "max         4.846452       7.126883       7.754599       8.877742   \n",
              "\n",
              "                 V16            V17            V18            V19  \\\n",
              "count  227845.000000  227845.000000  227845.000000  227845.000000   \n",
              "mean       -0.000144      -0.000657      -0.000136       0.000653   \n",
              "std         0.876402       0.848492       0.838721       0.814122   \n",
              "min       -14.129855     -24.019099      -9.335193      -7.213527   \n",
              "25%        -0.467742      -0.484224      -0.499053      -0.454887   \n",
              "50%         0.066979      -0.065487      -0.003826       0.004441   \n",
              "75%         0.521739       0.400064       0.501636       0.458616   \n",
              "max        17.315112       9.253526       5.041069       5.572113   \n",
              "\n",
              "                 V20            V21            V22            V23  \\\n",
              "count  227845.000000  227845.000000  227845.000000  227845.000000   \n",
              "mean        0.000517       0.000100       0.000326       0.000070   \n",
              "std         0.778989       0.740174       0.726675       0.625204   \n",
              "min       -54.497720     -22.889347     -10.933144     -44.807735   \n",
              "25%        -0.211660      -0.228192      -0.542369      -0.161836   \n",
              "50%        -0.062241      -0.029092       0.006740      -0.011021   \n",
              "75%         0.134009       0.186476       0.529748       0.147667   \n",
              "max        39.420904      27.202839       8.361985      22.528412   \n",
              "\n",
              "                 V24            V25            V26            V27  \\\n",
              "count  227845.000000  227845.000000  227845.000000  227845.000000   \n",
              "mean        0.001336       0.000473      -0.000161       0.000165   \n",
              "std         0.605842       0.521631       0.481928       0.404762   \n",
              "min        -2.836627     -10.295397      -2.604551     -22.565679   \n",
              "25%        -0.354038      -0.316550      -0.327156      -0.070900   \n",
              "50%         0.042253       0.017417      -0.051862       0.001194   \n",
              "75%         0.441007       0.350871       0.240447       0.090606   \n",
              "max         4.584549       6.070850       3.517346      31.612198   \n",
              "\n",
              "                 V28         Amount          Class  \n",
              "count  227845.000000  227845.000000  227845.000000  \n",
              "mean       -0.000059      88.771219       0.001729  \n",
              "std         0.331608     253.068313       0.041548  \n",
              "min       -15.430084       0.000000       0.000000  \n",
              "25%        -0.052907       5.700000       0.000000  \n",
              "50%         0.011292      22.060000       0.000000  \n",
              "75%         0.078413      77.750000       0.000000  \n",
              "max        33.847808   25691.160000       1.000000  "
            ]
          },
          "metadata": {},
          "execution_count": 11
        }
      ]
    },
    {
      "cell_type": "markdown",
      "metadata": {
        "id": "3bSkfOIE9sPO"
      },
      "source": [
        "\n",
        "The V_n resemble PCA output.\n",
        "\n",
        "Stds are decreasing steadily with each V_n\n",
        "\n",
        "Means are very close to zero, but not exactly zero. They should be exactly zero for PCA. Perhaps they were exactly zero before we carved out a test set? (Verified: yes the features V1 thru V28 are the result of a PCA, run over all 284807 samples of original dataset)\n",
        "\n",
        "Most PCs do include some extreme outliers."
      ]
    },
    {
      "cell_type": "code",
      "metadata": {
        "colab": {
          "base_uri": "https://localhost:8080/",
          "height": 317
        },
        "id": "pu_qLFt-93vP",
        "outputId": "790205c0-ea82-4591-c5a7-63ea873075a5"
      },
      "source": [
        "tv_df[tv_df.Class==1].describe()"
      ],
      "execution_count": 12,
      "outputs": [
        {
          "output_type": "execute_result",
          "data": {
            "text/html": [
              "<div>\n",
              "<style scoped>\n",
              "    .dataframe tbody tr th:only-of-type {\n",
              "        vertical-align: middle;\n",
              "    }\n",
              "\n",
              "    .dataframe tbody tr th {\n",
              "        vertical-align: top;\n",
              "    }\n",
              "\n",
              "    .dataframe thead th {\n",
              "        text-align: right;\n",
              "    }\n",
              "</style>\n",
              "<table border=\"1\" class=\"dataframe\">\n",
              "  <thead>\n",
              "    <tr style=\"text-align: right;\">\n",
              "      <th></th>\n",
              "      <th>Time</th>\n",
              "      <th>V1</th>\n",
              "      <th>V2</th>\n",
              "      <th>V3</th>\n",
              "      <th>V4</th>\n",
              "      <th>V5</th>\n",
              "      <th>V6</th>\n",
              "      <th>V7</th>\n",
              "      <th>V8</th>\n",
              "      <th>V9</th>\n",
              "      <th>V10</th>\n",
              "      <th>V11</th>\n",
              "      <th>V12</th>\n",
              "      <th>V13</th>\n",
              "      <th>V14</th>\n",
              "      <th>V15</th>\n",
              "      <th>V16</th>\n",
              "      <th>V17</th>\n",
              "      <th>V18</th>\n",
              "      <th>V19</th>\n",
              "      <th>V20</th>\n",
              "      <th>V21</th>\n",
              "      <th>V22</th>\n",
              "      <th>V23</th>\n",
              "      <th>V24</th>\n",
              "      <th>V25</th>\n",
              "      <th>V26</th>\n",
              "      <th>V27</th>\n",
              "      <th>V28</th>\n",
              "      <th>Amount</th>\n",
              "      <th>Class</th>\n",
              "    </tr>\n",
              "  </thead>\n",
              "  <tbody>\n",
              "    <tr>\n",
              "      <th>count</th>\n",
              "      <td>394.000000</td>\n",
              "      <td>394.000000</td>\n",
              "      <td>394.000000</td>\n",
              "      <td>394.000000</td>\n",
              "      <td>394.000000</td>\n",
              "      <td>394.000000</td>\n",
              "      <td>394.000000</td>\n",
              "      <td>394.000000</td>\n",
              "      <td>394.000000</td>\n",
              "      <td>394.000000</td>\n",
              "      <td>394.000000</td>\n",
              "      <td>394.000000</td>\n",
              "      <td>394.000000</td>\n",
              "      <td>394.000000</td>\n",
              "      <td>394.000000</td>\n",
              "      <td>394.000000</td>\n",
              "      <td>394.000000</td>\n",
              "      <td>394.000000</td>\n",
              "      <td>394.000000</td>\n",
              "      <td>394.000000</td>\n",
              "      <td>394.000000</td>\n",
              "      <td>394.000000</td>\n",
              "      <td>394.000000</td>\n",
              "      <td>394.000000</td>\n",
              "      <td>394.000000</td>\n",
              "      <td>394.000000</td>\n",
              "      <td>394.000000</td>\n",
              "      <td>394.000000</td>\n",
              "      <td>394.000000</td>\n",
              "      <td>394.000000</td>\n",
              "      <td>394.0</td>\n",
              "    </tr>\n",
              "    <tr>\n",
              "      <th>mean</th>\n",
              "      <td>81398.664975</td>\n",
              "      <td>-4.844204</td>\n",
              "      <td>3.702045</td>\n",
              "      <td>-7.103359</td>\n",
              "      <td>4.513672</td>\n",
              "      <td>-3.215601</td>\n",
              "      <td>-1.377679</td>\n",
              "      <td>-5.697448</td>\n",
              "      <td>0.294716</td>\n",
              "      <td>-2.582508</td>\n",
              "      <td>-5.728446</td>\n",
              "      <td>3.757555</td>\n",
              "      <td>-6.193830</td>\n",
              "      <td>-0.145069</td>\n",
              "      <td>-6.954490</td>\n",
              "      <td>-0.059050</td>\n",
              "      <td>-4.140517</td>\n",
              "      <td>-6.611233</td>\n",
              "      <td>-2.238158</td>\n",
              "      <td>0.663064</td>\n",
              "      <td>0.405860</td>\n",
              "      <td>0.743573</td>\n",
              "      <td>-0.001732</td>\n",
              "      <td>-0.011422</td>\n",
              "      <td>-0.091423</td>\n",
              "      <td>0.044757</td>\n",
              "      <td>0.040487</td>\n",
              "      <td>0.148092</td>\n",
              "      <td>0.082279</td>\n",
              "      <td>123.427056</td>\n",
              "      <td>1.0</td>\n",
              "    </tr>\n",
              "    <tr>\n",
              "      <th>std</th>\n",
              "      <td>48070.059166</td>\n",
              "      <td>6.905678</td>\n",
              "      <td>4.401831</td>\n",
              "      <td>7.129159</td>\n",
              "      <td>2.825324</td>\n",
              "      <td>5.377178</td>\n",
              "      <td>1.910775</td>\n",
              "      <td>7.454604</td>\n",
              "      <td>7.314756</td>\n",
              "      <td>2.567686</td>\n",
              "      <td>4.926100</td>\n",
              "      <td>2.626405</td>\n",
              "      <td>4.520800</td>\n",
              "      <td>1.128695</td>\n",
              "      <td>4.162451</td>\n",
              "      <td>1.067186</td>\n",
              "      <td>3.822012</td>\n",
              "      <td>6.935905</td>\n",
              "      <td>2.888515</td>\n",
              "      <td>1.565038</td>\n",
              "      <td>1.435602</td>\n",
              "      <td>4.276761</td>\n",
              "      <td>1.615337</td>\n",
              "      <td>1.511172</td>\n",
              "      <td>0.513911</td>\n",
              "      <td>0.788806</td>\n",
              "      <td>0.473072</td>\n",
              "      <td>1.428180</td>\n",
              "      <td>0.538650</td>\n",
              "      <td>265.931222</td>\n",
              "      <td>0.0</td>\n",
              "    </tr>\n",
              "    <tr>\n",
              "      <th>min</th>\n",
              "      <td>406.000000</td>\n",
              "      <td>-30.552380</td>\n",
              "      <td>-7.449015</td>\n",
              "      <td>-31.103685</td>\n",
              "      <td>-1.313275</td>\n",
              "      <td>-22.105532</td>\n",
              "      <td>-6.406267</td>\n",
              "      <td>-43.557242</td>\n",
              "      <td>-41.044261</td>\n",
              "      <td>-13.434066</td>\n",
              "      <td>-24.588262</td>\n",
              "      <td>-1.702228</td>\n",
              "      <td>-18.683715</td>\n",
              "      <td>-3.127795</td>\n",
              "      <td>-19.214325</td>\n",
              "      <td>-4.498945</td>\n",
              "      <td>-14.129855</td>\n",
              "      <td>-24.019099</td>\n",
              "      <td>-9.335193</td>\n",
              "      <td>-3.681904</td>\n",
              "      <td>-4.128186</td>\n",
              "      <td>-22.797604</td>\n",
              "      <td>-8.887017</td>\n",
              "      <td>-19.254328</td>\n",
              "      <td>-2.028024</td>\n",
              "      <td>-4.781606</td>\n",
              "      <td>-1.152671</td>\n",
              "      <td>-7.263482</td>\n",
              "      <td>-1.552593</td>\n",
              "      <td>0.000000</td>\n",
              "      <td>1.0</td>\n",
              "    </tr>\n",
              "    <tr>\n",
              "      <th>25%</th>\n",
              "      <td>41234.000000</td>\n",
              "      <td>-6.185857</td>\n",
              "      <td>1.218545</td>\n",
              "      <td>-8.586704</td>\n",
              "      <td>2.400206</td>\n",
              "      <td>-4.801176</td>\n",
              "      <td>-2.484426</td>\n",
              "      <td>-7.903402</td>\n",
              "      <td>-0.230744</td>\n",
              "      <td>-3.877669</td>\n",
              "      <td>-7.520666</td>\n",
              "      <td>2.061138</td>\n",
              "      <td>-8.654537</td>\n",
              "      <td>-1.016123</td>\n",
              "      <td>-9.398537</td>\n",
              "      <td>-0.598972</td>\n",
              "      <td>-6.551650</td>\n",
              "      <td>-12.072373</td>\n",
              "      <td>-4.629082</td>\n",
              "      <td>-0.383447</td>\n",
              "      <td>-0.171591</td>\n",
              "      <td>0.098377</td>\n",
              "      <td>-0.541855</td>\n",
              "      <td>-0.344701</td>\n",
              "      <td>-0.415312</td>\n",
              "      <td>-0.312004</td>\n",
              "      <td>-0.263161</td>\n",
              "      <td>-0.017603</td>\n",
              "      <td>-0.104948</td>\n",
              "      <td>1.000000</td>\n",
              "      <td>1.0</td>\n",
              "    </tr>\n",
              "    <tr>\n",
              "      <th>50%</th>\n",
              "      <td>74921.500000</td>\n",
              "      <td>-2.352844</td>\n",
              "      <td>2.720177</td>\n",
              "      <td>-5.075257</td>\n",
              "      <td>4.187495</td>\n",
              "      <td>-1.621234</td>\n",
              "      <td>-1.431912</td>\n",
              "      <td>-3.044264</td>\n",
              "      <td>0.568659</td>\n",
              "      <td>-2.133707</td>\n",
              "      <td>-4.556094</td>\n",
              "      <td>3.586609</td>\n",
              "      <td>-5.434170</td>\n",
              "      <td>-0.117313</td>\n",
              "      <td>-6.789141</td>\n",
              "      <td>-0.034679</td>\n",
              "      <td>-3.626171</td>\n",
              "      <td>-5.287250</td>\n",
              "      <td>-1.695375</td>\n",
              "      <td>0.600661</td>\n",
              "      <td>0.304766</td>\n",
              "      <td>0.602709</td>\n",
              "      <td>0.038201</td>\n",
              "      <td>-0.068174</td>\n",
              "      <td>-0.031239</td>\n",
              "      <td>0.082519</td>\n",
              "      <td>-0.006489</td>\n",
              "      <td>0.404371</td>\n",
              "      <td>0.150454</td>\n",
              "      <td>9.170000</td>\n",
              "      <td>1.0</td>\n",
              "    </tr>\n",
              "    <tr>\n",
              "      <th>75%</th>\n",
              "      <td>128576.000000</td>\n",
              "      <td>-0.357602</td>\n",
              "      <td>4.950132</td>\n",
              "      <td>-2.476831</td>\n",
              "      <td>6.245229</td>\n",
              "      <td>0.201776</td>\n",
              "      <td>-0.450849</td>\n",
              "      <td>-0.981932</td>\n",
              "      <td>1.706456</td>\n",
              "      <td>-0.777500</td>\n",
              "      <td>-2.743685</td>\n",
              "      <td>5.205445</td>\n",
              "      <td>-3.013519</td>\n",
              "      <td>0.678863</td>\n",
              "      <td>-4.347369</td>\n",
              "      <td>0.666365</td>\n",
              "      <td>-1.253042</td>\n",
              "      <td>-1.322019</td>\n",
              "      <td>0.058868</td>\n",
              "      <td>1.662803</td>\n",
              "      <td>0.820768</td>\n",
              "      <td>1.319726</td>\n",
              "      <td>0.623456</td>\n",
              "      <td>0.307290</td>\n",
              "      <td>0.283599</td>\n",
              "      <td>0.457364</td>\n",
              "      <td>0.399143</td>\n",
              "      <td>0.828718</td>\n",
              "      <td>0.382448</td>\n",
              "      <td>105.890000</td>\n",
              "      <td>1.0</td>\n",
              "    </tr>\n",
              "    <tr>\n",
              "      <th>max</th>\n",
              "      <td>170348.000000</td>\n",
              "      <td>2.132386</td>\n",
              "      <td>22.057729</td>\n",
              "      <td>2.250210</td>\n",
              "      <td>12.114672</td>\n",
              "      <td>6.198304</td>\n",
              "      <td>6.474115</td>\n",
              "      <td>5.431271</td>\n",
              "      <td>20.007208</td>\n",
              "      <td>3.353525</td>\n",
              "      <td>3.245086</td>\n",
              "      <td>12.018913</td>\n",
              "      <td>1.237773</td>\n",
              "      <td>2.815440</td>\n",
              "      <td>1.571080</td>\n",
              "      <td>2.471358</td>\n",
              "      <td>3.139656</td>\n",
              "      <td>6.739384</td>\n",
              "      <td>3.790316</td>\n",
              "      <td>5.228342</td>\n",
              "      <td>11.059004</td>\n",
              "      <td>27.202839</td>\n",
              "      <td>8.361985</td>\n",
              "      <td>5.466230</td>\n",
              "      <td>1.091435</td>\n",
              "      <td>2.208209</td>\n",
              "      <td>2.745261</td>\n",
              "      <td>3.052358</td>\n",
              "      <td>1.773326</td>\n",
              "      <td>2125.870000</td>\n",
              "      <td>1.0</td>\n",
              "    </tr>\n",
              "  </tbody>\n",
              "</table>\n",
              "</div>"
            ],
            "text/plain": [
              "                Time          V1          V2          V3          V4  \\\n",
              "count     394.000000  394.000000  394.000000  394.000000  394.000000   \n",
              "mean    81398.664975   -4.844204    3.702045   -7.103359    4.513672   \n",
              "std     48070.059166    6.905678    4.401831    7.129159    2.825324   \n",
              "min       406.000000  -30.552380   -7.449015  -31.103685   -1.313275   \n",
              "25%     41234.000000   -6.185857    1.218545   -8.586704    2.400206   \n",
              "50%     74921.500000   -2.352844    2.720177   -5.075257    4.187495   \n",
              "75%    128576.000000   -0.357602    4.950132   -2.476831    6.245229   \n",
              "max    170348.000000    2.132386   22.057729    2.250210   12.114672   \n",
              "\n",
              "               V5          V6          V7          V8          V9         V10  \\\n",
              "count  394.000000  394.000000  394.000000  394.000000  394.000000  394.000000   \n",
              "mean    -3.215601   -1.377679   -5.697448    0.294716   -2.582508   -5.728446   \n",
              "std      5.377178    1.910775    7.454604    7.314756    2.567686    4.926100   \n",
              "min    -22.105532   -6.406267  -43.557242  -41.044261  -13.434066  -24.588262   \n",
              "25%     -4.801176   -2.484426   -7.903402   -0.230744   -3.877669   -7.520666   \n",
              "50%     -1.621234   -1.431912   -3.044264    0.568659   -2.133707   -4.556094   \n",
              "75%      0.201776   -0.450849   -0.981932    1.706456   -0.777500   -2.743685   \n",
              "max      6.198304    6.474115    5.431271   20.007208    3.353525    3.245086   \n",
              "\n",
              "              V11         V12         V13         V14         V15         V16  \\\n",
              "count  394.000000  394.000000  394.000000  394.000000  394.000000  394.000000   \n",
              "mean     3.757555   -6.193830   -0.145069   -6.954490   -0.059050   -4.140517   \n",
              "std      2.626405    4.520800    1.128695    4.162451    1.067186    3.822012   \n",
              "min     -1.702228  -18.683715   -3.127795  -19.214325   -4.498945  -14.129855   \n",
              "25%      2.061138   -8.654537   -1.016123   -9.398537   -0.598972   -6.551650   \n",
              "50%      3.586609   -5.434170   -0.117313   -6.789141   -0.034679   -3.626171   \n",
              "75%      5.205445   -3.013519    0.678863   -4.347369    0.666365   -1.253042   \n",
              "max     12.018913    1.237773    2.815440    1.571080    2.471358    3.139656   \n",
              "\n",
              "              V17         V18         V19         V20         V21         V22  \\\n",
              "count  394.000000  394.000000  394.000000  394.000000  394.000000  394.000000   \n",
              "mean    -6.611233   -2.238158    0.663064    0.405860    0.743573   -0.001732   \n",
              "std      6.935905    2.888515    1.565038    1.435602    4.276761    1.615337   \n",
              "min    -24.019099   -9.335193   -3.681904   -4.128186  -22.797604   -8.887017   \n",
              "25%    -12.072373   -4.629082   -0.383447   -0.171591    0.098377   -0.541855   \n",
              "50%     -5.287250   -1.695375    0.600661    0.304766    0.602709    0.038201   \n",
              "75%     -1.322019    0.058868    1.662803    0.820768    1.319726    0.623456   \n",
              "max      6.739384    3.790316    5.228342   11.059004   27.202839    8.361985   \n",
              "\n",
              "              V23         V24         V25         V26         V27         V28  \\\n",
              "count  394.000000  394.000000  394.000000  394.000000  394.000000  394.000000   \n",
              "mean    -0.011422   -0.091423    0.044757    0.040487    0.148092    0.082279   \n",
              "std      1.511172    0.513911    0.788806    0.473072    1.428180    0.538650   \n",
              "min    -19.254328   -2.028024   -4.781606   -1.152671   -7.263482   -1.552593   \n",
              "25%     -0.344701   -0.415312   -0.312004   -0.263161   -0.017603   -0.104948   \n",
              "50%     -0.068174   -0.031239    0.082519   -0.006489    0.404371    0.150454   \n",
              "75%      0.307290    0.283599    0.457364    0.399143    0.828718    0.382448   \n",
              "max      5.466230    1.091435    2.208209    2.745261    3.052358    1.773326   \n",
              "\n",
              "            Amount  Class  \n",
              "count   394.000000  394.0  \n",
              "mean    123.427056    1.0  \n",
              "std     265.931222    0.0  \n",
              "min       0.000000    1.0  \n",
              "25%       1.000000    1.0  \n",
              "50%       9.170000    1.0  \n",
              "75%     105.890000    1.0  \n",
              "max    2125.870000    1.0  "
            ]
          },
          "metadata": {},
          "execution_count": 12
        }
      ]
    },
    {
      "cell_type": "markdown",
      "metadata": {
        "id": "sncN-fA5B2gs"
      },
      "source": [
        "Descriptive stats for the fraud points look very different than for the legit transactions. Many of the PCs have fraud means multiple stdevs away from legit means.\n",
        "\n",
        "Let's see which PC fraud means are the most legit stdevs away from the legit means"
      ]
    },
    {
      "cell_type": "code",
      "metadata": {
        "id": "Z2cugAkbB57q"
      },
      "source": [
        "tv0 = tv_df[tv_df.Class==0]\n",
        "tv1 = tv_df[tv_df.Class==1]"
      ],
      "execution_count": 13,
      "outputs": []
    },
    {
      "cell_type": "code",
      "metadata": {
        "colab": {
          "base_uri": "https://localhost:8080/"
        },
        "id": "dU7d1A6oB9jk",
        "outputId": "a9ee0fb8-79e0-4cd0-a53f-82d4dcddab54"
      },
      "source": [
        "describe_tv0 = tv0.describe()\n",
        "describe_tv1 = tv1.describe()\n",
        "relative_zBAR = (describe_tv1.loc['mean'] - describe_tv0.loc['mean']) / describe_tv0.loc['std']\n",
        "print(relative_zBAR.sort_values())"
      ],
      "execution_count": 14,
      "outputs": [
        {
          "output_type": "stream",
          "name": "stdout",
          "text": [
            "V17      -8.831453\n",
            "V14      -7.754993\n",
            "V12      -6.570144\n",
            "V10      -5.490377\n",
            "V16      -4.906965\n",
            "V3       -4.858184\n",
            "V7       -4.814204\n",
            "V18      -2.715582\n",
            "V1       -2.504193\n",
            "V9       -2.372691\n",
            "V5       -2.365321\n",
            "V6       -1.037235\n",
            "Time     -0.283508\n",
            "V24      -0.153340\n",
            "V13      -0.146305\n",
            "V15      -0.064568\n",
            "V23      -0.018492\n",
            "V22      -0.002847\n",
            "V26       0.084488\n",
            "V25       0.085139\n",
            "Amount    0.137194\n",
            "V28       0.249094\n",
            "V8        0.256279\n",
            "V27       0.369817\n",
            "V20       0.522450\n",
            "V19       0.817435\n",
            "V21       1.036548\n",
            "V2        2.252911\n",
            "V4        3.228128\n",
            "V11       3.754541\n",
            "Class          inf\n",
            "dtype: float64\n"
          ]
        }
      ]
    },
    {
      "cell_type": "markdown",
      "metadata": {
        "id": "fPdYPzbRCO82"
      },
      "source": [
        "\n",
        "Strongly separated features include V17, V14, V12, V10 (Class of course gives inf)\n",
        "\n",
        "The only two interpretable features (Time and Amount) fail to stand out on summary stats alone."
      ]
    },
    {
      "cell_type": "markdown",
      "metadata": {
        "id": "ix1-gcyACR48"
      },
      "source": [
        "\n",
        "# **Exploration: Univariate**\n",
        "Let's view each data field as a time series. See if and how class differences present themselves visually."
      ]
    },
    {
      "cell_type": "code",
      "metadata": {
        "id": "ZjzBbe2wCPb-"
      },
      "source": [
        "\n",
        "# Amount column will be easiest to view on a log scale:\n",
        "def seriesTransform(df0,colName,myFloor=0.001):\n",
        "    if (colName=='Amount'):\n",
        "        return(np.log10(df0[colName].apply(lambda x: max(x,myFloor))))\n",
        "    else:\n",
        "        return(df0[colName])"
      ],
      "execution_count": 15,
      "outputs": []
    },
    {
      "cell_type": "code",
      "metadata": {
        "id": "LSo7dwk4CgmM"
      },
      "source": [
        "def plotImbalancedSeries(X,y,field,options=None):\n",
        "    if (options is None):\n",
        "        options = {'colors':[[0,0,0],[1,0,0]]}\n",
        "    plt.plot(seriesTransform(X[y==0],field),'.',color=options['colors'][0])\n",
        "    plt.plot(seriesTransform(X[y==1],field),'.',color=options['colors'][1])\n",
        "    plt.ylabel(field)\n",
        "    plt.xlabel('index')\n",
        "    plt.show()"
      ],
      "execution_count": 16,
      "outputs": []
    },
    {
      "cell_type": "code",
      "metadata": {
        "colab": {
          "base_uri": "https://localhost:8080/",
          "height": 279
        },
        "id": "dDlDhv77Cj1d",
        "outputId": "12215d94-e4ad-4cd9-dc52-0263f4de93cf"
      },
      "source": [
        "plotImbalancedSeries(X_tv,y_tv,'Time')"
      ],
      "execution_count": 17,
      "outputs": [
        {
          "output_type": "display_data",
          "data": {
            "image/png": "[encoded data removed]",
            "text/plain": [
              "<Figure size 432x288 with 1 Axes>"
            ]
          },
          "metadata": {
            "needs_background": "light"
          }
        }
      ]
    },
    {
      "cell_type": "code",
      "metadata": {
        "colab": {
          "base_uri": "https://localhost:8080/",
          "height": 279
        },
        "id": "-06a10W4Co1z",
        "outputId": "a94140c4-e1dd-4ee8-9a86-42282a822a0e"
      },
      "source": [
        "plotImbalancedSeries(X_tv,y_tv,'V1')"
      ],
      "execution_count": 18,
      "outputs": [
        {
          "output_type": "display_data",
          "data": {
            "image/png": "[encoded data removed]",
            "text/plain": [
              "<Figure size 432x288 with 1 Axes>"
            ]
          },
          "metadata": {
            "needs_background": "light"
          }
        }
      ]
    },
    {
      "cell_type": "code",
      "metadata": {
        "colab": {
          "base_uri": "https://localhost:8080/",
          "height": 279
        },
        "id": "n0JhI0xlCsgR",
        "outputId": "5583d1a6-672f-41e2-9d68-2494e99de60d"
      },
      "source": [
        "plotImbalancedSeries(X_tv,y_tv,'V14')"
      ],
      "execution_count": 19,
      "outputs": [
        {
          "output_type": "display_data",
          "data": {
            "image/png": "[encoded data removed]",
            "text/plain": [
              "<Figure size 432x288 with 1 Axes>"
            ]
          },
          "metadata": {
            "needs_background": "light"
          }
        }
      ]
    },
    {
      "cell_type": "code",
      "metadata": {
        "colab": {
          "base_uri": "https://localhost:8080/",
          "height": 279
        },
        "id": "nlAdZsHQCvy9",
        "outputId": "6ab8afd6-13e7-472c-d3ef-777a1758c493"
      },
      "source": [
        "plotImbalancedSeries(X_tv,y_tv,'Amount')"
      ],
      "execution_count": 20,
      "outputs": [
        {
          "output_type": "display_data",
          "data": {
            "image/png": "[encoded data removed]",
            "text/plain": [
              "<Figure size 432x288 with 1 Axes>"
            ]
          },
          "metadata": {
            "needs_background": "light"
          }
        }
      ]
    }
  ]
}