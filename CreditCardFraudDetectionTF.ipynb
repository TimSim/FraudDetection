{
  "nbformat": 4,
  "nbformat_minor": 0,
  "metadata": {
    "colab": {
      "name": "CreditCardFraudDetectionTF.ipynb",
      "provenance": [],
      "collapsed_sections": [],
      "authorship_tag": "ABX9TyOr2L1/ecDHtDkC/IQY02Ut",
      "include_colab_link": true
    },
    "kernelspec": {
      "name": "python3",
      "display_name": "Python 3"
    },
    "language_info": {
      "name": "python"
    }
  },
  "cells": [
    {
      "cell_type": "markdown",
      "metadata": {
        "id": "view-in-github",
        "colab_type": "text"
      },
      "source": [
        "<a href=\"https://colab.research.google.com/github/TimSim/FraudDetection/blob/main/CreditCardFraudDetectionTF.ipynb\" target=\"_parent\"><img src=\"https://colab.research.google.com/assets/colab-badge.svg\" alt=\"Open In Colab\"/></a>"
      ]
    },
    {
      "cell_type": "markdown",
      "metadata": {
        "id": "0t-Ww-DyCx-1"
      },
      "source": [
        "The goal is to identify fraudulent credit card transactions using ML or Deep Learning models. Given the class imbalance ratio, we recommend measuring the accuracy using the Area Under the Precision-Recall Curve (AUPRC). Confusion matrix accuracy is not meaningful for unbalanced classification. We recommend using the TensorFlow tf.keras.metrics.AUC(curve='PR') as our performance and scoring metric.\n"
      ]
    },
    {
      "cell_type": "code",
      "metadata": {
        "id": "V_EvpLTzCds9"
      },
      "source": [
        "import numpy as np\n",
        "import pandas as pd\n",
        "from sklearn.model_selection import train_test_split\n",
        "%matplotlib inline\n",
        "import matplotlib\n",
        "#import seaborn as sns\n",
        "from matplotlib import pylab as plt\n",
        "plt.rcParams['figure.figsize'] = [10, 6]\n",
        "plt.rcParams['figure.dpi'] = 100\n",
        "plt.rcParams['agg.path.chunksize'] = 10000\n",
        "\n",
        "pd.set_option('display.max_columns', None)"
      ],
      "execution_count": 1,
      "outputs": []
    },
    {
      "cell_type": "code",
      "metadata": {
        "colab": {
          "base_uri": "https://localhost:8080/"
        },
        "id": "YgiXj35t5h9Y",
        "outputId": "2f758c6c-96a1-4319-e07f-6eb1f69036df"
      },
      "source": [
        "# Load the Drive helper and mount\n",
        "from google.colab import drive\n",
        "\n",
        "# This will prompt for authorization.\n",
        "drive.mount('/content/drive')"
      ],
      "execution_count": 2,
      "outputs": [
        {
          "output_type": "stream",
          "name": "stdout",
          "text": [
            "Go to this URL in a browser: https://accounts.google.com/o/oauth2/auth?client_id=947318989803-6bn6qk8qdgf4n4g3pfee6491hc0brc4i.apps.googleusercontent.com&redirect_uri=urn%3aietf%3awg%3aoauth%3a2.0%3aoob&scope=email%20https%3a%2f%2fwww.googleapis.com%2fauth%2fdocs.test%20https%3a%2f%2fwww.googleapis.com%2fauth%2fdrive%20https%3a%2f%2fwww.googleapis.com%2fauth%2fdrive.photos.readonly%20https%3a%2f%2fwww.googleapis.com%2fauth%2fpeopleapi.readonly%20https%3a%2f%2fwww.googleapis.com%2fauth%2fdrive.activity.readonly%20https%3a%2f%2fwww.googleapis.com%2fauth%2fexperimentsandconfigs%20https%3a%2f%2fwww.googleapis.com%2fauth%2fphotos.native&response_type=code\n",
            "\n",
            "Enter your authorization code:\n",
            "",
            "Mounted at /content/drive\n"
          ]
        }
      ]
    },
    {
      "cell_type": "code",
      "metadata": {
        "id": "dO6Edwz8Vz5l",
        "colab": {
          "base_uri": "https://localhost:8080/"
        },
        "outputId": "05cd9c8e-4cb9-4e0e-c1c1-6a8d629a2f0d"
      },
      "source": [
        "# After executing the cell above, Drive\n",
        "# files will be present in \"/content/drive/My Drive\".\n",
        "!ls -la \"/content/drive/My Drive/Colab Notebooks/data\""
      ],
      "execution_count": 3,
      "outputs": [
        {
          "output_type": "stream",
          "name": "stdout",
          "text": [
            "total 157245\n",
            "-rw------- 1 root root 150828752 Sep 19  2019 creditcard.csv\n",
            "-rw------- 1 root root  10188854 May  6  2019 Shakespeare_data.csv\n"
          ]
        }
      ]
    },
    {
      "cell_type": "markdown",
      "metadata": {
        "id": "PVfNs4iSz4TB"
      },
      "source": [
        "Credit Card data from https://www.kaggle.com/mlg-ulb/creditcardfraud\n"
      ]
    },
    {
      "cell_type": "code",
      "metadata": {
        "id": "tf-0G73dztCm"
      },
      "source": [
        "df = pd.read_csv('/content/drive/My Drive/Colab Notebooks/data/creditcard.csv')\n",
        "(tv_df,test_df) = train_test_split(df, stratify=df['Class'], test_size=0.2, random_state=51)"
      ],
      "execution_count": 4,
      "outputs": []
    },
    {
      "cell_type": "code",
      "metadata": {
        "id": "q-5sRUBp7LT8"
      },
      "source": [
        "# split the training data into training and validation:\n",
        "train_df, val_df = train_test_split(tv_df, stratify=tv_df['Class'], test_size=0.2, random_state=51)"
      ],
      "execution_count": 5,
      "outputs": []
    },
    {
      "cell_type": "code",
      "metadata": {
        "colab": {
          "base_uri": "https://localhost:8080/"
        },
        "id": "h1fbUv4-9iF1",
        "outputId": "2c44faff-d317-4e90-f2c6-87a67ba6b290"
      },
      "source": [
        "# Verify stratification:\n",
        "print((test_df.shape,df.shape,len(test_df)/len(df)))\n",
        "print((test_df.Class.sum(),df.Class.sum(),test_df.Class.sum()/df.Class.sum()))"
      ],
      "execution_count": 6,
      "outputs": [
        {
          "output_type": "stream",
          "name": "stdout",
          "text": [
            "((56962, 31), (284807, 31), 0.20000210668979343)\n",
            "(98, 492, 0.1991869918699187)\n"
          ]
        }
      ]
    },
    {
      "cell_type": "code",
      "metadata": {
        "id": "JuNZz0Rj9lMh"
      },
      "source": [
        "\n",
        "# separate class from features:\n",
        "(X_train,X_val,X_test,X_tv) = [DF.drop('Class',axis=1,inplace=False) for DF in [train_df,val_df,test_df,tv_df]]\n",
        "(y_train,y_val,y_test,y_tv) = [DF['Class'] for DF in [train_df,val_df,test_df,tv_df]]"
      ],
      "execution_count": 7,
      "outputs": []
    },
    {
      "cell_type": "code",
      "metadata": {
        "colab": {
          "base_uri": "https://localhost:8080/",
          "height": 317
        },
        "id": "Wp3SsKbF9tWt",
        "outputId": "216169c6-b2f8-4bc8-a02b-ecff2ce380fd"
      },
      "source": [
        "tv_df.describe()"
      ],
      "execution_count": 8,
      "outputs": [
        {
          "output_type": "execute_result",
          "data": {
            "text/html": [
              "<div>\n",
              "<style scoped>\n",
              "    .dataframe tbody tr th:only-of-type {\n",
              "        vertical-align: middle;\n",
              "    }\n",
              "\n",
              "    .dataframe tbody tr th {\n",
              "        vertical-align: top;\n",
              "    }\n",
              "\n",
              "    .dataframe thead th {\n",
              "        text-align: right;\n",
              "    }\n",
              "</style>\n",
              "<table border=\"1\" class=\"dataframe\">\n",
              "  <thead>\n",
              "    <tr style=\"text-align: right;\">\n",
              "      <th></th>\n",
              "      <th>Time</th>\n",
              "      <th>V1</th>\n",
              "      <th>V2</th>\n",
              "      <th>V3</th>\n",
              "      <th>V4</th>\n",
              "      <th>V5</th>\n",
              "      <th>V6</th>\n",
              "      <th>V7</th>\n",
              "      <th>V8</th>\n",
              "      <th>V9</th>\n",
              "      <th>V10</th>\n",
              "      <th>V11</th>\n",
              "      <th>V12</th>\n",
              "      <th>V13</th>\n",
              "      <th>V14</th>\n",
              "      <th>V15</th>\n",
              "      <th>V16</th>\n",
              "      <th>V17</th>\n",
              "      <th>V18</th>\n",
              "      <th>V19</th>\n",
              "      <th>V20</th>\n",
              "      <th>V21</th>\n",
              "      <th>V22</th>\n",
              "      <th>V23</th>\n",
              "      <th>V24</th>\n",
              "      <th>V25</th>\n",
              "      <th>V26</th>\n",
              "      <th>V27</th>\n",
              "      <th>V28</th>\n",
              "      <th>Amount</th>\n",
              "      <th>Class</th>\n",
              "    </tr>\n",
              "  </thead>\n",
              "  <tbody>\n",
              "    <tr>\n",
              "      <th>count</th>\n",
              "      <td>227845.000000</td>\n",
              "      <td>227845.000000</td>\n",
              "      <td>227845.000000</td>\n",
              "      <td>227845.000000</td>\n",
              "      <td>227845.000000</td>\n",
              "      <td>227845.000000</td>\n",
              "      <td>227845.000000</td>\n",
              "      <td>227845.000000</td>\n",
              "      <td>227845.000000</td>\n",
              "      <td>227845.000000</td>\n",
              "      <td>227845.000000</td>\n",
              "      <td>227845.000000</td>\n",
              "      <td>227845.000000</td>\n",
              "      <td>227845.000000</td>\n",
              "      <td>227845.000000</td>\n",
              "      <td>227845.000000</td>\n",
              "      <td>227845.000000</td>\n",
              "      <td>227845.000000</td>\n",
              "      <td>227845.000000</td>\n",
              "      <td>227845.000000</td>\n",
              "      <td>227845.000000</td>\n",
              "      <td>227845.000000</td>\n",
              "      <td>227845.000000</td>\n",
              "      <td>227845.000000</td>\n",
              "      <td>227845.000000</td>\n",
              "      <td>227845.000000</td>\n",
              "      <td>227845.000000</td>\n",
              "      <td>227845.000000</td>\n",
              "      <td>227845.000000</td>\n",
              "      <td>227845.000000</td>\n",
              "      <td>227845.000000</td>\n",
              "    </tr>\n",
              "    <tr>\n",
              "      <th>mean</th>\n",
              "      <td>94834.244666</td>\n",
              "      <td>-0.000429</td>\n",
              "      <td>-0.001766</td>\n",
              "      <td>-0.001021</td>\n",
              "      <td>0.000414</td>\n",
              "      <td>-0.000731</td>\n",
              "      <td>0.001989</td>\n",
              "      <td>0.001310</td>\n",
              "      <td>-0.001327</td>\n",
              "      <td>-0.000376</td>\n",
              "      <td>0.001597</td>\n",
              "      <td>0.000143</td>\n",
              "      <td>0.000581</td>\n",
              "      <td>0.000103</td>\n",
              "      <td>-0.001121</td>\n",
              "      <td>-0.000030</td>\n",
              "      <td>-0.000144</td>\n",
              "      <td>-0.000657</td>\n",
              "      <td>-0.000136</td>\n",
              "      <td>0.000653</td>\n",
              "      <td>0.000517</td>\n",
              "      <td>0.000100</td>\n",
              "      <td>0.000326</td>\n",
              "      <td>0.000070</td>\n",
              "      <td>0.001336</td>\n",
              "      <td>0.000473</td>\n",
              "      <td>-0.000161</td>\n",
              "      <td>0.000165</td>\n",
              "      <td>-0.000059</td>\n",
              "      <td>88.771219</td>\n",
              "      <td>0.001729</td>\n",
              "    </tr>\n",
              "    <tr>\n",
              "      <th>std</th>\n",
              "      <td>47476.822552</td>\n",
              "      <td>1.967426</td>\n",
              "      <td>1.662720</td>\n",
              "      <td>1.521840</td>\n",
              "      <td>1.416733</td>\n",
              "      <td>1.385033</td>\n",
              "      <td>1.334890</td>\n",
              "      <td>1.247306</td>\n",
              "      <td>1.195472</td>\n",
              "      <td>1.099686</td>\n",
              "      <td>1.090792</td>\n",
              "      <td>1.019617</td>\n",
              "      <td>0.996069</td>\n",
              "      <td>0.994237</td>\n",
              "      <td>0.958634</td>\n",
              "      <td>0.915960</td>\n",
              "      <td>0.876402</td>\n",
              "      <td>0.848492</td>\n",
              "      <td>0.838721</td>\n",
              "      <td>0.814122</td>\n",
              "      <td>0.778989</td>\n",
              "      <td>0.740174</td>\n",
              "      <td>0.726675</td>\n",
              "      <td>0.625204</td>\n",
              "      <td>0.605842</td>\n",
              "      <td>0.521631</td>\n",
              "      <td>0.481928</td>\n",
              "      <td>0.404762</td>\n",
              "      <td>0.331608</td>\n",
              "      <td>253.068313</td>\n",
              "      <td>0.041548</td>\n",
              "    </tr>\n",
              "    <tr>\n",
              "      <th>min</th>\n",
              "      <td>0.000000</td>\n",
              "      <td>-56.407510</td>\n",
              "      <td>-72.715728</td>\n",
              "      <td>-48.325589</td>\n",
              "      <td>-5.683171</td>\n",
              "      <td>-113.743307</td>\n",
              "      <td>-26.160506</td>\n",
              "      <td>-43.557242</td>\n",
              "      <td>-50.688419</td>\n",
              "      <td>-13.434066</td>\n",
              "      <td>-24.588262</td>\n",
              "      <td>-4.797473</td>\n",
              "      <td>-18.683715</td>\n",
              "      <td>-4.008640</td>\n",
              "      <td>-19.214325</td>\n",
              "      <td>-4.498945</td>\n",
              "      <td>-14.129855</td>\n",
              "      <td>-24.019099</td>\n",
              "      <td>-9.335193</td>\n",
              "      <td>-7.213527</td>\n",
              "      <td>-54.497720</td>\n",
              "      <td>-22.889347</td>\n",
              "      <td>-10.933144</td>\n",
              "      <td>-44.807735</td>\n",
              "      <td>-2.836627</td>\n",
              "      <td>-10.295397</td>\n",
              "      <td>-2.604551</td>\n",
              "      <td>-22.565679</td>\n",
              "      <td>-15.430084</td>\n",
              "      <td>0.000000</td>\n",
              "      <td>0.000000</td>\n",
              "    </tr>\n",
              "    <tr>\n",
              "      <th>25%</th>\n",
              "      <td>54246.000000</td>\n",
              "      <td>-0.919893</td>\n",
              "      <td>-0.599011</td>\n",
              "      <td>-0.890786</td>\n",
              "      <td>-0.847792</td>\n",
              "      <td>-0.691670</td>\n",
              "      <td>-0.766960</td>\n",
              "      <td>-0.553506</td>\n",
              "      <td>-0.208716</td>\n",
              "      <td>-0.644858</td>\n",
              "      <td>-0.533726</td>\n",
              "      <td>-0.761618</td>\n",
              "      <td>-0.405820</td>\n",
              "      <td>-0.647725</td>\n",
              "      <td>-0.427788</td>\n",
              "      <td>-0.582582</td>\n",
              "      <td>-0.467742</td>\n",
              "      <td>-0.484224</td>\n",
              "      <td>-0.499053</td>\n",
              "      <td>-0.454887</td>\n",
              "      <td>-0.211660</td>\n",
              "      <td>-0.228192</td>\n",
              "      <td>-0.542369</td>\n",
              "      <td>-0.161836</td>\n",
              "      <td>-0.354038</td>\n",
              "      <td>-0.316550</td>\n",
              "      <td>-0.327156</td>\n",
              "      <td>-0.070900</td>\n",
              "      <td>-0.052907</td>\n",
              "      <td>5.700000</td>\n",
              "      <td>0.000000</td>\n",
              "    </tr>\n",
              "    <tr>\n",
              "      <th>50%</th>\n",
              "      <td>84691.000000</td>\n",
              "      <td>0.018846</td>\n",
              "      <td>0.063994</td>\n",
              "      <td>0.180546</td>\n",
              "      <td>-0.019239</td>\n",
              "      <td>-0.055925</td>\n",
              "      <td>-0.272083</td>\n",
              "      <td>0.041010</td>\n",
              "      <td>0.021875</td>\n",
              "      <td>-0.050596</td>\n",
              "      <td>-0.092371</td>\n",
              "      <td>-0.032355</td>\n",
              "      <td>0.139424</td>\n",
              "      <td>-0.013170</td>\n",
              "      <td>0.049538</td>\n",
              "      <td>0.047587</td>\n",
              "      <td>0.066979</td>\n",
              "      <td>-0.065487</td>\n",
              "      <td>-0.003826</td>\n",
              "      <td>0.004441</td>\n",
              "      <td>-0.062241</td>\n",
              "      <td>-0.029092</td>\n",
              "      <td>0.006740</td>\n",
              "      <td>-0.011021</td>\n",
              "      <td>0.042253</td>\n",
              "      <td>0.017417</td>\n",
              "      <td>-0.051862</td>\n",
              "      <td>0.001194</td>\n",
              "      <td>0.011292</td>\n",
              "      <td>22.060000</td>\n",
              "      <td>0.000000</td>\n",
              "    </tr>\n",
              "    <tr>\n",
              "      <th>75%</th>\n",
              "      <td>139340.000000</td>\n",
              "      <td>1.315404</td>\n",
              "      <td>0.802516</td>\n",
              "      <td>1.027751</td>\n",
              "      <td>0.743302</td>\n",
              "      <td>0.612093</td>\n",
              "      <td>0.399907</td>\n",
              "      <td>0.570426</td>\n",
              "      <td>0.325719</td>\n",
              "      <td>0.597298</td>\n",
              "      <td>0.454159</td>\n",
              "      <td>0.739493</td>\n",
              "      <td>0.618366</td>\n",
              "      <td>0.661789</td>\n",
              "      <td>0.492063</td>\n",
              "      <td>0.649629</td>\n",
              "      <td>0.521739</td>\n",
              "      <td>0.400064</td>\n",
              "      <td>0.501636</td>\n",
              "      <td>0.458616</td>\n",
              "      <td>0.134009</td>\n",
              "      <td>0.186476</td>\n",
              "      <td>0.529748</td>\n",
              "      <td>0.147667</td>\n",
              "      <td>0.441007</td>\n",
              "      <td>0.350871</td>\n",
              "      <td>0.240447</td>\n",
              "      <td>0.090606</td>\n",
              "      <td>0.078413</td>\n",
              "      <td>77.750000</td>\n",
              "      <td>0.000000</td>\n",
              "    </tr>\n",
              "    <tr>\n",
              "      <th>max</th>\n",
              "      <td>172788.000000</td>\n",
              "      <td>2.451888</td>\n",
              "      <td>22.057729</td>\n",
              "      <td>9.382558</td>\n",
              "      <td>16.875344</td>\n",
              "      <td>34.801666</td>\n",
              "      <td>73.301626</td>\n",
              "      <td>120.589494</td>\n",
              "      <td>20.007208</td>\n",
              "      <td>15.594995</td>\n",
              "      <td>23.745136</td>\n",
              "      <td>12.018913</td>\n",
              "      <td>4.846452</td>\n",
              "      <td>7.126883</td>\n",
              "      <td>7.754599</td>\n",
              "      <td>8.877742</td>\n",
              "      <td>17.315112</td>\n",
              "      <td>9.253526</td>\n",
              "      <td>5.041069</td>\n",
              "      <td>5.572113</td>\n",
              "      <td>39.420904</td>\n",
              "      <td>27.202839</td>\n",
              "      <td>8.361985</td>\n",
              "      <td>22.528412</td>\n",
              "      <td>4.584549</td>\n",
              "      <td>6.070850</td>\n",
              "      <td>3.517346</td>\n",
              "      <td>31.612198</td>\n",
              "      <td>33.847808</td>\n",
              "      <td>25691.160000</td>\n",
              "      <td>1.000000</td>\n",
              "    </tr>\n",
              "  </tbody>\n",
              "</table>\n",
              "</div>"
            ],
            "text/plain": [
              "                Time             V1             V2             V3  \\\n",
              "count  227845.000000  227845.000000  227845.000000  227845.000000   \n",
              "mean    94834.244666      -0.000429      -0.001766      -0.001021   \n",
              "std     47476.822552       1.967426       1.662720       1.521840   \n",
              "min         0.000000     -56.407510     -72.715728     -48.325589   \n",
              "25%     54246.000000      -0.919893      -0.599011      -0.890786   \n",
              "50%     84691.000000       0.018846       0.063994       0.180546   \n",
              "75%    139340.000000       1.315404       0.802516       1.027751   \n",
              "max    172788.000000       2.451888      22.057729       9.382558   \n",
              "\n",
              "                  V4             V5             V6             V7  \\\n",
              "count  227845.000000  227845.000000  227845.000000  227845.000000   \n",
              "mean        0.000414      -0.000731       0.001989       0.001310   \n",
              "std         1.416733       1.385033       1.334890       1.247306   \n",
              "min        -5.683171    -113.743307     -26.160506     -43.557242   \n",
              "25%        -0.847792      -0.691670      -0.766960      -0.553506   \n",
              "50%        -0.019239      -0.055925      -0.272083       0.041010   \n",
              "75%         0.743302       0.612093       0.399907       0.570426   \n",
              "max        16.875344      34.801666      73.301626     120.589494   \n",
              "\n",
              "                  V8             V9            V10            V11  \\\n",
              "count  227845.000000  227845.000000  227845.000000  227845.000000   \n",
              "mean       -0.001327      -0.000376       0.001597       0.000143   \n",
              "std         1.195472       1.099686       1.090792       1.019617   \n",
              "min       -50.688419     -13.434066     -24.588262      -4.797473   \n",
              "25%        -0.208716      -0.644858      -0.533726      -0.761618   \n",
              "50%         0.021875      -0.050596      -0.092371      -0.032355   \n",
              "75%         0.325719       0.597298       0.454159       0.739493   \n",
              "max        20.007208      15.594995      23.745136      12.018913   \n",
              "\n",
              "                 V12            V13            V14            V15  \\\n",
              "count  227845.000000  227845.000000  227845.000000  227845.000000   \n",
              "mean        0.000581       0.000103      -0.001121      -0.000030   \n",
              "std         0.996069       0.994237       0.958634       0.915960   \n",
              "min       -18.683715      -4.008640     -19.214325      -4.498945   \n",
              "25%        -0.405820      -0.647725      -0.427788      -0.582582   \n",
              "50%         0.139424      -0.013170       0.049538       0.047587   \n",
              "75%         0.618366       0.661789       0.492063       0.649629   \n",
              "max         4.846452       7.126883       7.754599       8.877742   \n",
              "\n",
              "                 V16            V17            V18            V19  \\\n",
              "count  227845.000000  227845.000000  227845.000000  227845.000000   \n",
              "mean       -0.000144      -0.000657      -0.000136       0.000653   \n",
              "std         0.876402       0.848492       0.838721       0.814122   \n",
              "min       -14.129855     -24.019099      -9.335193      -7.213527   \n",
              "25%        -0.467742      -0.484224      -0.499053      -0.454887   \n",
              "50%         0.066979      -0.065487      -0.003826       0.004441   \n",
              "75%         0.521739       0.400064       0.501636       0.458616   \n",
              "max        17.315112       9.253526       5.041069       5.572113   \n",
              "\n",
              "                 V20            V21            V22            V23  \\\n",
              "count  227845.000000  227845.000000  227845.000000  227845.000000   \n",
              "mean        0.000517       0.000100       0.000326       0.000070   \n",
              "std         0.778989       0.740174       0.726675       0.625204   \n",
              "min       -54.497720     -22.889347     -10.933144     -44.807735   \n",
              "25%        -0.211660      -0.228192      -0.542369      -0.161836   \n",
              "50%        -0.062241      -0.029092       0.006740      -0.011021   \n",
              "75%         0.134009       0.186476       0.529748       0.147667   \n",
              "max        39.420904      27.202839       8.361985      22.528412   \n",
              "\n",
              "                 V24            V25            V26            V27  \\\n",
              "count  227845.000000  227845.000000  227845.000000  227845.000000   \n",
              "mean        0.001336       0.000473      -0.000161       0.000165   \n",
              "std         0.605842       0.521631       0.481928       0.404762   \n",
              "min        -2.836627     -10.295397      -2.604551     -22.565679   \n",
              "25%        -0.354038      -0.316550      -0.327156      -0.070900   \n",
              "50%         0.042253       0.017417      -0.051862       0.001194   \n",
              "75%         0.441007       0.350871       0.240447       0.090606   \n",
              "max         4.584549       6.070850       3.517346      31.612198   \n",
              "\n",
              "                 V28         Amount          Class  \n",
              "count  227845.000000  227845.000000  227845.000000  \n",
              "mean       -0.000059      88.771219       0.001729  \n",
              "std         0.331608     253.068313       0.041548  \n",
              "min       -15.430084       0.000000       0.000000  \n",
              "25%        -0.052907       5.700000       0.000000  \n",
              "50%         0.011292      22.060000       0.000000  \n",
              "75%         0.078413      77.750000       0.000000  \n",
              "max        33.847808   25691.160000       1.000000  "
            ]
          },
          "metadata": {},
          "execution_count": 8
        }
      ]
    },
    {
      "cell_type": "markdown",
      "metadata": {
        "id": "3bSkfOIE9sPO"
      },
      "source": [
        "\n",
        "This dataset is 227845 datapoints after we removed 20% for testing.<br>\n",
        "Features are labeled V and a number and are black box features (we don't know economic or other meaning of them). They are a result of a Principal Component Reduction. (features V1 thru V28 are the result of a PCA, run over all 284807 samples of original dataset).<br>\n",
        "Time is time elapsed in seconds since the beggining of the dataset. \n",
        "Amount amount of transaction. \n",
        "The V_n resemble PCA output.\n",
        "\n",
        "Stds are decreasing steadily with each V_n\n",
        "\n",
        "Means are very close to zero, but not exactly zero. They should be exactly zero for PCA. Perhaps they were exactly zero before we carved out a test set? \n",
        "\n",
        "Most PCs do include some extreme outliers."
      ]
    },
    {
      "cell_type": "code",
      "metadata": {
        "colab": {
          "base_uri": "https://localhost:8080/",
          "height": 317
        },
        "id": "pu_qLFt-93vP",
        "outputId": "84839ddf-5ddc-4ee6-ce00-c58760d5ce39"
      },
      "source": [
        "tv_df[tv_df.Class==1].describe()"
      ],
      "execution_count": 9,
      "outputs": [
        {
          "output_type": "execute_result",
          "data": {
            "text/html": [
              "<div>\n",
              "<style scoped>\n",
              "    .dataframe tbody tr th:only-of-type {\n",
              "        vertical-align: middle;\n",
              "    }\n",
              "\n",
              "    .dataframe tbody tr th {\n",
              "        vertical-align: top;\n",
              "    }\n",
              "\n",
              "    .dataframe thead th {\n",
              "        text-align: right;\n",
              "    }\n",
              "</style>\n",
              "<table border=\"1\" class=\"dataframe\">\n",
              "  <thead>\n",
              "    <tr style=\"text-align: right;\">\n",
              "      <th></th>\n",
              "      <th>Time</th>\n",
              "      <th>V1</th>\n",
              "      <th>V2</th>\n",
              "      <th>V3</th>\n",
              "      <th>V4</th>\n",
              "      <th>V5</th>\n",
              "      <th>V6</th>\n",
              "      <th>V7</th>\n",
              "      <th>V8</th>\n",
              "      <th>V9</th>\n",
              "      <th>V10</th>\n",
              "      <th>V11</th>\n",
              "      <th>V12</th>\n",
              "      <th>V13</th>\n",
              "      <th>V14</th>\n",
              "      <th>V15</th>\n",
              "      <th>V16</th>\n",
              "      <th>V17</th>\n",
              "      <th>V18</th>\n",
              "      <th>V19</th>\n",
              "      <th>V20</th>\n",
              "      <th>V21</th>\n",
              "      <th>V22</th>\n",
              "      <th>V23</th>\n",
              "      <th>V24</th>\n",
              "      <th>V25</th>\n",
              "      <th>V26</th>\n",
              "      <th>V27</th>\n",
              "      <th>V28</th>\n",
              "      <th>Amount</th>\n",
              "      <th>Class</th>\n",
              "    </tr>\n",
              "  </thead>\n",
              "  <tbody>\n",
              "    <tr>\n",
              "      <th>count</th>\n",
              "      <td>394.000000</td>\n",
              "      <td>394.000000</td>\n",
              "      <td>394.000000</td>\n",
              "      <td>394.000000</td>\n",
              "      <td>394.000000</td>\n",
              "      <td>394.000000</td>\n",
              "      <td>394.000000</td>\n",
              "      <td>394.000000</td>\n",
              "      <td>394.000000</td>\n",
              "      <td>394.000000</td>\n",
              "      <td>394.000000</td>\n",
              "      <td>394.000000</td>\n",
              "      <td>394.000000</td>\n",
              "      <td>394.000000</td>\n",
              "      <td>394.000000</td>\n",
              "      <td>394.000000</td>\n",
              "      <td>394.000000</td>\n",
              "      <td>394.000000</td>\n",
              "      <td>394.000000</td>\n",
              "      <td>394.000000</td>\n",
              "      <td>394.000000</td>\n",
              "      <td>394.000000</td>\n",
              "      <td>394.000000</td>\n",
              "      <td>394.000000</td>\n",
              "      <td>394.000000</td>\n",
              "      <td>394.000000</td>\n",
              "      <td>394.000000</td>\n",
              "      <td>394.000000</td>\n",
              "      <td>394.000000</td>\n",
              "      <td>394.000000</td>\n",
              "      <td>394.0</td>\n",
              "    </tr>\n",
              "    <tr>\n",
              "      <th>mean</th>\n",
              "      <td>81398.664975</td>\n",
              "      <td>-4.844204</td>\n",
              "      <td>3.702045</td>\n",
              "      <td>-7.103359</td>\n",
              "      <td>4.513672</td>\n",
              "      <td>-3.215601</td>\n",
              "      <td>-1.377679</td>\n",
              "      <td>-5.697448</td>\n",
              "      <td>0.294716</td>\n",
              "      <td>-2.582508</td>\n",
              "      <td>-5.728446</td>\n",
              "      <td>3.757555</td>\n",
              "      <td>-6.193830</td>\n",
              "      <td>-0.145069</td>\n",
              "      <td>-6.954490</td>\n",
              "      <td>-0.059050</td>\n",
              "      <td>-4.140517</td>\n",
              "      <td>-6.611233</td>\n",
              "      <td>-2.238158</td>\n",
              "      <td>0.663064</td>\n",
              "      <td>0.405860</td>\n",
              "      <td>0.743573</td>\n",
              "      <td>-0.001732</td>\n",
              "      <td>-0.011422</td>\n",
              "      <td>-0.091423</td>\n",
              "      <td>0.044757</td>\n",
              "      <td>0.040487</td>\n",
              "      <td>0.148092</td>\n",
              "      <td>0.082279</td>\n",
              "      <td>123.427056</td>\n",
              "      <td>1.0</td>\n",
              "    </tr>\n",
              "    <tr>\n",
              "      <th>std</th>\n",
              "      <td>48070.059166</td>\n",
              "      <td>6.905678</td>\n",
              "      <td>4.401831</td>\n",
              "      <td>7.129159</td>\n",
              "      <td>2.825324</td>\n",
              "      <td>5.377178</td>\n",
              "      <td>1.910775</td>\n",
              "      <td>7.454604</td>\n",
              "      <td>7.314756</td>\n",
              "      <td>2.567686</td>\n",
              "      <td>4.926100</td>\n",
              "      <td>2.626405</td>\n",
              "      <td>4.520800</td>\n",
              "      <td>1.128695</td>\n",
              "      <td>4.162451</td>\n",
              "      <td>1.067186</td>\n",
              "      <td>3.822012</td>\n",
              "      <td>6.935905</td>\n",
              "      <td>2.888515</td>\n",
              "      <td>1.565038</td>\n",
              "      <td>1.435602</td>\n",
              "      <td>4.276761</td>\n",
              "      <td>1.615337</td>\n",
              "      <td>1.511172</td>\n",
              "      <td>0.513911</td>\n",
              "      <td>0.788806</td>\n",
              "      <td>0.473072</td>\n",
              "      <td>1.428180</td>\n",
              "      <td>0.538650</td>\n",
              "      <td>265.931222</td>\n",
              "      <td>0.0</td>\n",
              "    </tr>\n",
              "    <tr>\n",
              "      <th>min</th>\n",
              "      <td>406.000000</td>\n",
              "      <td>-30.552380</td>\n",
              "      <td>-7.449015</td>\n",
              "      <td>-31.103685</td>\n",
              "      <td>-1.313275</td>\n",
              "      <td>-22.105532</td>\n",
              "      <td>-6.406267</td>\n",
              "      <td>-43.557242</td>\n",
              "      <td>-41.044261</td>\n",
              "      <td>-13.434066</td>\n",
              "      <td>-24.588262</td>\n",
              "      <td>-1.702228</td>\n",
              "      <td>-18.683715</td>\n",
              "      <td>-3.127795</td>\n",
              "      <td>-19.214325</td>\n",
              "      <td>-4.498945</td>\n",
              "      <td>-14.129855</td>\n",
              "      <td>-24.019099</td>\n",
              "      <td>-9.335193</td>\n",
              "      <td>-3.681904</td>\n",
              "      <td>-4.128186</td>\n",
              "      <td>-22.797604</td>\n",
              "      <td>-8.887017</td>\n",
              "      <td>-19.254328</td>\n",
              "      <td>-2.028024</td>\n",
              "      <td>-4.781606</td>\n",
              "      <td>-1.152671</td>\n",
              "      <td>-7.263482</td>\n",
              "      <td>-1.552593</td>\n",
              "      <td>0.000000</td>\n",
              "      <td>1.0</td>\n",
              "    </tr>\n",
              "    <tr>\n",
              "      <th>25%</th>\n",
              "      <td>41234.000000</td>\n",
              "      <td>-6.185857</td>\n",
              "      <td>1.218545</td>\n",
              "      <td>-8.586704</td>\n",
              "      <td>2.400206</td>\n",
              "      <td>-4.801176</td>\n",
              "      <td>-2.484426</td>\n",
              "      <td>-7.903402</td>\n",
              "      <td>-0.230744</td>\n",
              "      <td>-3.877669</td>\n",
              "      <td>-7.520666</td>\n",
              "      <td>2.061138</td>\n",
              "      <td>-8.654537</td>\n",
              "      <td>-1.016123</td>\n",
              "      <td>-9.398537</td>\n",
              "      <td>-0.598972</td>\n",
              "      <td>-6.551650</td>\n",
              "      <td>-12.072373</td>\n",
              "      <td>-4.629082</td>\n",
              "      <td>-0.383447</td>\n",
              "      <td>-0.171591</td>\n",
              "      <td>0.098377</td>\n",
              "      <td>-0.541855</td>\n",
              "      <td>-0.344701</td>\n",
              "      <td>-0.415312</td>\n",
              "      <td>-0.312004</td>\n",
              "      <td>-0.263161</td>\n",
              "      <td>-0.017603</td>\n",
              "      <td>-0.104948</td>\n",
              "      <td>1.000000</td>\n",
              "      <td>1.0</td>\n",
              "    </tr>\n",
              "    <tr>\n",
              "      <th>50%</th>\n",
              "      <td>74921.500000</td>\n",
              "      <td>-2.352844</td>\n",
              "      <td>2.720177</td>\n",
              "      <td>-5.075257</td>\n",
              "      <td>4.187495</td>\n",
              "      <td>-1.621234</td>\n",
              "      <td>-1.431912</td>\n",
              "      <td>-3.044264</td>\n",
              "      <td>0.568659</td>\n",
              "      <td>-2.133707</td>\n",
              "      <td>-4.556094</td>\n",
              "      <td>3.586609</td>\n",
              "      <td>-5.434170</td>\n",
              "      <td>-0.117313</td>\n",
              "      <td>-6.789141</td>\n",
              "      <td>-0.034679</td>\n",
              "      <td>-3.626171</td>\n",
              "      <td>-5.287250</td>\n",
              "      <td>-1.695375</td>\n",
              "      <td>0.600661</td>\n",
              "      <td>0.304766</td>\n",
              "      <td>0.602709</td>\n",
              "      <td>0.038201</td>\n",
              "      <td>-0.068174</td>\n",
              "      <td>-0.031239</td>\n",
              "      <td>0.082519</td>\n",
              "      <td>-0.006489</td>\n",
              "      <td>0.404371</td>\n",
              "      <td>0.150454</td>\n",
              "      <td>9.170000</td>\n",
              "      <td>1.0</td>\n",
              "    </tr>\n",
              "    <tr>\n",
              "      <th>75%</th>\n",
              "      <td>128576.000000</td>\n",
              "      <td>-0.357602</td>\n",
              "      <td>4.950132</td>\n",
              "      <td>-2.476831</td>\n",
              "      <td>6.245229</td>\n",
              "      <td>0.201776</td>\n",
              "      <td>-0.450849</td>\n",
              "      <td>-0.981932</td>\n",
              "      <td>1.706456</td>\n",
              "      <td>-0.777500</td>\n",
              "      <td>-2.743685</td>\n",
              "      <td>5.205445</td>\n",
              "      <td>-3.013519</td>\n",
              "      <td>0.678863</td>\n",
              "      <td>-4.347369</td>\n",
              "      <td>0.666365</td>\n",
              "      <td>-1.253042</td>\n",
              "      <td>-1.322019</td>\n",
              "      <td>0.058868</td>\n",
              "      <td>1.662803</td>\n",
              "      <td>0.820768</td>\n",
              "      <td>1.319726</td>\n",
              "      <td>0.623456</td>\n",
              "      <td>0.307290</td>\n",
              "      <td>0.283599</td>\n",
              "      <td>0.457364</td>\n",
              "      <td>0.399143</td>\n",
              "      <td>0.828718</td>\n",
              "      <td>0.382448</td>\n",
              "      <td>105.890000</td>\n",
              "      <td>1.0</td>\n",
              "    </tr>\n",
              "    <tr>\n",
              "      <th>max</th>\n",
              "      <td>170348.000000</td>\n",
              "      <td>2.132386</td>\n",
              "      <td>22.057729</td>\n",
              "      <td>2.250210</td>\n",
              "      <td>12.114672</td>\n",
              "      <td>6.198304</td>\n",
              "      <td>6.474115</td>\n",
              "      <td>5.431271</td>\n",
              "      <td>20.007208</td>\n",
              "      <td>3.353525</td>\n",
              "      <td>3.245086</td>\n",
              "      <td>12.018913</td>\n",
              "      <td>1.237773</td>\n",
              "      <td>2.815440</td>\n",
              "      <td>1.571080</td>\n",
              "      <td>2.471358</td>\n",
              "      <td>3.139656</td>\n",
              "      <td>6.739384</td>\n",
              "      <td>3.790316</td>\n",
              "      <td>5.228342</td>\n",
              "      <td>11.059004</td>\n",
              "      <td>27.202839</td>\n",
              "      <td>8.361985</td>\n",
              "      <td>5.466230</td>\n",
              "      <td>1.091435</td>\n",
              "      <td>2.208209</td>\n",
              "      <td>2.745261</td>\n",
              "      <td>3.052358</td>\n",
              "      <td>1.773326</td>\n",
              "      <td>2125.870000</td>\n",
              "      <td>1.0</td>\n",
              "    </tr>\n",
              "  </tbody>\n",
              "</table>\n",
              "</div>"
            ],
            "text/plain": [
              "                Time          V1          V2          V3          V4  \\\n",
              "count     394.000000  394.000000  394.000000  394.000000  394.000000   \n",
              "mean    81398.664975   -4.844204    3.702045   -7.103359    4.513672   \n",
              "std     48070.059166    6.905678    4.401831    7.129159    2.825324   \n",
              "min       406.000000  -30.552380   -7.449015  -31.103685   -1.313275   \n",
              "25%     41234.000000   -6.185857    1.218545   -8.586704    2.400206   \n",
              "50%     74921.500000   -2.352844    2.720177   -5.075257    4.187495   \n",
              "75%    128576.000000   -0.357602    4.950132   -2.476831    6.245229   \n",
              "max    170348.000000    2.132386   22.057729    2.250210   12.114672   \n",
              "\n",
              "               V5          V6          V7          V8          V9         V10  \\\n",
              "count  394.000000  394.000000  394.000000  394.000000  394.000000  394.000000   \n",
              "mean    -3.215601   -1.377679   -5.697448    0.294716   -2.582508   -5.728446   \n",
              "std      5.377178    1.910775    7.454604    7.314756    2.567686    4.926100   \n",
              "min    -22.105532   -6.406267  -43.557242  -41.044261  -13.434066  -24.588262   \n",
              "25%     -4.801176   -2.484426   -7.903402   -0.230744   -3.877669   -7.520666   \n",
              "50%     -1.621234   -1.431912   -3.044264    0.568659   -2.133707   -4.556094   \n",
              "75%      0.201776   -0.450849   -0.981932    1.706456   -0.777500   -2.743685   \n",
              "max      6.198304    6.474115    5.431271   20.007208    3.353525    3.245086   \n",
              "\n",
              "              V11         V12         V13         V14         V15         V16  \\\n",
              "count  394.000000  394.000000  394.000000  394.000000  394.000000  394.000000   \n",
              "mean     3.757555   -6.193830   -0.145069   -6.954490   -0.059050   -4.140517   \n",
              "std      2.626405    4.520800    1.128695    4.162451    1.067186    3.822012   \n",
              "min     -1.702228  -18.683715   -3.127795  -19.214325   -4.498945  -14.129855   \n",
              "25%      2.061138   -8.654537   -1.016123   -9.398537   -0.598972   -6.551650   \n",
              "50%      3.586609   -5.434170   -0.117313   -6.789141   -0.034679   -3.626171   \n",
              "75%      5.205445   -3.013519    0.678863   -4.347369    0.666365   -1.253042   \n",
              "max     12.018913    1.237773    2.815440    1.571080    2.471358    3.139656   \n",
              "\n",
              "              V17         V18         V19         V20         V21         V22  \\\n",
              "count  394.000000  394.000000  394.000000  394.000000  394.000000  394.000000   \n",
              "mean    -6.611233   -2.238158    0.663064    0.405860    0.743573   -0.001732   \n",
              "std      6.935905    2.888515    1.565038    1.435602    4.276761    1.615337   \n",
              "min    -24.019099   -9.335193   -3.681904   -4.128186  -22.797604   -8.887017   \n",
              "25%    -12.072373   -4.629082   -0.383447   -0.171591    0.098377   -0.541855   \n",
              "50%     -5.287250   -1.695375    0.600661    0.304766    0.602709    0.038201   \n",
              "75%     -1.322019    0.058868    1.662803    0.820768    1.319726    0.623456   \n",
              "max      6.739384    3.790316    5.228342   11.059004   27.202839    8.361985   \n",
              "\n",
              "              V23         V24         V25         V26         V27         V28  \\\n",
              "count  394.000000  394.000000  394.000000  394.000000  394.000000  394.000000   \n",
              "mean    -0.011422   -0.091423    0.044757    0.040487    0.148092    0.082279   \n",
              "std      1.511172    0.513911    0.788806    0.473072    1.428180    0.538650   \n",
              "min    -19.254328   -2.028024   -4.781606   -1.152671   -7.263482   -1.552593   \n",
              "25%     -0.344701   -0.415312   -0.312004   -0.263161   -0.017603   -0.104948   \n",
              "50%     -0.068174   -0.031239    0.082519   -0.006489    0.404371    0.150454   \n",
              "75%      0.307290    0.283599    0.457364    0.399143    0.828718    0.382448   \n",
              "max      5.466230    1.091435    2.208209    2.745261    3.052358    1.773326   \n",
              "\n",
              "            Amount  Class  \n",
              "count   394.000000  394.0  \n",
              "mean    123.427056    1.0  \n",
              "std     265.931222    0.0  \n",
              "min       0.000000    1.0  \n",
              "25%       1.000000    1.0  \n",
              "50%       9.170000    1.0  \n",
              "75%     105.890000    1.0  \n",
              "max    2125.870000    1.0  "
            ]
          },
          "metadata": {},
          "execution_count": 9
        }
      ]
    },
    {
      "cell_type": "markdown",
      "metadata": {
        "id": "sncN-fA5B2gs"
      },
      "source": [
        "Descriptive stats for the fraud points look very different than for the legit transactions. Many of the PCs have fraud means multiple stdevs away from legit means.\n",
        "\n",
        "Let's see which PC fraud means are the most legit stdevs away from the legit means"
      ]
    },
    {
      "cell_type": "code",
      "metadata": {
        "id": "Z2cugAkbB57q"
      },
      "source": [
        "tv0 = tv_df[tv_df.Class==0]\n",
        "tv1 = tv_df[tv_df.Class==1]"
      ],
      "execution_count": 10,
      "outputs": []
    },
    {
      "cell_type": "markdown",
      "metadata": {
        "id": "MeEmqrQGSLYZ"
      },
      "source": [
        "Let's do some basic exploration of the data - class distribution"
      ]
    },
    {
      "cell_type": "code",
      "metadata": {
        "colab": {
          "base_uri": "https://localhost:8080/"
        },
        "id": "dU7d1A6oB9jk",
        "outputId": "72d280dd-5e0f-4b52-ed77-d1c05941b0c1"
      },
      "source": [
        "describe_tv0 = tv0.describe()\n",
        "describe_tv1 = tv1.describe()\n",
        "relative_zBAR = (describe_tv1.loc['mean'] - describe_tv0.loc['mean']) / describe_tv0.loc['std']\n",
        "print(relative_zBAR.sort_values())"
      ],
      "execution_count": 11,
      "outputs": [
        {
          "output_type": "stream",
          "name": "stdout",
          "text": [
            "V17      -8.831453\n",
            "V14      -7.754993\n",
            "V12      -6.570144\n",
            "V10      -5.490377\n",
            "V16      -4.906965\n",
            "V3       -4.858184\n",
            "V7       -4.814204\n",
            "V18      -2.715582\n",
            "V1       -2.504193\n",
            "V9       -2.372691\n",
            "V5       -2.365321\n",
            "V6       -1.037235\n",
            "Time     -0.283508\n",
            "V24      -0.153340\n",
            "V13      -0.146305\n",
            "V15      -0.064568\n",
            "V23      -0.018492\n",
            "V22      -0.002847\n",
            "V26       0.084488\n",
            "V25       0.085139\n",
            "Amount    0.137194\n",
            "V28       0.249094\n",
            "V8        0.256279\n",
            "V27       0.369817\n",
            "V20       0.522450\n",
            "V19       0.817435\n",
            "V21       1.036548\n",
            "V2        2.252911\n",
            "V4        3.228128\n",
            "V11       3.754541\n",
            "Class          inf\n",
            "dtype: float64\n"
          ]
        }
      ]
    },
    {
      "cell_type": "markdown",
      "metadata": {
        "id": "fPdYPzbRCO82"
      },
      "source": [
        "\n",
        "Severy imbalance in the dataset. Out of the 200K points only 400 are fraud. <br>\n",
        "Strongly separated features include V17, V14, V12, V10 (Class of course gives inf)\n",
        "\n",
        "The only two interpretable features (Time and Amount) fail to stand out on summary stats alone."
      ]
    },
    {
      "cell_type": "markdown",
      "metadata": {
        "id": "ix1-gcyACR48"
      },
      "source": [
        "\n",
        "# **Exploration: Univariate**\n",
        "Let's view each data field as a time series. See if and how class differences present themselves visually."
      ]
    },
    {
      "cell_type": "code",
      "metadata": {
        "id": "ZjzBbe2wCPb-"
      },
      "source": [
        "\n",
        "# Amount column will be easiest to view on a log scale:\n",
        "\n",
        "def seriesTransform(df0,colName,myFloor=0.001):\n",
        "    if (colName=='Amount'):\n",
        "        return(np.log10(df0[colName].apply(lambda x: max(x,myFloor))))\n",
        "    else:\n",
        "        return(df0[colName])"
      ],
      "execution_count": 12,
      "outputs": []
    },
    {
      "cell_type": "code",
      "metadata": {
        "id": "LSo7dwk4CgmM"
      },
      "source": [
        "#fraud points are red and background black\n",
        "def plotImbalancedSeries(X,y,field,options=None):\n",
        "    if (options is None):\n",
        "        options = {'colors':[[0,0,0],[1,0,0]]}\n",
        "    plt.plot(seriesTransform(X[y==0],field),'.',color=options['colors'][0])\n",
        "    plt.plot(seriesTransform(X[y==1],field),'.',color=options['colors'][1])\n",
        "    plt.ylabel(field)\n",
        "    plt.xlabel('index')\n",
        "    plt.show()"
      ],
      "execution_count": 13,
      "outputs": []
    },
    {
      "cell_type": "code",
      "metadata": {
        "colab": {
          "base_uri": "https://localhost:8080/",
          "height": 279
        },
        "id": "dDlDhv77Cj1d",
        "outputId": "f93b8032-d98e-48e1-8473-393dfb4eb122"
      },
      "source": [
        "plotImbalancedSeries(X_tv,y_tv,'Time')"
      ],
      "execution_count": 14,
      "outputs": [
        {
          "output_type": "display_data",
          "data": {
            "image/png": "[encoded data removed]",
            "text/plain": [
              "<Figure size 432x288 with 1 Axes>"
            ]
          },
          "metadata": {
            "needs_background": "light"
          }
        }
      ]
    },
    {
      "cell_type": "markdown",
      "metadata": {
        "id": "QRPTDnPvUN8f"
      },
      "source": [
        "Everything is sorted according to time"
      ]
    },
    {
      "cell_type": "markdown",
      "metadata": {
        "id": "VCYdm5CxUTAJ"
      },
      "source": [
        ""
      ]
    },
    {
      "cell_type": "code",
      "metadata": {
        "colab": {
          "base_uri": "https://localhost:8080/",
          "height": 279
        },
        "id": "-06a10W4Co1z",
        "outputId": "0588de5a-b7af-4057-831c-792238ada8af"
      },
      "source": [
        "plotImbalancedSeries(X_tv,y_tv,'V1')"
      ],
      "execution_count": 15,
      "outputs": [
        {
          "output_type": "display_data",
          "data": {
            "image/png": "[encoded data removed]",
            "text/plain": [
              "<Figure size 432x288 with 1 Axes>"
            ]
          },
          "metadata": {
            "needs_background": "light"
          }
        }
      ]
    },
    {
      "cell_type": "markdown",
      "metadata": {
        "id": "lQPio3xVV1-p"
      },
      "source": [
        "The red 3 strings show fraud from one individual or organization mostly in the middle of the night"
      ]
    },
    {
      "cell_type": "code",
      "metadata": {
        "colab": {
          "base_uri": "https://localhost:8080/",
          "height": 279
        },
        "id": "n0JhI0xlCsgR",
        "outputId": "715f0c70-b8e3-452f-9b36-f302a720d74a"
      },
      "source": [
        "#Selected V14 because Cumulative Distribution Function (see plotImbalancedCDFs) shows good separation for V14 between fraud and background\n",
        "plotImbalancedSeries(X_tv,y_tv,'V14')"
      ],
      "execution_count": 16,
      "outputs": [
        {
          "output_type": "display_data",
          "data": {
            "image/png": "[encoded data removed]",
            "text/plain": [
              "<Figure size 432x288 with 1 Axes>"
            ]
          },
          "metadata": {
            "needs_background": "light"
          }
        }
      ]
    },
    {
      "cell_type": "markdown",
      "metadata": {
        "id": "ykLkEK-GWqHB"
      },
      "source": [
        "V14 shows fraud better, with the negative values in the red "
      ]
    },
    {
      "cell_type": "code",
      "metadata": {
        "colab": {
          "base_uri": "https://localhost:8080/",
          "height": 279
        },
        "id": "nlAdZsHQCvy9",
        "outputId": "fea8d4ed-8a04-47a4-fdf3-e9227d179f0f"
      },
      "source": [
        "plotImbalancedSeries(X_tv,y_tv,'Amount')\n",
        "# 0 is $1 and -3 is 0 cents"
      ],
      "execution_count": 17,
      "outputs": [
        {
          "output_type": "display_data",
          "data": {
            "image/png": "[encoded data removed]",
            "text/plain": [
              "<Figure size 432x288 with 1 Axes>"
            ]
          },
          "metadata": {
            "needs_background": "light"
          }
        }
      ]
    },
    {
      "cell_type": "markdown",
      "metadata": {
        "id": "oHwCwtxuYV30"
      },
      "source": [
        "From Amt it is not clear what fraud is. Maybe the $1 transactions. \n",
        "One thing to consider is removing the $1 transactions because when you run PCA test in the credit industry it triggers fraud. Zeros and Ones can be indicative of testing PCA complience by developers. "
      ]
    },
    {
      "cell_type": "markdown",
      "metadata": {
        "id": "QXfZ_nMhD736"
      },
      "source": [
        "# Univariate CDFs\n",
        "a univariate distribution is a probability distribution of only one random variable"
      ]
    },
    {
      "cell_type": "code",
      "metadata": {
        "id": "EneyZEqkD9W3"
      },
      "source": [
        "def cdf(ps0):\n",
        "    ps1 = ps0.sort_values()\n",
        "    repMin = ps1.iloc[:1]\n",
        "    ps1 = (pd.concat([repMin,ps1],axis=0)).rename('x')\n",
        "    cdf_values = pd.Series([(j/len(ps0)) for j in range(len(ps0)+1)],index=ps1.index).rename('CDF')\n",
        "    return(pd.concat([ps1,cdf_values],axis=1))"
      ],
      "execution_count": 18,
      "outputs": []
    },
    {
      "cell_type": "code",
      "metadata": {
        "id": "YXKED1DUESJa"
      },
      "source": [
        "QWE = cdf(seriesTransform(tv1,'Amount'))"
      ],
      "execution_count": 19,
      "outputs": []
    },
    {
      "cell_type": "code",
      "metadata": {
        "colab": {
          "base_uri": "https://localhost:8080/",
          "height": 204
        },
        "id": "QyUFTcZeEYhQ",
        "outputId": "ef671af3-a787-4196-f9a6-9898baa680d6"
      },
      "source": [
        "QWE.head()"
      ],
      "execution_count": 20,
      "outputs": [
        {
          "output_type": "execute_result",
          "data": {
            "text/html": [
              "<div>\n",
              "<style scoped>\n",
              "    .dataframe tbody tr th:only-of-type {\n",
              "        vertical-align: middle;\n",
              "    }\n",
              "\n",
              "    .dataframe tbody tr th {\n",
              "        vertical-align: top;\n",
              "    }\n",
              "\n",
              "    .dataframe thead th {\n",
              "        text-align: right;\n",
              "    }\n",
              "</style>\n",
              "<table border=\"1\" class=\"dataframe\">\n",
              "  <thead>\n",
              "    <tr style=\"text-align: right;\">\n",
              "      <th></th>\n",
              "      <th>x</th>\n",
              "      <th>CDF</th>\n",
              "    </tr>\n",
              "  </thead>\n",
              "  <tbody>\n",
              "    <tr>\n",
              "      <th>141257</th>\n",
              "      <td>-3.0</td>\n",
              "      <td>0.000000</td>\n",
              "    </tr>\n",
              "    <tr>\n",
              "      <th>141257</th>\n",
              "      <td>-3.0</td>\n",
              "      <td>0.002538</td>\n",
              "    </tr>\n",
              "    <tr>\n",
              "      <th>237107</th>\n",
              "      <td>-3.0</td>\n",
              "      <td>0.005076</td>\n",
              "    </tr>\n",
              "    <tr>\n",
              "      <th>154587</th>\n",
              "      <td>-3.0</td>\n",
              "      <td>0.007614</td>\n",
              "    </tr>\n",
              "    <tr>\n",
              "      <th>201098</th>\n",
              "      <td>-3.0</td>\n",
              "      <td>0.010152</td>\n",
              "    </tr>\n",
              "  </tbody>\n",
              "</table>\n",
              "</div>"
            ],
            "text/plain": [
              "          x       CDF\n",
              "141257 -3.0  0.000000\n",
              "141257 -3.0  0.002538\n",
              "237107 -3.0  0.005076\n",
              "154587 -3.0  0.007614\n",
              "201098 -3.0  0.010152"
            ]
          },
          "metadata": {},
          "execution_count": 20
        }
      ]
    },
    {
      "cell_type": "code",
      "metadata": {
        "id": "UiZy0sW-EekS"
      },
      "source": [
        "def plotImbalancedCDFs(X,y,field,options=None):\n",
        "    if (options is None):\n",
        "        options = {'colors':[[0,0,0],[1,0,0]]}\n",
        "    cdf_0 = cdf(seriesTransform(X[y==0],field))\n",
        "    cdf_1 = cdf(seriesTransform(X[y==1],field))\n",
        "    plt.plot(cdf_0.x,cdf_0.CDF,'.',color=options['colors'][0])\n",
        "    plt.plot(cdf_1.x,cdf_1.CDF,'.',color=options['colors'][1])\n",
        "    plt.ylabel('CDF')\n",
        "    plt.xlabel(field)\n",
        "    plt.show()"
      ],
      "execution_count": 21,
      "outputs": []
    },
    {
      "cell_type": "code",
      "metadata": {
        "colab": {
          "base_uri": "https://localhost:8080/",
          "height": 279
        },
        "id": "zaKpZwUuEgBi",
        "outputId": "854253d8-2f4b-4d7d-9647-3ebff6eb454b"
      },
      "source": [
        "#Cumulative Distribution Function shows good separation for V14 between fraud and background\n",
        "#Vertical y axes - what fraction of values lie bellow any given value \n",
        "#Horizontal axes \n",
        "#over 60% of fraudelent transactions have value of -5\n",
        "plotImbalancedCDFs(X_tv,y_tv,'V14')"
      ],
      "execution_count": 22,
      "outputs": [
        {
          "output_type": "display_data",
          "data": {
            "image/png": "[encoded data removed]",
            "text/plain": [
              "<Figure size 432x288 with 1 Axes>"
            ]
          },
          "metadata": {
            "needs_background": "light"
          }
        }
      ]
    },
    {
      "cell_type": "code",
      "metadata": {
        "colab": {
          "base_uri": "https://localhost:8080/",
          "height": 279
        },
        "id": "UF8gKR0pboy6",
        "outputId": "6f0b63a8-9729-4957-be84-7f3f10c045ab"
      },
      "source": [
        "plotImbalancedCDFs(X_tv,y_tv,'V17')"
      ],
      "execution_count": 23,
      "outputs": [
        {
          "output_type": "display_data",
          "data": {
            "image/png": "[encoded data removed]",
            "text/plain": [
              "<Figure size 432x288 with 1 Axes>"
            ]
          },
          "metadata": {
            "needs_background": "light"
          }
        }
      ]
    },
    {
      "cell_type": "markdown",
      "metadata": {
        "id": "_tHUGoQqbsIO"
      },
      "source": [
        "V14 and V17 seeks to be the most useful single features"
      ]
    },
    {
      "cell_type": "markdown",
      "metadata": {
        "id": "TLtJGZM_EoKp"
      },
      "source": [
        "# Exploration: Bivariate"
      ]
    },
    {
      "cell_type": "code",
      "metadata": {
        "id": "B_mQcwqYElBj"
      },
      "source": [
        "def scatterTwoFields_Imbalanced(X,y,field0,field1,options=None):\n",
        "    if (options is None):\n",
        "        options = {'colors':[[0,0,0],[1,0,0]]}\n",
        "    plt.plot(seriesTransform(X[y==0],field0),seriesTransform(X[y==0],field1),'.',color=options['colors'][0])\n",
        "    plt.plot(seriesTransform(X[y==1],field0),seriesTransform(X[y==1],field1),'.',color=options['colors'][1])\n",
        "    plt.ylabel(field1)\n",
        "    plt.xlabel(field0)\n",
        "    plt.show()"
      ],
      "execution_count": 24,
      "outputs": []
    },
    {
      "cell_type": "code",
      "metadata": {
        "colab": {
          "base_uri": "https://localhost:8080/",
          "height": 279
        },
        "id": "-syp7E6QEtU8",
        "outputId": "a91b9179-c4d7-4b3a-e7cf-e92a832ec1ec"
      },
      "source": [
        "scatterTwoFields_Imbalanced(X_tv,y_tv,'V22','V15')\n",
        "#V22 and V15 don't distinguish themselves very well and are not very useful"
      ],
      "execution_count": 25,
      "outputs": [
        {
          "output_type": "display_data",
          "data": {
            "image/png": "[encoded data removed]",
            "text/plain": [
              "<Figure size 432x288 with 1 Axes>"
            ]
          },
          "metadata": {
            "needs_background": "light"
          }
        }
      ]
    },
    {
      "cell_type": "code",
      "metadata": {
        "colab": {
          "base_uri": "https://localhost:8080/",
          "height": 279
        },
        "id": "DgEH0H5oE2FH",
        "outputId": "1b3d225d-92cd-432f-ebef-04489c1afacb"
      },
      "source": [
        "scatterTwoFields_Imbalanced(X_tv,y_tv,'V14','V17')"
      ],
      "execution_count": 26,
      "outputs": [
        {
          "output_type": "display_data",
          "data": {
            "image/png": "[encoded data removed]",
            "text/plain": [
              "<Figure size 432x288 with 1 Axes>"
            ]
          },
          "metadata": {
            "needs_background": "light"
          }
        }
      ]
    },
    {
      "cell_type": "code",
      "metadata": {
        "colab": {
          "base_uri": "https://localhost:8080/",
          "height": 279
        },
        "id": "cOb4gtamE3xs",
        "outputId": "2aceec77-e0fb-440f-cd93-fd2f4772cd5a"
      },
      "source": [
        "scatterTwoFields_Imbalanced(X_tv,y_tv,'V14','Amount')"
      ],
      "execution_count": 27,
      "outputs": [
        {
          "output_type": "display_data",
          "data": {
            "image/png": "[encoded data removed]",
            "text/plain": [
              "<Figure size 432x288 with 1 Axes>"
            ]
          },
          "metadata": {
            "needs_background": "light"
          }
        }
      ]
    },
    {
      "cell_type": "code",
      "metadata": {
        "id": "03uf3Hw6E7j9"
      },
      "source": [
        "scatterTwoFields_Imbalanced(X_tv,y_tv,'Time','Amount')"
      ],
      "execution_count": null,
      "outputs": []
    },
    {
      "cell_type": "code",
      "metadata": {
        "colab": {
          "base_uri": "https://localhost:8080/",
          "height": 1000
        },
        "id": "ApqNZgOyFDhZ",
        "outputId": "d9315bbb-2fe4-464e-d980-5154a5ee3ca5"
      },
      "source": [
        "\n",
        "# Verifying that the V_n features are PCA output:\n",
        "\n",
        "df[df.Class<40].corr()"
      ],
      "execution_count": 29,
      "outputs": [
        {
          "output_type": "execute_result",
          "data": {
            "text/html": [
              "<div>\n",
              "<style scoped>\n",
              "    .dataframe tbody tr th:only-of-type {\n",
              "        vertical-align: middle;\n",
              "    }\n",
              "\n",
              "    .dataframe tbody tr th {\n",
              "        vertical-align: top;\n",
              "    }\n",
              "\n",
              "    .dataframe thead th {\n",
              "        text-align: right;\n",
              "    }\n",
              "</style>\n",
              "<table border=\"1\" class=\"dataframe\">\n",
              "  <thead>\n",
              "    <tr style=\"text-align: right;\">\n",
              "      <th></th>\n",
              "      <th>Time</th>\n",
              "      <th>V1</th>\n",
              "      <th>V2</th>\n",
              "      <th>V3</th>\n",
              "      <th>V4</th>\n",
              "      <th>V5</th>\n",
              "      <th>V6</th>\n",
              "      <th>V7</th>\n",
              "      <th>V8</th>\n",
              "      <th>V9</th>\n",
              "      <th>V10</th>\n",
              "      <th>V11</th>\n",
              "      <th>V12</th>\n",
              "      <th>V13</th>\n",
              "      <th>V14</th>\n",
              "      <th>V15</th>\n",
              "      <th>V16</th>\n",
              "      <th>V17</th>\n",
              "      <th>V18</th>\n",
              "      <th>V19</th>\n",
              "      <th>V20</th>\n",
              "      <th>V21</th>\n",
              "      <th>V22</th>\n",
              "      <th>V23</th>\n",
              "      <th>V24</th>\n",
              "      <th>V25</th>\n",
              "      <th>V26</th>\n",
              "      <th>V27</th>\n",
              "      <th>V28</th>\n",
              "      <th>Amount</th>\n",
              "      <th>Class</th>\n",
              "    </tr>\n",
              "  </thead>\n",
              "  <tbody>\n",
              "    <tr>\n",
              "      <th>Time</th>\n",
              "      <td>1.000000</td>\n",
              "      <td>1.173963e-01</td>\n",
              "      <td>-1.059333e-02</td>\n",
              "      <td>-4.196182e-01</td>\n",
              "      <td>-1.052602e-01</td>\n",
              "      <td>1.730721e-01</td>\n",
              "      <td>-6.301647e-02</td>\n",
              "      <td>8.471437e-02</td>\n",
              "      <td>-3.694943e-02</td>\n",
              "      <td>-8.660434e-03</td>\n",
              "      <td>3.061663e-02</td>\n",
              "      <td>-2.476894e-01</td>\n",
              "      <td>1.243481e-01</td>\n",
              "      <td>-6.590202e-02</td>\n",
              "      <td>-9.875682e-02</td>\n",
              "      <td>-1.834533e-01</td>\n",
              "      <td>1.190287e-02</td>\n",
              "      <td>-7.329721e-02</td>\n",
              "      <td>9.043813e-02</td>\n",
              "      <td>2.897530e-02</td>\n",
              "      <td>-5.086602e-02</td>\n",
              "      <td>4.473573e-02</td>\n",
              "      <td>1.440591e-01</td>\n",
              "      <td>5.114236e-02</td>\n",
              "      <td>-1.618187e-02</td>\n",
              "      <td>-2.330828e-01</td>\n",
              "      <td>-4.140710e-02</td>\n",
              "      <td>-5.134591e-03</td>\n",
              "      <td>-9.412688e-03</td>\n",
              "      <td>-0.010596</td>\n",
              "      <td>-0.012323</td>\n",
              "    </tr>\n",
              "    <tr>\n",
              "      <th>V1</th>\n",
              "      <td>0.117396</td>\n",
              "      <td>1.000000e+00</td>\n",
              "      <td>4.697350e-17</td>\n",
              "      <td>-1.424390e-15</td>\n",
              "      <td>1.755316e-17</td>\n",
              "      <td>6.391162e-17</td>\n",
              "      <td>2.398071e-16</td>\n",
              "      <td>1.991550e-15</td>\n",
              "      <td>-9.490675e-17</td>\n",
              "      <td>2.169581e-16</td>\n",
              "      <td>7.433820e-17</td>\n",
              "      <td>2.438580e-16</td>\n",
              "      <td>2.422086e-16</td>\n",
              "      <td>-2.115458e-16</td>\n",
              "      <td>9.352582e-16</td>\n",
              "      <td>-3.252451e-16</td>\n",
              "      <td>6.308789e-16</td>\n",
              "      <td>-5.011524e-16</td>\n",
              "      <td>2.870125e-16</td>\n",
              "      <td>1.818128e-16</td>\n",
              "      <td>1.036959e-16</td>\n",
              "      <td>-1.755072e-16</td>\n",
              "      <td>7.477367e-17</td>\n",
              "      <td>9.808705e-16</td>\n",
              "      <td>7.354269e-17</td>\n",
              "      <td>-9.805358e-16</td>\n",
              "      <td>-8.621897e-17</td>\n",
              "      <td>3.208233e-17</td>\n",
              "      <td>9.820892e-16</td>\n",
              "      <td>-0.227709</td>\n",
              "      <td>-0.101347</td>\n",
              "    </tr>\n",
              "    <tr>\n",
              "      <th>V2</th>\n",
              "      <td>-0.010593</td>\n",
              "      <td>4.697350e-17</td>\n",
              "      <td>1.000000e+00</td>\n",
              "      <td>2.512175e-16</td>\n",
              "      <td>-1.126388e-16</td>\n",
              "      <td>-2.039868e-16</td>\n",
              "      <td>5.024680e-16</td>\n",
              "      <td>3.966486e-16</td>\n",
              "      <td>-4.413984e-17</td>\n",
              "      <td>-5.728718e-17</td>\n",
              "      <td>-4.782388e-16</td>\n",
              "      <td>9.468995e-16</td>\n",
              "      <td>-6.588252e-16</td>\n",
              "      <td>3.854521e-16</td>\n",
              "      <td>-2.541036e-16</td>\n",
              "      <td>2.831060e-16</td>\n",
              "      <td>4.934097e-17</td>\n",
              "      <td>-9.883008e-16</td>\n",
              "      <td>2.636654e-16</td>\n",
              "      <td>9.528280e-17</td>\n",
              "      <td>-9.309954e-16</td>\n",
              "      <td>8.444409e-17</td>\n",
              "      <td>2.500830e-16</td>\n",
              "      <td>1.059562e-16</td>\n",
              "      <td>-8.142354e-18</td>\n",
              "      <td>-4.261894e-17</td>\n",
              "      <td>2.601622e-16</td>\n",
              "      <td>-4.478472e-16</td>\n",
              "      <td>-3.676415e-16</td>\n",
              "      <td>-0.531409</td>\n",
              "      <td>0.091289</td>\n",
              "    </tr>\n",
              "    <tr>\n",
              "      <th>V3</th>\n",
              "      <td>-0.419618</td>\n",
              "      <td>-1.424390e-15</td>\n",
              "      <td>2.512175e-16</td>\n",
              "      <td>1.000000e+00</td>\n",
              "      <td>-3.416910e-16</td>\n",
              "      <td>-1.436514e-15</td>\n",
              "      <td>1.431581e-15</td>\n",
              "      <td>2.168574e-15</td>\n",
              "      <td>3.433113e-16</td>\n",
              "      <td>-4.233770e-16</td>\n",
              "      <td>6.289267e-16</td>\n",
              "      <td>-5.501758e-17</td>\n",
              "      <td>2.206522e-16</td>\n",
              "      <td>-6.883375e-16</td>\n",
              "      <td>4.271336e-16</td>\n",
              "      <td>1.122756e-16</td>\n",
              "      <td>1.183364e-15</td>\n",
              "      <td>4.576619e-17</td>\n",
              "      <td>5.427965e-16</td>\n",
              "      <td>2.576773e-16</td>\n",
              "      <td>-9.429297e-16</td>\n",
              "      <td>-2.971969e-17</td>\n",
              "      <td>4.648259e-16</td>\n",
              "      <td>2.115206e-17</td>\n",
              "      <td>-9.351637e-17</td>\n",
              "      <td>4.771164e-16</td>\n",
              "      <td>6.521501e-16</td>\n",
              "      <td>6.239832e-16</td>\n",
              "      <td>7.726948e-16</td>\n",
              "      <td>-0.210880</td>\n",
              "      <td>-0.192961</td>\n",
              "    </tr>\n",
              "    <tr>\n",
              "      <th>V4</th>\n",
              "      <td>-0.105260</td>\n",
              "      <td>1.755316e-17</td>\n",
              "      <td>-1.126388e-16</td>\n",
              "      <td>-3.416910e-16</td>\n",
              "      <td>1.000000e+00</td>\n",
              "      <td>-1.940929e-15</td>\n",
              "      <td>-2.712659e-16</td>\n",
              "      <td>1.556330e-16</td>\n",
              "      <td>5.195643e-16</td>\n",
              "      <td>3.859585e-16</td>\n",
              "      <td>6.055490e-16</td>\n",
              "      <td>-2.083600e-16</td>\n",
              "      <td>-5.657963e-16</td>\n",
              "      <td>-1.506129e-16</td>\n",
              "      <td>-8.522435e-17</td>\n",
              "      <td>-1.507718e-16</td>\n",
              "      <td>-6.939204e-16</td>\n",
              "      <td>-4.397925e-16</td>\n",
              "      <td>1.493667e-16</td>\n",
              "      <td>-2.656938e-16</td>\n",
              "      <td>-3.223123e-16</td>\n",
              "      <td>-9.976950e-17</td>\n",
              "      <td>2.099922e-16</td>\n",
              "      <td>6.002528e-17</td>\n",
              "      <td>2.229738e-16</td>\n",
              "      <td>5.394585e-16</td>\n",
              "      <td>-6.179751e-16</td>\n",
              "      <td>-6.403423e-17</td>\n",
              "      <td>-5.863664e-17</td>\n",
              "      <td>0.098732</td>\n",
              "      <td>0.133447</td>\n",
              "    </tr>\n",
              "    <tr>\n",
              "      <th>V5</th>\n",
              "      <td>0.173072</td>\n",
              "      <td>6.391162e-17</td>\n",
              "      <td>-2.039868e-16</td>\n",
              "      <td>-1.436514e-15</td>\n",
              "      <td>-1.940929e-15</td>\n",
              "      <td>1.000000e+00</td>\n",
              "      <td>7.926364e-16</td>\n",
              "      <td>-4.209851e-16</td>\n",
              "      <td>7.589187e-16</td>\n",
              "      <td>4.205206e-16</td>\n",
              "      <td>-6.601716e-16</td>\n",
              "      <td>7.342759e-16</td>\n",
              "      <td>3.761033e-16</td>\n",
              "      <td>-9.578659e-16</td>\n",
              "      <td>-3.634803e-16</td>\n",
              "      <td>-5.132620e-16</td>\n",
              "      <td>-3.517076e-16</td>\n",
              "      <td>1.425729e-16</td>\n",
              "      <td>1.109525e-15</td>\n",
              "      <td>-3.138234e-16</td>\n",
              "      <td>2.076048e-16</td>\n",
              "      <td>-1.368701e-16</td>\n",
              "      <td>5.060029e-16</td>\n",
              "      <td>1.637596e-16</td>\n",
              "      <td>-9.286095e-16</td>\n",
              "      <td>5.625102e-16</td>\n",
              "      <td>9.144690e-16</td>\n",
              "      <td>4.465960e-16</td>\n",
              "      <td>-3.299167e-16</td>\n",
              "      <td>-0.386356</td>\n",
              "      <td>-0.094974</td>\n",
              "    </tr>\n",
              "    <tr>\n",
              "      <th>V6</th>\n",
              "      <td>-0.063016</td>\n",
              "      <td>2.398071e-16</td>\n",
              "      <td>5.024680e-16</td>\n",
              "      <td>1.431581e-15</td>\n",
              "      <td>-2.712659e-16</td>\n",
              "      <td>7.926364e-16</td>\n",
              "      <td>1.000000e+00</td>\n",
              "      <td>1.429426e-16</td>\n",
              "      <td>-1.707421e-16</td>\n",
              "      <td>1.114447e-16</td>\n",
              "      <td>2.850776e-16</td>\n",
              "      <td>4.865799e-16</td>\n",
              "      <td>2.140589e-16</td>\n",
              "      <td>-2.268061e-16</td>\n",
              "      <td>3.452801e-16</td>\n",
              "      <td>-6.368111e-18</td>\n",
              "      <td>-2.477917e-16</td>\n",
              "      <td>3.567582e-16</td>\n",
              "      <td>2.811474e-16</td>\n",
              "      <td>2.717167e-16</td>\n",
              "      <td>1.898638e-16</td>\n",
              "      <td>-1.575903e-16</td>\n",
              "      <td>-3.362902e-16</td>\n",
              "      <td>-7.232186e-17</td>\n",
              "      <td>-1.261867e-15</td>\n",
              "      <td>1.081933e-15</td>\n",
              "      <td>-2.378414e-16</td>\n",
              "      <td>-2.623818e-16</td>\n",
              "      <td>4.813155e-16</td>\n",
              "      <td>0.215981</td>\n",
              "      <td>-0.043643</td>\n",
              "    </tr>\n",
              "    <tr>\n",
              "      <th>V7</th>\n",
              "      <td>0.084714</td>\n",
              "      <td>1.991550e-15</td>\n",
              "      <td>3.966486e-16</td>\n",
              "      <td>2.168574e-15</td>\n",
              "      <td>1.556330e-16</td>\n",
              "      <td>-4.209851e-16</td>\n",
              "      <td>1.429426e-16</td>\n",
              "      <td>1.000000e+00</td>\n",
              "      <td>-8.691834e-17</td>\n",
              "      <td>7.933251e-16</td>\n",
              "      <td>3.043333e-17</td>\n",
              "      <td>-1.084105e-15</td>\n",
              "      <td>1.510045e-15</td>\n",
              "      <td>-9.892325e-17</td>\n",
              "      <td>-1.729462e-16</td>\n",
              "      <td>1.936832e-17</td>\n",
              "      <td>2.893672e-16</td>\n",
              "      <td>1.149692e-15</td>\n",
              "      <td>-1.116789e-16</td>\n",
              "      <td>-2.874017e-16</td>\n",
              "      <td>1.744242e-16</td>\n",
              "      <td>1.938604e-16</td>\n",
              "      <td>-1.058131e-15</td>\n",
              "      <td>2.327911e-16</td>\n",
              "      <td>-2.589727e-17</td>\n",
              "      <td>1.174169e-15</td>\n",
              "      <td>-7.334507e-16</td>\n",
              "      <td>-5.886825e-16</td>\n",
              "      <td>-6.836764e-17</td>\n",
              "      <td>0.397311</td>\n",
              "      <td>-0.187257</td>\n",
              "    </tr>\n",
              "    <tr>\n",
              "      <th>V8</th>\n",
              "      <td>-0.036949</td>\n",
              "      <td>-9.490675e-17</td>\n",
              "      <td>-4.413984e-17</td>\n",
              "      <td>3.433113e-16</td>\n",
              "      <td>5.195643e-16</td>\n",
              "      <td>7.589187e-16</td>\n",
              "      <td>-1.707421e-16</td>\n",
              "      <td>-8.691834e-17</td>\n",
              "      <td>1.000000e+00</td>\n",
              "      <td>2.900829e-16</td>\n",
              "      <td>9.051847e-17</td>\n",
              "      <td>1.954747e-16</td>\n",
              "      <td>-6.266057e-17</td>\n",
              "      <td>-2.382948e-16</td>\n",
              "      <td>-1.131098e-16</td>\n",
              "      <td>2.021491e-16</td>\n",
              "      <td>5.027192e-16</td>\n",
              "      <td>-3.508777e-16</td>\n",
              "      <td>-4.093852e-16</td>\n",
              "      <td>-5.339821e-16</td>\n",
              "      <td>-1.095534e-16</td>\n",
              "      <td>-2.412439e-16</td>\n",
              "      <td>5.475559e-16</td>\n",
              "      <td>3.897104e-16</td>\n",
              "      <td>-1.802967e-16</td>\n",
              "      <td>-1.390791e-16</td>\n",
              "      <td>-1.209975e-16</td>\n",
              "      <td>1.733633e-16</td>\n",
              "      <td>-4.484325e-16</td>\n",
              "      <td>-0.103079</td>\n",
              "      <td>0.019875</td>\n",
              "    </tr>\n",
              "    <tr>\n",
              "      <th>V9</th>\n",
              "      <td>-0.008660</td>\n",
              "      <td>2.169581e-16</td>\n",
              "      <td>-5.728718e-17</td>\n",
              "      <td>-4.233770e-16</td>\n",
              "      <td>3.859585e-16</td>\n",
              "      <td>4.205206e-16</td>\n",
              "      <td>1.114447e-16</td>\n",
              "      <td>7.933251e-16</td>\n",
              "      <td>2.900829e-16</td>\n",
              "      <td>1.000000e+00</td>\n",
              "      <td>-2.771761e-16</td>\n",
              "      <td>4.682341e-16</td>\n",
              "      <td>-2.445230e-15</td>\n",
              "      <td>-2.650351e-16</td>\n",
              "      <td>2.343317e-16</td>\n",
              "      <td>-1.588105e-15</td>\n",
              "      <td>-3.251906e-16</td>\n",
              "      <td>6.535992e-16</td>\n",
              "      <td>1.203843e-16</td>\n",
              "      <td>1.120752e-16</td>\n",
              "      <td>-4.340941e-16</td>\n",
              "      <td>4.578389e-17</td>\n",
              "      <td>2.871855e-17</td>\n",
              "      <td>5.929286e-16</td>\n",
              "      <td>-2.346385e-16</td>\n",
              "      <td>1.099645e-15</td>\n",
              "      <td>-1.388725e-15</td>\n",
              "      <td>-2.287414e-16</td>\n",
              "      <td>9.146779e-16</td>\n",
              "      <td>-0.044246</td>\n",
              "      <td>-0.097733</td>\n",
              "    </tr>\n",
              "    <tr>\n",
              "      <th>V10</th>\n",
              "      <td>0.030617</td>\n",
              "      <td>7.433820e-17</td>\n",
              "      <td>-4.782388e-16</td>\n",
              "      <td>6.289267e-16</td>\n",
              "      <td>6.055490e-16</td>\n",
              "      <td>-6.601716e-16</td>\n",
              "      <td>2.850776e-16</td>\n",
              "      <td>3.043333e-17</td>\n",
              "      <td>9.051847e-17</td>\n",
              "      <td>-2.771761e-16</td>\n",
              "      <td>1.000000e+00</td>\n",
              "      <td>2.624448e-16</td>\n",
              "      <td>1.439907e-15</td>\n",
              "      <td>-8.853582e-16</td>\n",
              "      <td>2.622513e-16</td>\n",
              "      <td>7.615272e-16</td>\n",
              "      <td>-1.705923e-15</td>\n",
              "      <td>3.674182e-15</td>\n",
              "      <td>3.986710e-16</td>\n",
              "      <td>2.663038e-17</td>\n",
              "      <td>-1.141888e-15</td>\n",
              "      <td>8.089504e-16</td>\n",
              "      <td>-6.707598e-16</td>\n",
              "      <td>3.809732e-16</td>\n",
              "      <td>-4.032806e-17</td>\n",
              "      <td>-2.863813e-16</td>\n",
              "      <td>-2.554293e-16</td>\n",
              "      <td>-3.103239e-16</td>\n",
              "      <td>-1.515934e-16</td>\n",
              "      <td>-0.101502</td>\n",
              "      <td>-0.216883</td>\n",
              "    </tr>\n",
              "    <tr>\n",
              "      <th>V11</th>\n",
              "      <td>-0.247689</td>\n",
              "      <td>2.438580e-16</td>\n",
              "      <td>9.468995e-16</td>\n",
              "      <td>-5.501758e-17</td>\n",
              "      <td>-2.083600e-16</td>\n",
              "      <td>7.342759e-16</td>\n",
              "      <td>4.865799e-16</td>\n",
              "      <td>-1.084105e-15</td>\n",
              "      <td>1.954747e-16</td>\n",
              "      <td>4.682341e-16</td>\n",
              "      <td>2.624448e-16</td>\n",
              "      <td>1.000000e+00</td>\n",
              "      <td>3.176029e-15</td>\n",
              "      <td>1.945810e-15</td>\n",
              "      <td>3.637160e-17</td>\n",
              "      <td>4.801345e-16</td>\n",
              "      <td>-6.173867e-16</td>\n",
              "      <td>8.719713e-16</td>\n",
              "      <td>5.978229e-16</td>\n",
              "      <td>3.216338e-16</td>\n",
              "      <td>-2.310189e-16</td>\n",
              "      <td>-3.911893e-16</td>\n",
              "      <td>-3.811640e-17</td>\n",
              "      <td>2.232007e-16</td>\n",
              "      <td>1.219849e-15</td>\n",
              "      <td>-4.567635e-16</td>\n",
              "      <td>-1.110976e-16</td>\n",
              "      <td>-2.635827e-16</td>\n",
              "      <td>-3.091914e-16</td>\n",
              "      <td>0.000104</td>\n",
              "      <td>0.154876</td>\n",
              "    </tr>\n",
              "    <tr>\n",
              "      <th>V12</th>\n",
              "      <td>0.124348</td>\n",
              "      <td>2.422086e-16</td>\n",
              "      <td>-6.588252e-16</td>\n",
              "      <td>2.206522e-16</td>\n",
              "      <td>-5.657963e-16</td>\n",
              "      <td>3.761033e-16</td>\n",
              "      <td>2.140589e-16</td>\n",
              "      <td>1.510045e-15</td>\n",
              "      <td>-6.266057e-17</td>\n",
              "      <td>-2.445230e-15</td>\n",
              "      <td>1.439907e-15</td>\n",
              "      <td>3.176029e-15</td>\n",
              "      <td>1.000000e+00</td>\n",
              "      <td>-2.306149e-14</td>\n",
              "      <td>1.761652e-16</td>\n",
              "      <td>8.858186e-16</td>\n",
              "      <td>3.530418e-16</td>\n",
              "      <td>-9.869814e-16</td>\n",
              "      <td>-5.881814e-16</td>\n",
              "      <td>9.282566e-17</td>\n",
              "      <td>1.276976e-16</td>\n",
              "      <td>3.229576e-16</td>\n",
              "      <td>-5.903992e-16</td>\n",
              "      <td>1.392162e-16</td>\n",
              "      <td>4.901644e-16</td>\n",
              "      <td>5.053736e-16</td>\n",
              "      <td>-5.759321e-16</td>\n",
              "      <td>-2.312619e-16</td>\n",
              "      <td>7.327446e-16</td>\n",
              "      <td>-0.009542</td>\n",
              "      <td>-0.260593</td>\n",
              "    </tr>\n",
              "    <tr>\n",
              "      <th>V13</th>\n",
              "      <td>-0.065902</td>\n",
              "      <td>-2.115458e-16</td>\n",
              "      <td>3.854521e-16</td>\n",
              "      <td>-6.883375e-16</td>\n",
              "      <td>-1.506129e-16</td>\n",
              "      <td>-9.578659e-16</td>\n",
              "      <td>-2.268061e-16</td>\n",
              "      <td>-9.892325e-17</td>\n",
              "      <td>-2.382948e-16</td>\n",
              "      <td>-2.650351e-16</td>\n",
              "      <td>-8.853582e-16</td>\n",
              "      <td>1.945810e-15</td>\n",
              "      <td>-2.306149e-14</td>\n",
              "      <td>1.000000e+00</td>\n",
              "      <td>2.841428e-15</td>\n",
              "      <td>-4.728048e-16</td>\n",
              "      <td>3.361767e-16</td>\n",
              "      <td>-3.187905e-16</td>\n",
              "      <td>3.192535e-16</td>\n",
              "      <td>-2.594988e-16</td>\n",
              "      <td>2.345665e-18</td>\n",
              "      <td>9.499130e-17</td>\n",
              "      <td>-2.659710e-17</td>\n",
              "      <td>-5.884304e-16</td>\n",
              "      <td>-5.470547e-16</td>\n",
              "      <td>8.066738e-17</td>\n",
              "      <td>-2.121518e-16</td>\n",
              "      <td>-4.520414e-16</td>\n",
              "      <td>1.049541e-15</td>\n",
              "      <td>0.005293</td>\n",
              "      <td>-0.004570</td>\n",
              "    </tr>\n",
              "    <tr>\n",
              "      <th>V14</th>\n",
              "      <td>-0.098757</td>\n",
              "      <td>9.352582e-16</td>\n",
              "      <td>-2.541036e-16</td>\n",
              "      <td>4.271336e-16</td>\n",
              "      <td>-8.522435e-17</td>\n",
              "      <td>-3.634803e-16</td>\n",
              "      <td>3.452801e-16</td>\n",
              "      <td>-1.729462e-16</td>\n",
              "      <td>-1.131098e-16</td>\n",
              "      <td>2.343317e-16</td>\n",
              "      <td>2.622513e-16</td>\n",
              "      <td>3.637160e-17</td>\n",
              "      <td>1.761652e-16</td>\n",
              "      <td>2.841428e-15</td>\n",
              "      <td>1.000000e+00</td>\n",
              "      <td>4.165738e-17</td>\n",
              "      <td>7.910367e-17</td>\n",
              "      <td>4.626140e-15</td>\n",
              "      <td>8.980955e-17</td>\n",
              "      <td>-1.061486e-16</td>\n",
              "      <td>-1.789433e-16</td>\n",
              "      <td>1.634141e-17</td>\n",
              "      <td>3.439699e-16</td>\n",
              "      <td>7.620728e-17</td>\n",
              "      <td>2.335749e-16</td>\n",
              "      <td>-2.606783e-16</td>\n",
              "      <td>-6.580254e-18</td>\n",
              "      <td>1.285770e-16</td>\n",
              "      <td>2.503271e-15</td>\n",
              "      <td>0.033751</td>\n",
              "      <td>-0.302544</td>\n",
              "    </tr>\n",
              "    <tr>\n",
              "      <th>V15</th>\n",
              "      <td>-0.183453</td>\n",
              "      <td>-3.252451e-16</td>\n",
              "      <td>2.831060e-16</td>\n",
              "      <td>1.122756e-16</td>\n",
              "      <td>-1.507718e-16</td>\n",
              "      <td>-5.132620e-16</td>\n",
              "      <td>-6.368111e-18</td>\n",
              "      <td>1.936832e-17</td>\n",
              "      <td>2.021491e-16</td>\n",
              "      <td>-1.588105e-15</td>\n",
              "      <td>7.615272e-16</td>\n",
              "      <td>4.801345e-16</td>\n",
              "      <td>8.858186e-16</td>\n",
              "      <td>-4.728048e-16</td>\n",
              "      <td>4.165738e-17</td>\n",
              "      <td>1.000000e+00</td>\n",
              "      <td>1.335904e-15</td>\n",
              "      <td>3.208310e-16</td>\n",
              "      <td>7.538156e-16</td>\n",
              "      <td>-8.556257e-16</td>\n",
              "      <td>3.240475e-16</td>\n",
              "      <td>1.947458e-17</td>\n",
              "      <td>-8.936817e-16</td>\n",
              "      <td>1.119827e-16</td>\n",
              "      <td>-4.589689e-16</td>\n",
              "      <td>3.869740e-16</td>\n",
              "      <td>3.761094e-16</td>\n",
              "      <td>-1.265235e-15</td>\n",
              "      <td>-1.063286e-15</td>\n",
              "      <td>-0.002986</td>\n",
              "      <td>-0.004223</td>\n",
              "    </tr>\n",
              "    <tr>\n",
              "      <th>V16</th>\n",
              "      <td>0.011903</td>\n",
              "      <td>6.308789e-16</td>\n",
              "      <td>4.934097e-17</td>\n",
              "      <td>1.183364e-15</td>\n",
              "      <td>-6.939204e-16</td>\n",
              "      <td>-3.517076e-16</td>\n",
              "      <td>-2.477917e-16</td>\n",
              "      <td>2.893672e-16</td>\n",
              "      <td>5.027192e-16</td>\n",
              "      <td>-3.251906e-16</td>\n",
              "      <td>-1.705923e-15</td>\n",
              "      <td>-6.173867e-16</td>\n",
              "      <td>3.530418e-16</td>\n",
              "      <td>3.361767e-16</td>\n",
              "      <td>7.910367e-17</td>\n",
              "      <td>1.335904e-15</td>\n",
              "      <td>1.000000e+00</td>\n",
              "      <td>1.854297e-15</td>\n",
              "      <td>-3.015119e-15</td>\n",
              "      <td>1.041659e-15</td>\n",
              "      <td>3.903456e-16</td>\n",
              "      <td>-3.927401e-16</td>\n",
              "      <td>3.878384e-17</td>\n",
              "      <td>8.519670e-16</td>\n",
              "      <td>-4.289239e-16</td>\n",
              "      <td>-6.644104e-16</td>\n",
              "      <td>-5.186503e-16</td>\n",
              "      <td>7.820038e-16</td>\n",
              "      <td>8.637186e-16</td>\n",
              "      <td>-0.003910</td>\n",
              "      <td>-0.196539</td>\n",
              "    </tr>\n",
              "    <tr>\n",
              "      <th>V17</th>\n",
              "      <td>-0.073297</td>\n",
              "      <td>-5.011524e-16</td>\n",
              "      <td>-9.883008e-16</td>\n",
              "      <td>4.576619e-17</td>\n",
              "      <td>-4.397925e-16</td>\n",
              "      <td>1.425729e-16</td>\n",
              "      <td>3.567582e-16</td>\n",
              "      <td>1.149692e-15</td>\n",
              "      <td>-3.508777e-16</td>\n",
              "      <td>6.535992e-16</td>\n",
              "      <td>3.674182e-15</td>\n",
              "      <td>8.719713e-16</td>\n",
              "      <td>-9.869814e-16</td>\n",
              "      <td>-3.187905e-16</td>\n",
              "      <td>4.626140e-15</td>\n",
              "      <td>3.208310e-16</td>\n",
              "      <td>1.854297e-15</td>\n",
              "      <td>1.000000e+00</td>\n",
              "      <td>-5.584714e-15</td>\n",
              "      <td>-3.916791e-16</td>\n",
              "      <td>-9.887431e-16</td>\n",
              "      <td>-7.753967e-16</td>\n",
              "      <td>-8.389703e-16</td>\n",
              "      <td>5.367784e-16</td>\n",
              "      <td>-5.543631e-17</td>\n",
              "      <td>4.822068e-16</td>\n",
              "      <td>4.870302e-16</td>\n",
              "      <td>8.844373e-16</td>\n",
              "      <td>-2.182692e-16</td>\n",
              "      <td>0.007309</td>\n",
              "      <td>-0.326481</td>\n",
              "    </tr>\n",
              "    <tr>\n",
              "      <th>V18</th>\n",
              "      <td>0.090438</td>\n",
              "      <td>2.870125e-16</td>\n",
              "      <td>2.636654e-16</td>\n",
              "      <td>5.427965e-16</td>\n",
              "      <td>1.493667e-16</td>\n",
              "      <td>1.109525e-15</td>\n",
              "      <td>2.811474e-16</td>\n",
              "      <td>-1.116789e-16</td>\n",
              "      <td>-4.093852e-16</td>\n",
              "      <td>1.203843e-16</td>\n",
              "      <td>3.986710e-16</td>\n",
              "      <td>5.978229e-16</td>\n",
              "      <td>-5.881814e-16</td>\n",
              "      <td>3.192535e-16</td>\n",
              "      <td>8.980955e-17</td>\n",
              "      <td>7.538156e-16</td>\n",
              "      <td>-3.015119e-15</td>\n",
              "      <td>-5.584714e-15</td>\n",
              "      <td>1.000000e+00</td>\n",
              "      <td>-2.424185e-15</td>\n",
              "      <td>-4.942764e-16</td>\n",
              "      <td>-1.140973e-15</td>\n",
              "      <td>-8.662635e-17</td>\n",
              "      <td>-3.624236e-16</td>\n",
              "      <td>-1.126043e-16</td>\n",
              "      <td>-2.310856e-16</td>\n",
              "      <td>3.183964e-16</td>\n",
              "      <td>2.435170e-16</td>\n",
              "      <td>8.844995e-16</td>\n",
              "      <td>0.035650</td>\n",
              "      <td>-0.111485</td>\n",
              "    </tr>\n",
              "    <tr>\n",
              "      <th>V19</th>\n",
              "      <td>0.028975</td>\n",
              "      <td>1.818128e-16</td>\n",
              "      <td>9.528280e-17</td>\n",
              "      <td>2.576773e-16</td>\n",
              "      <td>-2.656938e-16</td>\n",
              "      <td>-3.138234e-16</td>\n",
              "      <td>2.717167e-16</td>\n",
              "      <td>-2.874017e-16</td>\n",
              "      <td>-5.339821e-16</td>\n",
              "      <td>1.120752e-16</td>\n",
              "      <td>2.663038e-17</td>\n",
              "      <td>3.216338e-16</td>\n",
              "      <td>9.282566e-17</td>\n",
              "      <td>-2.594988e-16</td>\n",
              "      <td>-1.061486e-16</td>\n",
              "      <td>-8.556257e-16</td>\n",
              "      <td>1.041659e-15</td>\n",
              "      <td>-3.916791e-16</td>\n",
              "      <td>-2.424185e-15</td>\n",
              "      <td>1.000000e+00</td>\n",
              "      <td>2.938450e-16</td>\n",
              "      <td>4.032541e-16</td>\n",
              "      <td>-9.690436e-16</td>\n",
              "      <td>5.733798e-16</td>\n",
              "      <td>3.126716e-17</td>\n",
              "      <td>7.415355e-16</td>\n",
              "      <td>5.614354e-16</td>\n",
              "      <td>-1.113035e-16</td>\n",
              "      <td>-1.375843e-15</td>\n",
              "      <td>-0.056151</td>\n",
              "      <td>0.034783</td>\n",
              "    </tr>\n",
              "    <tr>\n",
              "      <th>V20</th>\n",
              "      <td>-0.050866</td>\n",
              "      <td>1.036959e-16</td>\n",
              "      <td>-9.309954e-16</td>\n",
              "      <td>-9.429297e-16</td>\n",
              "      <td>-3.223123e-16</td>\n",
              "      <td>2.076048e-16</td>\n",
              "      <td>1.898638e-16</td>\n",
              "      <td>1.744242e-16</td>\n",
              "      <td>-1.095534e-16</td>\n",
              "      <td>-4.340941e-16</td>\n",
              "      <td>-1.141888e-15</td>\n",
              "      <td>-2.310189e-16</td>\n",
              "      <td>1.276976e-16</td>\n",
              "      <td>2.345665e-18</td>\n",
              "      <td>-1.789433e-16</td>\n",
              "      <td>3.240475e-16</td>\n",
              "      <td>3.903456e-16</td>\n",
              "      <td>-9.887431e-16</td>\n",
              "      <td>-4.942764e-16</td>\n",
              "      <td>2.938450e-16</td>\n",
              "      <td>1.000000e+00</td>\n",
              "      <td>-1.120828e-15</td>\n",
              "      <td>1.105842e-15</td>\n",
              "      <td>4.986739e-16</td>\n",
              "      <td>1.637488e-16</td>\n",
              "      <td>-1.518242e-16</td>\n",
              "      <td>-2.975081e-16</td>\n",
              "      <td>-1.446069e-15</td>\n",
              "      <td>-1.133579e-16</td>\n",
              "      <td>0.339403</td>\n",
              "      <td>0.020090</td>\n",
              "    </tr>\n",
              "    <tr>\n",
              "      <th>V21</th>\n",
              "      <td>0.044736</td>\n",
              "      <td>-1.755072e-16</td>\n",
              "      <td>8.444409e-17</td>\n",
              "      <td>-2.971969e-17</td>\n",
              "      <td>-9.976950e-17</td>\n",
              "      <td>-1.368701e-16</td>\n",
              "      <td>-1.575903e-16</td>\n",
              "      <td>1.938604e-16</td>\n",
              "      <td>-2.412439e-16</td>\n",
              "      <td>4.578389e-17</td>\n",
              "      <td>8.089504e-16</td>\n",
              "      <td>-3.911893e-16</td>\n",
              "      <td>3.229576e-16</td>\n",
              "      <td>9.499130e-17</td>\n",
              "      <td>1.634141e-17</td>\n",
              "      <td>1.947458e-17</td>\n",
              "      <td>-3.927401e-16</td>\n",
              "      <td>-7.753967e-16</td>\n",
              "      <td>-1.140973e-15</td>\n",
              "      <td>4.032541e-16</td>\n",
              "      <td>-1.120828e-15</td>\n",
              "      <td>1.000000e+00</td>\n",
              "      <td>3.905948e-15</td>\n",
              "      <td>6.127323e-16</td>\n",
              "      <td>1.298254e-16</td>\n",
              "      <td>-2.826293e-16</td>\n",
              "      <td>-4.907301e-16</td>\n",
              "      <td>-1.033403e-15</td>\n",
              "      <td>5.132234e-16</td>\n",
              "      <td>0.105999</td>\n",
              "      <td>0.040413</td>\n",
              "    </tr>\n",
              "    <tr>\n",
              "      <th>V22</th>\n",
              "      <td>0.144059</td>\n",
              "      <td>7.477367e-17</td>\n",
              "      <td>2.500830e-16</td>\n",
              "      <td>4.648259e-16</td>\n",
              "      <td>2.099922e-16</td>\n",
              "      <td>5.060029e-16</td>\n",
              "      <td>-3.362902e-16</td>\n",
              "      <td>-1.058131e-15</td>\n",
              "      <td>5.475559e-16</td>\n",
              "      <td>2.871855e-17</td>\n",
              "      <td>-6.707598e-16</td>\n",
              "      <td>-3.811640e-17</td>\n",
              "      <td>-5.903992e-16</td>\n",
              "      <td>-2.659710e-17</td>\n",
              "      <td>3.439699e-16</td>\n",
              "      <td>-8.936817e-16</td>\n",
              "      <td>3.878384e-17</td>\n",
              "      <td>-8.389703e-16</td>\n",
              "      <td>-8.662635e-17</td>\n",
              "      <td>-9.690436e-16</td>\n",
              "      <td>1.105842e-15</td>\n",
              "      <td>3.905948e-15</td>\n",
              "      <td>1.000000e+00</td>\n",
              "      <td>3.130812e-16</td>\n",
              "      <td>1.150829e-17</td>\n",
              "      <td>-6.078986e-16</td>\n",
              "      <td>-8.477050e-16</td>\n",
              "      <td>-1.294910e-16</td>\n",
              "      <td>-3.021376e-16</td>\n",
              "      <td>-0.064801</td>\n",
              "      <td>0.000805</td>\n",
              "    </tr>\n",
              "    <tr>\n",
              "      <th>V23</th>\n",
              "      <td>0.051142</td>\n",
              "      <td>9.808705e-16</td>\n",
              "      <td>1.059562e-16</td>\n",
              "      <td>2.115206e-17</td>\n",
              "      <td>6.002528e-17</td>\n",
              "      <td>1.637596e-16</td>\n",
              "      <td>-7.232186e-17</td>\n",
              "      <td>2.327911e-16</td>\n",
              "      <td>3.897104e-16</td>\n",
              "      <td>5.929286e-16</td>\n",
              "      <td>3.809732e-16</td>\n",
              "      <td>2.232007e-16</td>\n",
              "      <td>1.392162e-16</td>\n",
              "      <td>-5.884304e-16</td>\n",
              "      <td>7.620728e-17</td>\n",
              "      <td>1.119827e-16</td>\n",
              "      <td>8.519670e-16</td>\n",
              "      <td>5.367784e-16</td>\n",
              "      <td>-3.624236e-16</td>\n",
              "      <td>5.733798e-16</td>\n",
              "      <td>4.986739e-16</td>\n",
              "      <td>6.127323e-16</td>\n",
              "      <td>3.130812e-16</td>\n",
              "      <td>1.000000e+00</td>\n",
              "      <td>-4.411271e-17</td>\n",
              "      <td>-9.938362e-16</td>\n",
              "      <td>8.848700e-16</td>\n",
              "      <td>5.524044e-16</td>\n",
              "      <td>9.029821e-16</td>\n",
              "      <td>-0.112633</td>\n",
              "      <td>-0.002685</td>\n",
              "    </tr>\n",
              "    <tr>\n",
              "      <th>V24</th>\n",
              "      <td>-0.016182</td>\n",
              "      <td>7.354269e-17</td>\n",
              "      <td>-8.142354e-18</td>\n",
              "      <td>-9.351637e-17</td>\n",
              "      <td>2.229738e-16</td>\n",
              "      <td>-9.286095e-16</td>\n",
              "      <td>-1.261867e-15</td>\n",
              "      <td>-2.589727e-17</td>\n",
              "      <td>-1.802967e-16</td>\n",
              "      <td>-2.346385e-16</td>\n",
              "      <td>-4.032806e-17</td>\n",
              "      <td>1.219849e-15</td>\n",
              "      <td>4.901644e-16</td>\n",
              "      <td>-5.470547e-16</td>\n",
              "      <td>2.335749e-16</td>\n",
              "      <td>-4.589689e-16</td>\n",
              "      <td>-4.289239e-16</td>\n",
              "      <td>-5.543631e-17</td>\n",
              "      <td>-1.126043e-16</td>\n",
              "      <td>3.126716e-17</td>\n",
              "      <td>1.637488e-16</td>\n",
              "      <td>1.298254e-16</td>\n",
              "      <td>1.150829e-17</td>\n",
              "      <td>-4.411271e-17</td>\n",
              "      <td>1.000000e+00</td>\n",
              "      <td>1.557318e-15</td>\n",
              "      <td>3.129195e-16</td>\n",
              "      <td>-3.736529e-16</td>\n",
              "      <td>-2.259275e-16</td>\n",
              "      <td>0.005146</td>\n",
              "      <td>-0.007221</td>\n",
              "    </tr>\n",
              "    <tr>\n",
              "      <th>V25</th>\n",
              "      <td>-0.233083</td>\n",
              "      <td>-9.805358e-16</td>\n",
              "      <td>-4.261894e-17</td>\n",
              "      <td>4.771164e-16</td>\n",
              "      <td>5.394585e-16</td>\n",
              "      <td>5.625102e-16</td>\n",
              "      <td>1.081933e-15</td>\n",
              "      <td>1.174169e-15</td>\n",
              "      <td>-1.390791e-16</td>\n",
              "      <td>1.099645e-15</td>\n",
              "      <td>-2.863813e-16</td>\n",
              "      <td>-4.567635e-16</td>\n",
              "      <td>5.053736e-16</td>\n",
              "      <td>8.066738e-17</td>\n",
              "      <td>-2.606783e-16</td>\n",
              "      <td>3.869740e-16</td>\n",
              "      <td>-6.644104e-16</td>\n",
              "      <td>4.822068e-16</td>\n",
              "      <td>-2.310856e-16</td>\n",
              "      <td>7.415355e-16</td>\n",
              "      <td>-1.518242e-16</td>\n",
              "      <td>-2.826293e-16</td>\n",
              "      <td>-6.078986e-16</td>\n",
              "      <td>-9.938362e-16</td>\n",
              "      <td>1.557318e-15</td>\n",
              "      <td>1.000000e+00</td>\n",
              "      <td>2.810884e-15</td>\n",
              "      <td>-6.107118e-16</td>\n",
              "      <td>3.399375e-16</td>\n",
              "      <td>-0.047837</td>\n",
              "      <td>0.003308</td>\n",
              "    </tr>\n",
              "    <tr>\n",
              "      <th>V26</th>\n",
              "      <td>-0.041407</td>\n",
              "      <td>-8.621897e-17</td>\n",
              "      <td>2.601622e-16</td>\n",
              "      <td>6.521501e-16</td>\n",
              "      <td>-6.179751e-16</td>\n",
              "      <td>9.144690e-16</td>\n",
              "      <td>-2.378414e-16</td>\n",
              "      <td>-7.334507e-16</td>\n",
              "      <td>-1.209975e-16</td>\n",
              "      <td>-1.388725e-15</td>\n",
              "      <td>-2.554293e-16</td>\n",
              "      <td>-1.110976e-16</td>\n",
              "      <td>-5.759321e-16</td>\n",
              "      <td>-2.121518e-16</td>\n",
              "      <td>-6.580254e-18</td>\n",
              "      <td>3.761094e-16</td>\n",
              "      <td>-5.186503e-16</td>\n",
              "      <td>4.870302e-16</td>\n",
              "      <td>3.183964e-16</td>\n",
              "      <td>5.614354e-16</td>\n",
              "      <td>-2.975081e-16</td>\n",
              "      <td>-4.907301e-16</td>\n",
              "      <td>-8.477050e-16</td>\n",
              "      <td>8.848700e-16</td>\n",
              "      <td>3.129195e-16</td>\n",
              "      <td>2.810884e-15</td>\n",
              "      <td>1.000000e+00</td>\n",
              "      <td>-3.383861e-16</td>\n",
              "      <td>-3.751403e-16</td>\n",
              "      <td>-0.003208</td>\n",
              "      <td>0.004455</td>\n",
              "    </tr>\n",
              "    <tr>\n",
              "      <th>V27</th>\n",
              "      <td>-0.005135</td>\n",
              "      <td>3.208233e-17</td>\n",
              "      <td>-4.478472e-16</td>\n",
              "      <td>6.239832e-16</td>\n",
              "      <td>-6.403423e-17</td>\n",
              "      <td>4.465960e-16</td>\n",
              "      <td>-2.623818e-16</td>\n",
              "      <td>-5.886825e-16</td>\n",
              "      <td>1.733633e-16</td>\n",
              "      <td>-2.287414e-16</td>\n",
              "      <td>-3.103239e-16</td>\n",
              "      <td>-2.635827e-16</td>\n",
              "      <td>-2.312619e-16</td>\n",
              "      <td>-4.520414e-16</td>\n",
              "      <td>1.285770e-16</td>\n",
              "      <td>-1.265235e-15</td>\n",
              "      <td>7.820038e-16</td>\n",
              "      <td>8.844373e-16</td>\n",
              "      <td>2.435170e-16</td>\n",
              "      <td>-1.113035e-16</td>\n",
              "      <td>-1.446069e-15</td>\n",
              "      <td>-1.033403e-15</td>\n",
              "      <td>-1.294910e-16</td>\n",
              "      <td>5.524044e-16</td>\n",
              "      <td>-3.736529e-16</td>\n",
              "      <td>-6.107118e-16</td>\n",
              "      <td>-3.383861e-16</td>\n",
              "      <td>1.000000e+00</td>\n",
              "      <td>-3.770124e-16</td>\n",
              "      <td>0.028825</td>\n",
              "      <td>0.017580</td>\n",
              "    </tr>\n",
              "    <tr>\n",
              "      <th>V28</th>\n",
              "      <td>-0.009413</td>\n",
              "      <td>9.820892e-16</td>\n",
              "      <td>-3.676415e-16</td>\n",
              "      <td>7.726948e-16</td>\n",
              "      <td>-5.863664e-17</td>\n",
              "      <td>-3.299167e-16</td>\n",
              "      <td>4.813155e-16</td>\n",
              "      <td>-6.836764e-17</td>\n",
              "      <td>-4.484325e-16</td>\n",
              "      <td>9.146779e-16</td>\n",
              "      <td>-1.515934e-16</td>\n",
              "      <td>-3.091914e-16</td>\n",
              "      <td>7.327446e-16</td>\n",
              "      <td>1.049541e-15</td>\n",
              "      <td>2.503271e-15</td>\n",
              "      <td>-1.063286e-15</td>\n",
              "      <td>8.637186e-16</td>\n",
              "      <td>-2.182692e-16</td>\n",
              "      <td>8.844995e-16</td>\n",
              "      <td>-1.375843e-15</td>\n",
              "      <td>-1.133579e-16</td>\n",
              "      <td>5.132234e-16</td>\n",
              "      <td>-3.021376e-16</td>\n",
              "      <td>9.029821e-16</td>\n",
              "      <td>-2.259275e-16</td>\n",
              "      <td>3.399375e-16</td>\n",
              "      <td>-3.751403e-16</td>\n",
              "      <td>-3.770124e-16</td>\n",
              "      <td>1.000000e+00</td>\n",
              "      <td>0.010258</td>\n",
              "      <td>0.009536</td>\n",
              "    </tr>\n",
              "    <tr>\n",
              "      <th>Amount</th>\n",
              "      <td>-0.010596</td>\n",
              "      <td>-2.277087e-01</td>\n",
              "      <td>-5.314089e-01</td>\n",
              "      <td>-2.108805e-01</td>\n",
              "      <td>9.873167e-02</td>\n",
              "      <td>-3.863563e-01</td>\n",
              "      <td>2.159812e-01</td>\n",
              "      <td>3.973113e-01</td>\n",
              "      <td>-1.030791e-01</td>\n",
              "      <td>-4.424560e-02</td>\n",
              "      <td>-1.015021e-01</td>\n",
              "      <td>1.039770e-04</td>\n",
              "      <td>-9.541802e-03</td>\n",
              "      <td>5.293409e-03</td>\n",
              "      <td>3.375117e-02</td>\n",
              "      <td>-2.985848e-03</td>\n",
              "      <td>-3.909527e-03</td>\n",
              "      <td>7.309042e-03</td>\n",
              "      <td>3.565034e-02</td>\n",
              "      <td>-5.615079e-02</td>\n",
              "      <td>3.394034e-01</td>\n",
              "      <td>1.059989e-01</td>\n",
              "      <td>-6.480065e-02</td>\n",
              "      <td>-1.126326e-01</td>\n",
              "      <td>5.146217e-03</td>\n",
              "      <td>-4.783686e-02</td>\n",
              "      <td>-3.208037e-03</td>\n",
              "      <td>2.882546e-02</td>\n",
              "      <td>1.025822e-02</td>\n",
              "      <td>1.000000</td>\n",
              "      <td>0.005632</td>\n",
              "    </tr>\n",
              "    <tr>\n",
              "      <th>Class</th>\n",
              "      <td>-0.012323</td>\n",
              "      <td>-1.013473e-01</td>\n",
              "      <td>9.128865e-02</td>\n",
              "      <td>-1.929608e-01</td>\n",
              "      <td>1.334475e-01</td>\n",
              "      <td>-9.497430e-02</td>\n",
              "      <td>-4.364316e-02</td>\n",
              "      <td>-1.872566e-01</td>\n",
              "      <td>1.987512e-02</td>\n",
              "      <td>-9.773269e-02</td>\n",
              "      <td>-2.168829e-01</td>\n",
              "      <td>1.548756e-01</td>\n",
              "      <td>-2.605929e-01</td>\n",
              "      <td>-4.569779e-03</td>\n",
              "      <td>-3.025437e-01</td>\n",
              "      <td>-4.223402e-03</td>\n",
              "      <td>-1.965389e-01</td>\n",
              "      <td>-3.264811e-01</td>\n",
              "      <td>-1.114853e-01</td>\n",
              "      <td>3.478301e-02</td>\n",
              "      <td>2.009032e-02</td>\n",
              "      <td>4.041338e-02</td>\n",
              "      <td>8.053175e-04</td>\n",
              "      <td>-2.685156e-03</td>\n",
              "      <td>-7.220907e-03</td>\n",
              "      <td>3.307706e-03</td>\n",
              "      <td>4.455398e-03</td>\n",
              "      <td>1.757973e-02</td>\n",
              "      <td>9.536041e-03</td>\n",
              "      <td>0.005632</td>\n",
              "      <td>1.000000</td>\n",
              "    </tr>\n",
              "  </tbody>\n",
              "</table>\n",
              "</div>"
            ],
            "text/plain": [
              "            Time            V1            V2            V3            V4  \\\n",
              "Time    1.000000  1.173963e-01 -1.059333e-02 -4.196182e-01 -1.052602e-01   \n",
              "V1      0.117396  1.000000e+00  4.697350e-17 -1.424390e-15  1.755316e-17   \n",
              "V2     -0.010593  4.697350e-17  1.000000e+00  2.512175e-16 -1.126388e-16   \n",
              "V3     -0.419618 -1.424390e-15  2.512175e-16  1.000000e+00 -3.416910e-16   \n",
              "V4     -0.105260  1.755316e-17 -1.126388e-16 -3.416910e-16  1.000000e+00   \n",
              "V5      0.173072  6.391162e-17 -2.039868e-16 -1.436514e-15 -1.940929e-15   \n",
              "V6     -0.063016  2.398071e-16  5.024680e-16  1.431581e-15 -2.712659e-16   \n",
              "V7      0.084714  1.991550e-15  3.966486e-16  2.168574e-15  1.556330e-16   \n",
              "V8     -0.036949 -9.490675e-17 -4.413984e-17  3.433113e-16  5.195643e-16   \n",
              "V9     -0.008660  2.169581e-16 -5.728718e-17 -4.233770e-16  3.859585e-16   \n",
              "V10     0.030617  7.433820e-17 -4.782388e-16  6.289267e-16  6.055490e-16   \n",
              "V11    -0.247689  2.438580e-16  9.468995e-16 -5.501758e-17 -2.083600e-16   \n",
              "V12     0.124348  2.422086e-16 -6.588252e-16  2.206522e-16 -5.657963e-16   \n",
              "V13    -0.065902 -2.115458e-16  3.854521e-16 -6.883375e-16 -1.506129e-16   \n",
              "V14    -0.098757  9.352582e-16 -2.541036e-16  4.271336e-16 -8.522435e-17   \n",
              "V15    -0.183453 -3.252451e-16  2.831060e-16  1.122756e-16 -1.507718e-16   \n",
              "V16     0.011903  6.308789e-16  4.934097e-17  1.183364e-15 -6.939204e-16   \n",
              "V17    -0.073297 -5.011524e-16 -9.883008e-16  4.576619e-17 -4.397925e-16   \n",
              "V18     0.090438  2.870125e-16  2.636654e-16  5.427965e-16  1.493667e-16   \n",
              "V19     0.028975  1.818128e-16  9.528280e-17  2.576773e-16 -2.656938e-16   \n",
              "V20    -0.050866  1.036959e-16 -9.309954e-16 -9.429297e-16 -3.223123e-16   \n",
              "V21     0.044736 -1.755072e-16  8.444409e-17 -2.971969e-17 -9.976950e-17   \n",
              "V22     0.144059  7.477367e-17  2.500830e-16  4.648259e-16  2.099922e-16   \n",
              "V23     0.051142  9.808705e-16  1.059562e-16  2.115206e-17  6.002528e-17   \n",
              "V24    -0.016182  7.354269e-17 -8.142354e-18 -9.351637e-17  2.229738e-16   \n",
              "V25    -0.233083 -9.805358e-16 -4.261894e-17  4.771164e-16  5.394585e-16   \n",
              "V26    -0.041407 -8.621897e-17  2.601622e-16  6.521501e-16 -6.179751e-16   \n",
              "V27    -0.005135  3.208233e-17 -4.478472e-16  6.239832e-16 -6.403423e-17   \n",
              "V28    -0.009413  9.820892e-16 -3.676415e-16  7.726948e-16 -5.863664e-17   \n",
              "Amount -0.010596 -2.277087e-01 -5.314089e-01 -2.108805e-01  9.873167e-02   \n",
              "Class  -0.012323 -1.013473e-01  9.128865e-02 -1.929608e-01  1.334475e-01   \n",
              "\n",
              "                  V5            V6            V7            V8            V9  \\\n",
              "Time    1.730721e-01 -6.301647e-02  8.471437e-02 -3.694943e-02 -8.660434e-03   \n",
              "V1      6.391162e-17  2.398071e-16  1.991550e-15 -9.490675e-17  2.169581e-16   \n",
              "V2     -2.039868e-16  5.024680e-16  3.966486e-16 -4.413984e-17 -5.728718e-17   \n",
              "V3     -1.436514e-15  1.431581e-15  2.168574e-15  3.433113e-16 -4.233770e-16   \n",
              "V4     -1.940929e-15 -2.712659e-16  1.556330e-16  5.195643e-16  3.859585e-16   \n",
              "V5      1.000000e+00  7.926364e-16 -4.209851e-16  7.589187e-16  4.205206e-16   \n",
              "V6      7.926364e-16  1.000000e+00  1.429426e-16 -1.707421e-16  1.114447e-16   \n",
              "V7     -4.209851e-16  1.429426e-16  1.000000e+00 -8.691834e-17  7.933251e-16   \n",
              "V8      7.589187e-16 -1.707421e-16 -8.691834e-17  1.000000e+00  2.900829e-16   \n",
              "V9      4.205206e-16  1.114447e-16  7.933251e-16  2.900829e-16  1.000000e+00   \n",
              "V10    -6.601716e-16  2.850776e-16  3.043333e-17  9.051847e-17 -2.771761e-16   \n",
              "V11     7.342759e-16  4.865799e-16 -1.084105e-15  1.954747e-16  4.682341e-16   \n",
              "V12     3.761033e-16  2.140589e-16  1.510045e-15 -6.266057e-17 -2.445230e-15   \n",
              "V13    -9.578659e-16 -2.268061e-16 -9.892325e-17 -2.382948e-16 -2.650351e-16   \n",
              "V14    -3.634803e-16  3.452801e-16 -1.729462e-16 -1.131098e-16  2.343317e-16   \n",
              "V15    -5.132620e-16 -6.368111e-18  1.936832e-17  2.021491e-16 -1.588105e-15   \n",
              "V16    -3.517076e-16 -2.477917e-16  2.893672e-16  5.027192e-16 -3.251906e-16   \n",
              "V17     1.425729e-16  3.567582e-16  1.149692e-15 -3.508777e-16  6.535992e-16   \n",
              "V18     1.109525e-15  2.811474e-16 -1.116789e-16 -4.093852e-16  1.203843e-16   \n",
              "V19    -3.138234e-16  2.717167e-16 -2.874017e-16 -5.339821e-16  1.120752e-16   \n",
              "V20     2.076048e-16  1.898638e-16  1.744242e-16 -1.095534e-16 -4.340941e-16   \n",
              "V21    -1.368701e-16 -1.575903e-16  1.938604e-16 -2.412439e-16  4.578389e-17   \n",
              "V22     5.060029e-16 -3.362902e-16 -1.058131e-15  5.475559e-16  2.871855e-17   \n",
              "V23     1.637596e-16 -7.232186e-17  2.327911e-16  3.897104e-16  5.929286e-16   \n",
              "V24    -9.286095e-16 -1.261867e-15 -2.589727e-17 -1.802967e-16 -2.346385e-16   \n",
              "V25     5.625102e-16  1.081933e-15  1.174169e-15 -1.390791e-16  1.099645e-15   \n",
              "V26     9.144690e-16 -2.378414e-16 -7.334507e-16 -1.209975e-16 -1.388725e-15   \n",
              "V27     4.465960e-16 -2.623818e-16 -5.886825e-16  1.733633e-16 -2.287414e-16   \n",
              "V28    -3.299167e-16  4.813155e-16 -6.836764e-17 -4.484325e-16  9.146779e-16   \n",
              "Amount -3.863563e-01  2.159812e-01  3.973113e-01 -1.030791e-01 -4.424560e-02   \n",
              "Class  -9.497430e-02 -4.364316e-02 -1.872566e-01  1.987512e-02 -9.773269e-02   \n",
              "\n",
              "                 V10           V11           V12           V13           V14  \\\n",
              "Time    3.061663e-02 -2.476894e-01  1.243481e-01 -6.590202e-02 -9.875682e-02   \n",
              "V1      7.433820e-17  2.438580e-16  2.422086e-16 -2.115458e-16  9.352582e-16   \n",
              "V2     -4.782388e-16  9.468995e-16 -6.588252e-16  3.854521e-16 -2.541036e-16   \n",
              "V3      6.289267e-16 -5.501758e-17  2.206522e-16 -6.883375e-16  4.271336e-16   \n",
              "V4      6.055490e-16 -2.083600e-16 -5.657963e-16 -1.506129e-16 -8.522435e-17   \n",
              "V5     -6.601716e-16  7.342759e-16  3.761033e-16 -9.578659e-16 -3.634803e-16   \n",
              "V6      2.850776e-16  4.865799e-16  2.140589e-16 -2.268061e-16  3.452801e-16   \n",
              "V7      3.043333e-17 -1.084105e-15  1.510045e-15 -9.892325e-17 -1.729462e-16   \n",
              "V8      9.051847e-17  1.954747e-16 -6.266057e-17 -2.382948e-16 -1.131098e-16   \n",
              "V9     -2.771761e-16  4.682341e-16 -2.445230e-15 -2.650351e-16  2.343317e-16   \n",
              "V10     1.000000e+00  2.624448e-16  1.439907e-15 -8.853582e-16  2.622513e-16   \n",
              "V11     2.624448e-16  1.000000e+00  3.176029e-15  1.945810e-15  3.637160e-17   \n",
              "V12     1.439907e-15  3.176029e-15  1.000000e+00 -2.306149e-14  1.761652e-16   \n",
              "V13    -8.853582e-16  1.945810e-15 -2.306149e-14  1.000000e+00  2.841428e-15   \n",
              "V14     2.622513e-16  3.637160e-17  1.761652e-16  2.841428e-15  1.000000e+00   \n",
              "V15     7.615272e-16  4.801345e-16  8.858186e-16 -4.728048e-16  4.165738e-17   \n",
              "V16    -1.705923e-15 -6.173867e-16  3.530418e-16  3.361767e-16  7.910367e-17   \n",
              "V17     3.674182e-15  8.719713e-16 -9.869814e-16 -3.187905e-16  4.626140e-15   \n",
              "V18     3.986710e-16  5.978229e-16 -5.881814e-16  3.192535e-16  8.980955e-17   \n",
              "V19     2.663038e-17  3.216338e-16  9.282566e-17 -2.594988e-16 -1.061486e-16   \n",
              "V20    -1.141888e-15 -2.310189e-16  1.276976e-16  2.345665e-18 -1.789433e-16   \n",
              "V21     8.089504e-16 -3.911893e-16  3.229576e-16  9.499130e-17  1.634141e-17   \n",
              "V22    -6.707598e-16 -3.811640e-17 -5.903992e-16 -2.659710e-17  3.439699e-16   \n",
              "V23     3.809732e-16  2.232007e-16  1.392162e-16 -5.884304e-16  7.620728e-17   \n",
              "V24    -4.032806e-17  1.219849e-15  4.901644e-16 -5.470547e-16  2.335749e-16   \n",
              "V25    -2.863813e-16 -4.567635e-16  5.053736e-16  8.066738e-17 -2.606783e-16   \n",
              "V26    -2.554293e-16 -1.110976e-16 -5.759321e-16 -2.121518e-16 -6.580254e-18   \n",
              "V27    -3.103239e-16 -2.635827e-16 -2.312619e-16 -4.520414e-16  1.285770e-16   \n",
              "V28    -1.515934e-16 -3.091914e-16  7.327446e-16  1.049541e-15  2.503271e-15   \n",
              "Amount -1.015021e-01  1.039770e-04 -9.541802e-03  5.293409e-03  3.375117e-02   \n",
              "Class  -2.168829e-01  1.548756e-01 -2.605929e-01 -4.569779e-03 -3.025437e-01   \n",
              "\n",
              "                 V15           V16           V17           V18           V19  \\\n",
              "Time   -1.834533e-01  1.190287e-02 -7.329721e-02  9.043813e-02  2.897530e-02   \n",
              "V1     -3.252451e-16  6.308789e-16 -5.011524e-16  2.870125e-16  1.818128e-16   \n",
              "V2      2.831060e-16  4.934097e-17 -9.883008e-16  2.636654e-16  9.528280e-17   \n",
              "V3      1.122756e-16  1.183364e-15  4.576619e-17  5.427965e-16  2.576773e-16   \n",
              "V4     -1.507718e-16 -6.939204e-16 -4.397925e-16  1.493667e-16 -2.656938e-16   \n",
              "V5     -5.132620e-16 -3.517076e-16  1.425729e-16  1.109525e-15 -3.138234e-16   \n",
              "V6     -6.368111e-18 -2.477917e-16  3.567582e-16  2.811474e-16  2.717167e-16   \n",
              "V7      1.936832e-17  2.893672e-16  1.149692e-15 -1.116789e-16 -2.874017e-16   \n",
              "V8      2.021491e-16  5.027192e-16 -3.508777e-16 -4.093852e-16 -5.339821e-16   \n",
              "V9     -1.588105e-15 -3.251906e-16  6.535992e-16  1.203843e-16  1.120752e-16   \n",
              "V10     7.615272e-16 -1.705923e-15  3.674182e-15  3.986710e-16  2.663038e-17   \n",
              "V11     4.801345e-16 -6.173867e-16  8.719713e-16  5.978229e-16  3.216338e-16   \n",
              "V12     8.858186e-16  3.530418e-16 -9.869814e-16 -5.881814e-16  9.282566e-17   \n",
              "V13    -4.728048e-16  3.361767e-16 -3.187905e-16  3.192535e-16 -2.594988e-16   \n",
              "V14     4.165738e-17  7.910367e-17  4.626140e-15  8.980955e-17 -1.061486e-16   \n",
              "V15     1.000000e+00  1.335904e-15  3.208310e-16  7.538156e-16 -8.556257e-16   \n",
              "V16     1.335904e-15  1.000000e+00  1.854297e-15 -3.015119e-15  1.041659e-15   \n",
              "V17     3.208310e-16  1.854297e-15  1.000000e+00 -5.584714e-15 -3.916791e-16   \n",
              "V18     7.538156e-16 -3.015119e-15 -5.584714e-15  1.000000e+00 -2.424185e-15   \n",
              "V19    -8.556257e-16  1.041659e-15 -3.916791e-16 -2.424185e-15  1.000000e+00   \n",
              "V20     3.240475e-16  3.903456e-16 -9.887431e-16 -4.942764e-16  2.938450e-16   \n",
              "V21     1.947458e-17 -3.927401e-16 -7.753967e-16 -1.140973e-15  4.032541e-16   \n",
              "V22    -8.936817e-16  3.878384e-17 -8.389703e-16 -8.662635e-17 -9.690436e-16   \n",
              "V23     1.119827e-16  8.519670e-16  5.367784e-16 -3.624236e-16  5.733798e-16   \n",
              "V24    -4.589689e-16 -4.289239e-16 -5.543631e-17 -1.126043e-16  3.126716e-17   \n",
              "V25     3.869740e-16 -6.644104e-16  4.822068e-16 -2.310856e-16  7.415355e-16   \n",
              "V26     3.761094e-16 -5.186503e-16  4.870302e-16  3.183964e-16  5.614354e-16   \n",
              "V27    -1.265235e-15  7.820038e-16  8.844373e-16  2.435170e-16 -1.113035e-16   \n",
              "V28    -1.063286e-15  8.637186e-16 -2.182692e-16  8.844995e-16 -1.375843e-15   \n",
              "Amount -2.985848e-03 -3.909527e-03  7.309042e-03  3.565034e-02 -5.615079e-02   \n",
              "Class  -4.223402e-03 -1.965389e-01 -3.264811e-01 -1.114853e-01  3.478301e-02   \n",
              "\n",
              "                 V20           V21           V22           V23           V24  \\\n",
              "Time   -5.086602e-02  4.473573e-02  1.440591e-01  5.114236e-02 -1.618187e-02   \n",
              "V1      1.036959e-16 -1.755072e-16  7.477367e-17  9.808705e-16  7.354269e-17   \n",
              "V2     -9.309954e-16  8.444409e-17  2.500830e-16  1.059562e-16 -8.142354e-18   \n",
              "V3     -9.429297e-16 -2.971969e-17  4.648259e-16  2.115206e-17 -9.351637e-17   \n",
              "V4     -3.223123e-16 -9.976950e-17  2.099922e-16  6.002528e-17  2.229738e-16   \n",
              "V5      2.076048e-16 -1.368701e-16  5.060029e-16  1.637596e-16 -9.286095e-16   \n",
              "V6      1.898638e-16 -1.575903e-16 -3.362902e-16 -7.232186e-17 -1.261867e-15   \n",
              "V7      1.744242e-16  1.938604e-16 -1.058131e-15  2.327911e-16 -2.589727e-17   \n",
              "V8     -1.095534e-16 -2.412439e-16  5.475559e-16  3.897104e-16 -1.802967e-16   \n",
              "V9     -4.340941e-16  4.578389e-17  2.871855e-17  5.929286e-16 -2.346385e-16   \n",
              "V10    -1.141888e-15  8.089504e-16 -6.707598e-16  3.809732e-16 -4.032806e-17   \n",
              "V11    -2.310189e-16 -3.911893e-16 -3.811640e-17  2.232007e-16  1.219849e-15   \n",
              "V12     1.276976e-16  3.229576e-16 -5.903992e-16  1.392162e-16  4.901644e-16   \n",
              "V13     2.345665e-18  9.499130e-17 -2.659710e-17 -5.884304e-16 -5.470547e-16   \n",
              "V14    -1.789433e-16  1.634141e-17  3.439699e-16  7.620728e-17  2.335749e-16   \n",
              "V15     3.240475e-16  1.947458e-17 -8.936817e-16  1.119827e-16 -4.589689e-16   \n",
              "V16     3.903456e-16 -3.927401e-16  3.878384e-17  8.519670e-16 -4.289239e-16   \n",
              "V17    -9.887431e-16 -7.753967e-16 -8.389703e-16  5.367784e-16 -5.543631e-17   \n",
              "V18    -4.942764e-16 -1.140973e-15 -8.662635e-17 -3.624236e-16 -1.126043e-16   \n",
              "V19     2.938450e-16  4.032541e-16 -9.690436e-16  5.733798e-16  3.126716e-17   \n",
              "V20     1.000000e+00 -1.120828e-15  1.105842e-15  4.986739e-16  1.637488e-16   \n",
              "V21    -1.120828e-15  1.000000e+00  3.905948e-15  6.127323e-16  1.298254e-16   \n",
              "V22     1.105842e-15  3.905948e-15  1.000000e+00  3.130812e-16  1.150829e-17   \n",
              "V23     4.986739e-16  6.127323e-16  3.130812e-16  1.000000e+00 -4.411271e-17   \n",
              "V24     1.637488e-16  1.298254e-16  1.150829e-17 -4.411271e-17  1.000000e+00   \n",
              "V25    -1.518242e-16 -2.826293e-16 -6.078986e-16 -9.938362e-16  1.557318e-15   \n",
              "V26    -2.975081e-16 -4.907301e-16 -8.477050e-16  8.848700e-16  3.129195e-16   \n",
              "V27    -1.446069e-15 -1.033403e-15 -1.294910e-16  5.524044e-16 -3.736529e-16   \n",
              "V28    -1.133579e-16  5.132234e-16 -3.021376e-16  9.029821e-16 -2.259275e-16   \n",
              "Amount  3.394034e-01  1.059989e-01 -6.480065e-02 -1.126326e-01  5.146217e-03   \n",
              "Class   2.009032e-02  4.041338e-02  8.053175e-04 -2.685156e-03 -7.220907e-03   \n",
              "\n",
              "                 V25           V26           V27           V28    Amount  \\\n",
              "Time   -2.330828e-01 -4.140710e-02 -5.134591e-03 -9.412688e-03 -0.010596   \n",
              "V1     -9.805358e-16 -8.621897e-17  3.208233e-17  9.820892e-16 -0.227709   \n",
              "V2     -4.261894e-17  2.601622e-16 -4.478472e-16 -3.676415e-16 -0.531409   \n",
              "V3      4.771164e-16  6.521501e-16  6.239832e-16  7.726948e-16 -0.210880   \n",
              "V4      5.394585e-16 -6.179751e-16 -6.403423e-17 -5.863664e-17  0.098732   \n",
              "V5      5.625102e-16  9.144690e-16  4.465960e-16 -3.299167e-16 -0.386356   \n",
              "V6      1.081933e-15 -2.378414e-16 -2.623818e-16  4.813155e-16  0.215981   \n",
              "V7      1.174169e-15 -7.334507e-16 -5.886825e-16 -6.836764e-17  0.397311   \n",
              "V8     -1.390791e-16 -1.209975e-16  1.733633e-16 -4.484325e-16 -0.103079   \n",
              "V9      1.099645e-15 -1.388725e-15 -2.287414e-16  9.146779e-16 -0.044246   \n",
              "V10    -2.863813e-16 -2.554293e-16 -3.103239e-16 -1.515934e-16 -0.101502   \n",
              "V11    -4.567635e-16 -1.110976e-16 -2.635827e-16 -3.091914e-16  0.000104   \n",
              "V12     5.053736e-16 -5.759321e-16 -2.312619e-16  7.327446e-16 -0.009542   \n",
              "V13     8.066738e-17 -2.121518e-16 -4.520414e-16  1.049541e-15  0.005293   \n",
              "V14    -2.606783e-16 -6.580254e-18  1.285770e-16  2.503271e-15  0.033751   \n",
              "V15     3.869740e-16  3.761094e-16 -1.265235e-15 -1.063286e-15 -0.002986   \n",
              "V16    -6.644104e-16 -5.186503e-16  7.820038e-16  8.637186e-16 -0.003910   \n",
              "V17     4.822068e-16  4.870302e-16  8.844373e-16 -2.182692e-16  0.007309   \n",
              "V18    -2.310856e-16  3.183964e-16  2.435170e-16  8.844995e-16  0.035650   \n",
              "V19     7.415355e-16  5.614354e-16 -1.113035e-16 -1.375843e-15 -0.056151   \n",
              "V20    -1.518242e-16 -2.975081e-16 -1.446069e-15 -1.133579e-16  0.339403   \n",
              "V21    -2.826293e-16 -4.907301e-16 -1.033403e-15  5.132234e-16  0.105999   \n",
              "V22    -6.078986e-16 -8.477050e-16 -1.294910e-16 -3.021376e-16 -0.064801   \n",
              "V23    -9.938362e-16  8.848700e-16  5.524044e-16  9.029821e-16 -0.112633   \n",
              "V24     1.557318e-15  3.129195e-16 -3.736529e-16 -2.259275e-16  0.005146   \n",
              "V25     1.000000e+00  2.810884e-15 -6.107118e-16  3.399375e-16 -0.047837   \n",
              "V26     2.810884e-15  1.000000e+00 -3.383861e-16 -3.751403e-16 -0.003208   \n",
              "V27    -6.107118e-16 -3.383861e-16  1.000000e+00 -3.770124e-16  0.028825   \n",
              "V28     3.399375e-16 -3.751403e-16 -3.770124e-16  1.000000e+00  0.010258   \n",
              "Amount -4.783686e-02 -3.208037e-03  2.882546e-02  1.025822e-02  1.000000   \n",
              "Class   3.307706e-03  4.455398e-03  1.757973e-02  9.536041e-03  0.005632   \n",
              "\n",
              "           Class  \n",
              "Time   -0.012323  \n",
              "V1     -0.101347  \n",
              "V2      0.091289  \n",
              "V3     -0.192961  \n",
              "V4      0.133447  \n",
              "V5     -0.094974  \n",
              "V6     -0.043643  \n",
              "V7     -0.187257  \n",
              "V8      0.019875  \n",
              "V9     -0.097733  \n",
              "V10    -0.216883  \n",
              "V11     0.154876  \n",
              "V12    -0.260593  \n",
              "V13    -0.004570  \n",
              "V14    -0.302544  \n",
              "V15    -0.004223  \n",
              "V16    -0.196539  \n",
              "V17    -0.326481  \n",
              "V18    -0.111485  \n",
              "V19     0.034783  \n",
              "V20     0.020090  \n",
              "V21     0.040413  \n",
              "V22     0.000805  \n",
              "V23    -0.002685  \n",
              "V24    -0.007221  \n",
              "V25     0.003308  \n",
              "V26     0.004455  \n",
              "V27     0.017580  \n",
              "V28     0.009536  \n",
              "Amount  0.005632  \n",
              "Class   1.000000  "
            ]
          },
          "metadata": {},
          "execution_count": 29
        }
      ]
    },
    {
      "cell_type": "code",
      "metadata": {
        "id": "uBKD4f5PFFPh"
      },
      "source": [
        ""
      ],
      "execution_count": null,
      "outputs": []
    },
    {
      "cell_type": "markdown",
      "metadata": {
        "id": "nd6E_HTnFJcZ"
      },
      "source": [
        "# Supervised ML: Single-Feature Sort\n",
        "Baseline: It seems we might do okay just by looking at individual PCs that have shown strong class separation\n",
        "\n",
        "e.g. V14\n",
        "\n",
        "Let's consider just using scaled V14 directly as a confidence value.\n",
        "\n",
        "AUPRC considers all thresholds, so only the sort ordering matters."
      ]
    },
    {
      "cell_type": "code",
      "metadata": {
        "colab": {
          "base_uri": "https://localhost:8080/"
        },
        "id": "QynzQyGUFKoE",
        "outputId": "0a191303-79de-49c5-b2fa-05c72db51706"
      },
      "source": [
        "# Min-Max Scaling\n",
        "preds_m0_V14 = (tv_df.V14-tv_df.V14.max())/(tv_df.V14.min()-tv_df.V14.max())\n",
        "preds_m0_V14.head()"
      ],
      "execution_count": 30,
      "outputs": [
        {
          "output_type": "execute_result",
          "data": {
            "text/plain": [
              "77847     0.322759\n",
              "47704     0.291569\n",
              "109546    0.260655\n",
              "197986    0.244690\n",
              "260998    0.300043\n",
              "Name: V14, dtype: float64"
            ]
          },
          "metadata": {},
          "execution_count": 30
        }
      ]
    },
    {
      "cell_type": "code",
      "metadata": {
        "id": "hzEiF8ttIwBx"
      },
      "source": [
        "def plotMinMaxScaledVsIndex(X,y,field,flip,options=None):\n",
        "    if (options is None):\n",
        "        options = {'colors':[[0,0,0],[1,0,0]]}\n",
        "    ps = seriesTransform(X,field)\n",
        "    (psMin,psMax) = (ps.max(),ps.min()) if flip else (ps.min(),ps.max())\n",
        "    plt.plot((ps[y==0]-psMin)/(psMax-psMin),'.',color=options['colors'][0])\n",
        "    plt.plot((ps[y==1]-psMin)/(psMax-psMin),'.',color=options['colors'][1])\n",
        "    plt.ylabel('Confidence given by %s' % field)\n",
        "    plt.xlabel('index')\n",
        "    plt.show()"
      ],
      "execution_count": 31,
      "outputs": []
    },
    {
      "cell_type": "code",
      "metadata": {
        "colab": {
          "base_uri": "https://localhost:8080/",
          "height": 279
        },
        "id": "sR3WRxWGI1ha",
        "outputId": "f9cfaf20-649c-4098-cc01-53fe38444347"
      },
      "source": [
        "plotMinMaxScaledVsIndex(X_tv,y_tv,'V14',flip=True)"
      ],
      "execution_count": 32,
      "outputs": [
        {
          "output_type": "display_data",
          "data": {
            "image/png": "[encoded data removed]",
            "text/plain": [
              "<Figure size 432x288 with 1 Axes>"
            ]
          },
          "metadata": {
            "needs_background": "light"
          }
        }
      ]
    },
    {
      "cell_type": "markdown",
      "metadata": {
        "id": "nQ92An1TI8Oj"
      },
      "source": [
        "custom sklearn pipeline to perform preprocessing and fit a model."
      ]
    },
    {
      "cell_type": "code",
      "metadata": {
        "id": "8_zZoLMHJCgs"
      },
      "source": [
        "from sklearn.base import BaseEstimator\n",
        "from sklearn.base import TransformerMixin\n",
        "from sklearn.pipeline import Pipeline\n",
        "from sklearn.preprocessing import StandardScaler\n",
        "from sklearn.linear_model import LogisticRegression\n",
        "from sklearn.metrics import confusion_matrix"
      ],
      "execution_count": 33,
      "outputs": []
    },
    {
      "cell_type": "code",
      "metadata": {
        "id": "tFbaoAz3JIkJ"
      },
      "source": [
        "class AmountTransformer(BaseEstimator,TransformerMixin):\n",
        "    def __init__(self,myFloor=0.001):\n",
        "        self.floor=myFloor\n",
        "        \n",
        "    def fit(self,X,y=None):\n",
        "        return(self)\n",
        "        \n",
        "    def transform(self,X,y=None):\n",
        "        X_ = X.copy()\n",
        "        if 'Amount' in X.columns:\n",
        "            X_.Amount = np.log10(X_.Amount.apply(lambda x: max(x,self.floor)))\n",
        "        return(X_)"
      ],
      "execution_count": 34,
      "outputs": []
    },
    {
      "cell_type": "code",
      "metadata": {
        "colab": {
          "base_uri": "https://localhost:8080/",
          "height": 224
        },
        "id": "EHkFsKzEJVZb",
        "outputId": "e1d99dd1-ce29-4ee0-acb2-e0341622298d"
      },
      "source": [
        "\n",
        "# test AmountTransformer() :\n",
        "pipe0 = Pipeline([('amt_tx',AmountTransformer(myFloor=0.005))])\n",
        "df9 = train_df.head().copy()\n",
        "df9.at[121392,'Amount'] = 0.00\n",
        "_ = pipe0.fit(df9)\n",
        "pipe0.transform(df9)"
      ],
      "execution_count": 35,
      "outputs": [
        {
          "output_type": "execute_result",
          "data": {
            "text/html": [
              "<div>\n",
              "<style scoped>\n",
              "    .dataframe tbody tr th:only-of-type {\n",
              "        vertical-align: middle;\n",
              "    }\n",
              "\n",
              "    .dataframe tbody tr th {\n",
              "        vertical-align: top;\n",
              "    }\n",
              "\n",
              "    .dataframe thead th {\n",
              "        text-align: right;\n",
              "    }\n",
              "</style>\n",
              "<table border=\"1\" class=\"dataframe\">\n",
              "  <thead>\n",
              "    <tr style=\"text-align: right;\">\n",
              "      <th></th>\n",
              "      <th>Time</th>\n",
              "      <th>V1</th>\n",
              "      <th>V2</th>\n",
              "      <th>V3</th>\n",
              "      <th>V4</th>\n",
              "      <th>V5</th>\n",
              "      <th>V6</th>\n",
              "      <th>V7</th>\n",
              "      <th>V8</th>\n",
              "      <th>V9</th>\n",
              "      <th>V10</th>\n",
              "      <th>V11</th>\n",
              "      <th>V12</th>\n",
              "      <th>V13</th>\n",
              "      <th>V14</th>\n",
              "      <th>V15</th>\n",
              "      <th>V16</th>\n",
              "      <th>V17</th>\n",
              "      <th>V18</th>\n",
              "      <th>V19</th>\n",
              "      <th>V20</th>\n",
              "      <th>V21</th>\n",
              "      <th>V22</th>\n",
              "      <th>V23</th>\n",
              "      <th>V24</th>\n",
              "      <th>V25</th>\n",
              "      <th>V26</th>\n",
              "      <th>V27</th>\n",
              "      <th>V28</th>\n",
              "      <th>Amount</th>\n",
              "      <th>Class</th>\n",
              "    </tr>\n",
              "  </thead>\n",
              "  <tbody>\n",
              "    <tr>\n",
              "      <th>171406</th>\n",
              "      <td>120623.0</td>\n",
              "      <td>-0.984629</td>\n",
              "      <td>1.414785</td>\n",
              "      <td>1.142971</td>\n",
              "      <td>0.721923</td>\n",
              "      <td>0.341204</td>\n",
              "      <td>0.300499</td>\n",
              "      <td>0.306724</td>\n",
              "      <td>0.637640</td>\n",
              "      <td>-0.507866</td>\n",
              "      <td>-0.550513</td>\n",
              "      <td>-1.443815</td>\n",
              "      <td>-0.361680</td>\n",
              "      <td>-0.661963</td>\n",
              "      <td>0.511432</td>\n",
              "      <td>0.519812</td>\n",
              "      <td>-0.229372</td>\n",
              "      <td>0.094195</td>\n",
              "      <td>-0.210358</td>\n",
              "      <td>1.038043</td>\n",
              "      <td>0.042764</td>\n",
              "      <td>-0.485255</td>\n",
              "      <td>-1.440586</td>\n",
              "      <td>-0.085621</td>\n",
              "      <td>0.302629</td>\n",
              "      <td>0.350915</td>\n",
              "      <td>-0.845549</td>\n",
              "      <td>0.210625</td>\n",
              "      <td>0.074265</td>\n",
              "      <td>0.000000</td>\n",
              "      <td>0</td>\n",
              "    </tr>\n",
              "    <tr>\n",
              "      <th>50930</th>\n",
              "      <td>44708.0</td>\n",
              "      <td>-4.686662</td>\n",
              "      <td>3.284455</td>\n",
              "      <td>-1.260573</td>\n",
              "      <td>0.283085</td>\n",
              "      <td>-3.713478</td>\n",
              "      <td>-0.364052</td>\n",
              "      <td>-2.859323</td>\n",
              "      <td>3.536301</td>\n",
              "      <td>-0.077482</td>\n",
              "      <td>-0.520877</td>\n",
              "      <td>-0.106201</td>\n",
              "      <td>2.016687</td>\n",
              "      <td>0.017443</td>\n",
              "      <td>1.828058</td>\n",
              "      <td>-0.882568</td>\n",
              "      <td>1.098935</td>\n",
              "      <td>0.951901</td>\n",
              "      <td>0.594046</td>\n",
              "      <td>0.159057</td>\n",
              "      <td>-0.570473</td>\n",
              "      <td>0.320571</td>\n",
              "      <td>0.016018</td>\n",
              "      <td>0.271662</td>\n",
              "      <td>0.544310</td>\n",
              "      <td>0.036979</td>\n",
              "      <td>0.212491</td>\n",
              "      <td>-1.176372</td>\n",
              "      <td>-0.306610</td>\n",
              "      <td>1.630631</td>\n",
              "      <td>0</td>\n",
              "    </tr>\n",
              "    <tr>\n",
              "      <th>121392</th>\n",
              "      <td>76175.0</td>\n",
              "      <td>-1.173649</td>\n",
              "      <td>0.636961</td>\n",
              "      <td>1.143740</td>\n",
              "      <td>-0.503729</td>\n",
              "      <td>-0.492146</td>\n",
              "      <td>-0.562572</td>\n",
              "      <td>0.795793</td>\n",
              "      <td>0.424550</td>\n",
              "      <td>-0.919000</td>\n",
              "      <td>-0.921945</td>\n",
              "      <td>1.056623</td>\n",
              "      <td>0.794539</td>\n",
              "      <td>-0.051821</td>\n",
              "      <td>0.679481</td>\n",
              "      <td>-0.323120</td>\n",
              "      <td>0.837916</td>\n",
              "      <td>-0.738078</td>\n",
              "      <td>0.069298</td>\n",
              "      <td>-0.314985</td>\n",
              "      <td>0.108486</td>\n",
              "      <td>-0.067052</td>\n",
              "      <td>-0.753516</td>\n",
              "      <td>0.402676</td>\n",
              "      <td>0.292369</td>\n",
              "      <td>-0.421691</td>\n",
              "      <td>-0.101075</td>\n",
              "      <td>-0.118677</td>\n",
              "      <td>0.044447</td>\n",
              "      <td>-2.301030</td>\n",
              "      <td>0</td>\n",
              "    </tr>\n",
              "    <tr>\n",
              "      <th>24193</th>\n",
              "      <td>33111.0</td>\n",
              "      <td>-0.490202</td>\n",
              "      <td>0.631620</td>\n",
              "      <td>1.481300</td>\n",
              "      <td>1.094980</td>\n",
              "      <td>0.458802</td>\n",
              "      <td>-0.029032</td>\n",
              "      <td>0.226646</td>\n",
              "      <td>0.239776</td>\n",
              "      <td>-0.802914</td>\n",
              "      <td>0.078970</td>\n",
              "      <td>1.224848</td>\n",
              "      <td>0.068797</td>\n",
              "      <td>-1.048204</td>\n",
              "      <td>0.744883</td>\n",
              "      <td>0.900545</td>\n",
              "      <td>-0.396553</td>\n",
              "      <td>-0.020066</td>\n",
              "      <td>0.410081</td>\n",
              "      <td>0.584804</td>\n",
              "      <td>0.023049</td>\n",
              "      <td>0.279840</td>\n",
              "      <td>0.744216</td>\n",
              "      <td>-0.129144</td>\n",
              "      <td>0.014592</td>\n",
              "      <td>-0.319697</td>\n",
              "      <td>-0.202935</td>\n",
              "      <td>0.168859</td>\n",
              "      <td>0.144563</td>\n",
              "      <td>0.477121</td>\n",
              "      <td>0</td>\n",
              "    </tr>\n",
              "    <tr>\n",
              "      <th>43834</th>\n",
              "      <td>41670.0</td>\n",
              "      <td>0.091415</td>\n",
              "      <td>0.496080</td>\n",
              "      <td>1.594352</td>\n",
              "      <td>1.738100</td>\n",
              "      <td>0.028156</td>\n",
              "      <td>0.269313</td>\n",
              "      <td>0.326573</td>\n",
              "      <td>-0.057416</td>\n",
              "      <td>0.160143</td>\n",
              "      <td>0.113772</td>\n",
              "      <td>-0.618425</td>\n",
              "      <td>-0.081564</td>\n",
              "      <td>-0.508855</td>\n",
              "      <td>-0.233107</td>\n",
              "      <td>0.594905</td>\n",
              "      <td>-1.497220</td>\n",
              "      <td>0.807700</td>\n",
              "      <td>-0.449058</td>\n",
              "      <td>1.360342</td>\n",
              "      <td>0.130510</td>\n",
              "      <td>0.026178</td>\n",
              "      <td>0.537444</td>\n",
              "      <td>-0.105691</td>\n",
              "      <td>0.106715</td>\n",
              "      <td>-0.266194</td>\n",
              "      <td>-0.122100</td>\n",
              "      <td>-0.022336</td>\n",
              "      <td>-0.170998</td>\n",
              "      <td>1.173186</td>\n",
              "      <td>0</td>\n",
              "    </tr>\n",
              "  </tbody>\n",
              "</table>\n",
              "</div>"
            ],
            "text/plain": [
              "            Time        V1        V2        V3        V4        V5        V6  \\\n",
              "171406  120623.0 -0.984629  1.414785  1.142971  0.721923  0.341204  0.300499   \n",
              "50930    44708.0 -4.686662  3.284455 -1.260573  0.283085 -3.713478 -0.364052   \n",
              "121392   76175.0 -1.173649  0.636961  1.143740 -0.503729 -0.492146 -0.562572   \n",
              "24193    33111.0 -0.490202  0.631620  1.481300  1.094980  0.458802 -0.029032   \n",
              "43834    41670.0  0.091415  0.496080  1.594352  1.738100  0.028156  0.269313   \n",
              "\n",
              "              V7        V8        V9       V10       V11       V12       V13  \\\n",
              "171406  0.306724  0.637640 -0.507866 -0.550513 -1.443815 -0.361680 -0.661963   \n",
              "50930  -2.859323  3.536301 -0.077482 -0.520877 -0.106201  2.016687  0.017443   \n",
              "121392  0.795793  0.424550 -0.919000 -0.921945  1.056623  0.794539 -0.051821   \n",
              "24193   0.226646  0.239776 -0.802914  0.078970  1.224848  0.068797 -1.048204   \n",
              "43834   0.326573 -0.057416  0.160143  0.113772 -0.618425 -0.081564 -0.508855   \n",
              "\n",
              "             V14       V15       V16       V17       V18       V19       V20  \\\n",
              "171406  0.511432  0.519812 -0.229372  0.094195 -0.210358  1.038043  0.042764   \n",
              "50930   1.828058 -0.882568  1.098935  0.951901  0.594046  0.159057 -0.570473   \n",
              "121392  0.679481 -0.323120  0.837916 -0.738078  0.069298 -0.314985  0.108486   \n",
              "24193   0.744883  0.900545 -0.396553 -0.020066  0.410081  0.584804  0.023049   \n",
              "43834  -0.233107  0.594905 -1.497220  0.807700 -0.449058  1.360342  0.130510   \n",
              "\n",
              "             V21       V22       V23       V24       V25       V26       V27  \\\n",
              "171406 -0.485255 -1.440586 -0.085621  0.302629  0.350915 -0.845549  0.210625   \n",
              "50930   0.320571  0.016018  0.271662  0.544310  0.036979  0.212491 -1.176372   \n",
              "121392 -0.067052 -0.753516  0.402676  0.292369 -0.421691 -0.101075 -0.118677   \n",
              "24193   0.279840  0.744216 -0.129144  0.014592 -0.319697 -0.202935  0.168859   \n",
              "43834   0.026178  0.537444 -0.105691  0.106715 -0.266194 -0.122100 -0.022336   \n",
              "\n",
              "             V28    Amount  Class  \n",
              "171406  0.074265  0.000000      0  \n",
              "50930  -0.306610  1.630631      0  \n",
              "121392  0.044447 -2.301030      0  \n",
              "24193   0.144563  0.477121      0  \n",
              "43834  -0.170998  1.173186      0  "
            ]
          },
          "metadata": {},
          "execution_count": 35
        }
      ]
    },
    {
      "cell_type": "code",
      "metadata": {
        "id": "sHz-YkWzJbp8"
      },
      "source": [
        "pipe1 = Pipeline([('amt_tx',AmountTransformer(myFloor=0.005)),('std_normz',StandardScaler())])\n",
        "_=pipe1.fit(X_tv)"
      ],
      "execution_count": 36,
      "outputs": []
    },
    {
      "cell_type": "code",
      "metadata": {
        "id": "Pb4ypJenJfIU"
      },
      "source": [
        "preprocessed_tv = pd.DataFrame(pipe1.transform(X_tv),index=X_tv.index,columns=X_tv.columns)"
      ],
      "execution_count": 37,
      "outputs": []
    },
    {
      "cell_type": "code",
      "metadata": {
        "colab": {
          "base_uri": "https://localhost:8080/",
          "height": 283
        },
        "id": "poaANZF9Jibk",
        "outputId": "b22728bf-5e3a-449f-d1f0-896b61d017bf"
      },
      "source": [
        "col = 'Amount'\n",
        "plt.plot(preprocessed_tv[col][y_tv==0],'k.')\n",
        "plt.plot(preprocessed_tv[col][y_tv==1],'r.')\n",
        "plt.ylabel(col)\n",
        "plt.xlabel('what')\n",
        "plt.show()"
      ],
      "execution_count": 38,
      "outputs": [
        {
          "output_type": "display_data",
          "data": {
            "image/png": "[encoded data removed]",
            "text/plain": [
              "<Figure size 432x288 with 1 Axes>"
            ]
          },
          "metadata": {
            "needs_background": "light"
          }
        }
      ]
    },
    {
      "cell_type": "markdown",
      "metadata": {
        "id": "yMgvlygtKjJL"
      },
      "source": [
        "Logistic regression model with one feature directly as the confidence value.\n",
        "V14 provides a decent class separation.\n",
        "It will be a monotonic function of the single variable."
      ]
    },
    {
      "cell_type": "code",
      "metadata": {
        "id": "QiQ4dbHiKyZr"
      },
      "source": [
        "pipe2 = Pipeline([('amt_tx',AmountTransformer(myFloor=0.005)),\n",
        "                  ('std_normz',StandardScaler()),\n",
        "                 ('logisticRegression',LogisticRegression(penalty='none',fit_intercept=True,class_weight='balanced'))])\n",
        "_=pipe2.fit(X_train[['V14']],y_train)"
      ],
      "execution_count": 39,
      "outputs": []
    },
    {
      "cell_type": "code",
      "metadata": {
        "id": "duAiwrWVK5SU"
      },
      "source": [
        "preds2=pipe2.predict(X_val[['V14']])\n",
        "decFunc2 = pipe2.decision_function(X_val[['V14']])"
      ],
      "execution_count": 40,
      "outputs": []
    },
    {
      "cell_type": "code",
      "metadata": {
        "colab": {
          "base_uri": "https://localhost:8080/",
          "height": 282
        },
        "id": "MRV2jrGQK8b2",
        "outputId": "2a6aedd4-9f75-4f23-cee3-be9b59bcbcf1"
      },
      "source": [
        "plt.plot(decFunc2,preds2,'.')"
      ],
      "execution_count": 41,
      "outputs": [
        {
          "output_type": "execute_result",
          "data": {
            "text/plain": [
              "[<matplotlib.lines.Line2D at 0x7f3bf4f5b150>]"
            ]
          },
          "metadata": {},
          "execution_count": 41
        },
        {
          "output_type": "display_data",
          "data": {
            "image/png": "[encoded data removed]",
            "text/plain": [
              "<Figure size 432x288 with 1 Axes>"
            ]
          },
          "metadata": {
            "needs_background": "light"
          }
        }
      ]
    },
    {
      "cell_type": "code",
      "metadata": {
        "colab": {
          "base_uri": "https://localhost:8080/"
        },
        "id": "9kzm57WNLBj9",
        "outputId": "dae3b32f-c93e-4879-9d33-7b1504fe75cc"
      },
      "source": [
        "print((len(preds2),sum(preds2)))"
      ],
      "execution_count": 42,
      "outputs": [
        {
          "output_type": "stream",
          "name": "stdout",
          "text": [
            "(45569, 1284)\n"
          ]
        }
      ]
    },
    {
      "cell_type": "code",
      "metadata": {
        "colab": {
          "base_uri": "https://localhost:8080/",
          "height": 279
        },
        "id": "Y-Y9068bLFEv",
        "outputId": "9f88b8c5-393c-4456-8ff4-1812f536b21d"
      },
      "source": [
        "col = 'V14'\n",
        "plt.plot(X_val[col][(preds2==0) & (y_val==0)],'k.')\n",
        "plt.plot(X_val[col][(preds2==0) & (y_val==1)],'r.')\n",
        "plt.plot(X_val[col][(preds2==1) & (y_val==0)],'.',color=[0,0.5,0.9])\n",
        "plt.plot(X_val[col][(preds2==1) & (y_val==1)],'.',color=[1,0.7,0])\n",
        "plt.ylabel(col)\n",
        "plt.xlabel('index')\n",
        "plt.show()"
      ],
      "execution_count": 43,
      "outputs": [
        {
          "output_type": "display_data",
          "data": {
            "image/png": "[encoded data removed]",
            "text/plain": [
              "<Figure size 432x288 with 1 Axes>"
            ]
          },
          "metadata": {
            "needs_background": "light"
          }
        }
      ]
    },
    {
      "cell_type": "code",
      "metadata": {
        "colab": {
          "base_uri": "https://localhost:8080/"
        },
        "id": "QjtRzMODLLue",
        "outputId": "7b22158c-b462-45d9-c8e3-71b001bb5119"
      },
      "source": [
        "preds2"
      ],
      "execution_count": 44,
      "outputs": [
        {
          "output_type": "execute_result",
          "data": {
            "text/plain": [
              "array([0, 0, 0, ..., 0, 0, 0])"
            ]
          },
          "metadata": {},
          "execution_count": 44
        }
      ]
    },
    {
      "cell_type": "code",
      "metadata": {
        "colab": {
          "base_uri": "https://localhost:8080/",
          "height": 279
        },
        "id": "e-JXi0kYLOya",
        "outputId": "13133110-18ee-49b4-a71d-4c568f1420c5"
      },
      "source": [
        "col = 'V14'\n",
        "cdf_0 = cdf(X_val[col][y_val==0])\n",
        "cdf_1 = cdf(X_val[col][y_val==1])\n",
        "\n",
        "threshold_V14_balanced = 0.5*(X_val.V14[preds2==1].max() + X_val.V14[preds2==0].min())\n",
        "        # not robust to new data: need to flip if predictor increases with class \n",
        "plt.plot(cdf_0.x[cdf_0.x>threshold_V14_balanced],cdf_0.CDF[cdf_0.x>threshold_V14_balanced],'k.')\n",
        "plt.plot(cdf_1.x[cdf_1.x>threshold_V14_balanced],cdf_1.CDF[cdf_1.x>threshold_V14_balanced],'r.')\n",
        "plt.plot(cdf_0.x[cdf_0.x<=threshold_V14_balanced],cdf_0.CDF[cdf_0.x<=threshold_V14_balanced],'.',color=[0,0.5,0.9])\n",
        "plt.plot(cdf_1.x[cdf_1.x<=threshold_V14_balanced],cdf_1.CDF[cdf_1.x<=threshold_V14_balanced],'.',color=[1,0.7,0])\n",
        "plt.ylabel('CDF of V14')\n",
        "plt.xlabel('V14')\n",
        "plt.show()"
      ],
      "execution_count": 45,
      "outputs": [
        {
          "output_type": "display_data",
          "data": {
            "image/png": "[encoded data removed]",
            "text/plain": [
              "<Figure size 432x288 with 1 Axes>"
            ]
          },
          "metadata": {
            "needs_background": "light"
          }
        }
      ]
    },
    {
      "cell_type": "code",
      "metadata": {
        "colab": {
          "base_uri": "https://localhost:8080/"
        },
        "id": "3UTca8uPL0es",
        "outputId": "3f0f7c2c-a3a5-47f3-b761-90e44175de73"
      },
      "source": [
        "from sklearn.metrics import confusion_matrix\n",
        "confusion_matrix(y_val,preds2)"
      ],
      "execution_count": 46,
      "outputs": [
        {
          "output_type": "execute_result",
          "data": {
            "text/plain": [
              "array([[44274,  1216],\n",
              "       [   11,    68]])"
            ]
          },
          "metadata": {},
          "execution_count": 46
        }
      ]
    },
    {
      "cell_type": "code",
      "metadata": {
        "colab": {
          "base_uri": "https://localhost:8080/"
        },
        "id": "rjKcVu72L470",
        "outputId": "46d878e7-f774-490a-992d-452671dc4f37"
      },
      "source": [
        "from sklearn.metrics import classification_report\n",
        "print(classification_report(y_val,preds2))"
      ],
      "execution_count": 47,
      "outputs": [
        {
          "output_type": "stream",
          "name": "stdout",
          "text": [
            "              precision    recall  f1-score   support\n",
            "\n",
            "           0       1.00      0.97      0.99     45490\n",
            "           1       0.05      0.86      0.10        79\n",
            "\n",
            "    accuracy                           0.97     45569\n",
            "   macro avg       0.53      0.92      0.54     45569\n",
            "weighted avg       1.00      0.97      0.98     45569\n",
            "\n"
          ]
        }
      ]
    },
    {
      "cell_type": "code",
      "metadata": {
        "id": "-Mh-ctZJL83z"
      },
      "source": [
        "from sklearn.metrics import precision_recall_curve\n",
        "from sklearn.metrics import auc\n",
        "from sklearn.metrics import average_precision_score"
      ],
      "execution_count": 48,
      "outputs": []
    },
    {
      "cell_type": "code",
      "metadata": {
        "colab": {
          "base_uri": "https://localhost:8080/",
          "height": 279
        },
        "id": "_uX5P1MBMAS4",
        "outputId": "543a0ae0-ff9b-425a-86b6-0a9a551cd5b8"
      },
      "source": [
        "(precis2,recall2,thresh2) = precision_recall_curve(y_val, decFunc2)\n",
        "plt.plot(recall2,precis2)\n",
        "plt.xlabel('recall')\n",
        "plt.ylabel('precision')\n",
        "plt.show()"
      ],
      "execution_count": 49,
      "outputs": [
        {
          "output_type": "display_data",
          "data": {
            "image/png": "[encoded data removed]",
            "text/plain": [
              "<Figure size 432x288 with 1 Axes>"
            ]
          },
          "metadata": {
            "needs_background": "light"
          }
        }
      ]
    },
    {
      "cell_type": "code",
      "metadata": {
        "colab": {
          "base_uri": "https://localhost:8080/"
        },
        "id": "vuSEnJv6MEj8",
        "outputId": "a3467d6c-5e02-4d6b-8f37-9ed3c9f91dd1"
      },
      "source": [
        "print(auc(recall2,precis2))\n",
        "print(average_precision_score(y_val,decFunc2))"
      ],
      "execution_count": 50,
      "outputs": [
        {
          "output_type": "stream",
          "name": "stdout",
          "text": [
            "0.6681924055357462\n",
            "0.6699344653399216\n"
          ]
        }
      ]
    },
    {
      "cell_type": "markdown",
      "metadata": {
        "id": "O0l31kF3MUQ2"
      },
      "source": [
        "# Logistic Regression"
      ]
    },
    {
      "cell_type": "code",
      "metadata": {
        "id": "i2bZExLjMVlv"
      },
      "source": [
        "pipe3 = Pipeline([('amt_tx',AmountTransformer(myFloor=0.005)),\n",
        "                  ('std_normz',StandardScaler()),\n",
        "                 ('logisticRegression',LogisticRegression(penalty='none',fit_intercept=True,class_weight='balanced'))])\n",
        "_=pipe3.fit(X_train,y_train)"
      ],
      "execution_count": 51,
      "outputs": []
    },
    {
      "cell_type": "code",
      "metadata": {
        "id": "1aFMkMAJMfs1"
      },
      "source": [
        "\n",
        "preds3=pipe3.predict(X_val)\n",
        "decFunc3 = pipe3.decision_function(X_val)"
      ],
      "execution_count": null,
      "outputs": []
    },
    {
      "cell_type": "code",
      "metadata": {
        "colab": {
          "base_uri": "https://localhost:8080/",
          "height": 279
        },
        "id": "cJVZSE1zMbwV",
        "outputId": "397ad43f-a1dc-451a-e959-721d3a26da7c"
      },
      "source": [
        "col = 'V14'\n",
        "plt.plot(X_val[col][(preds3==0) & (y_val==0)],'k.')\n",
        "plt.plot(X_val[col][(preds3==1) & (y_val==0)],'.',color=[0,0.5,0.9])\n",
        "plt.plot(X_val[col][(preds3==0) & (y_val==1)],'.',color=[1,0,0])\n",
        "plt.plot(X_val[col][(preds3==1) & (y_val==1)],'.',color=[1.0,0.7,0.0])\n",
        "plt.ylabel(col)\n",
        "plt.xlabel('index')\n",
        "plt.show()"
      ],
      "execution_count": 53,
      "outputs": [
        {
          "output_type": "display_data",
          "data": {
            "image/png": "[encoded data removed]",
            "text/plain": [
              "<Figure size 432x288 with 1 Axes>"
            ]
          },
          "metadata": {
            "needs_background": "light"
          }
        }
      ]
    },
    {
      "cell_type": "code",
      "metadata": {
        "colab": {
          "base_uri": "https://localhost:8080/"
        },
        "id": "8xkheTjeMlJq",
        "outputId": "12201134-f48e-445d-cd59-383e820f45fa"
      },
      "source": [
        "#Metrics\n",
        "confusion_matrix(y_val,preds3)"
      ],
      "execution_count": 54,
      "outputs": [
        {
          "output_type": "execute_result",
          "data": {
            "text/plain": [
              "array([[44429,  1061],\n",
              "       [    5,    74]])"
            ]
          },
          "metadata": {},
          "execution_count": 54
        }
      ]
    },
    {
      "cell_type": "code",
      "metadata": {
        "colab": {
          "base_uri": "https://localhost:8080/"
        },
        "id": "N_aJ5UC3MoYh",
        "outputId": "f84f62ec-5e66-47a0-9d75-12b5aa12ac84"
      },
      "source": [
        "print(classification_report(y_val,preds3))"
      ],
      "execution_count": 55,
      "outputs": [
        {
          "output_type": "stream",
          "name": "stdout",
          "text": [
            "              precision    recall  f1-score   support\n",
            "\n",
            "           0       1.00      0.98      0.99     45490\n",
            "           1       0.07      0.94      0.12        79\n",
            "\n",
            "    accuracy                           0.98     45569\n",
            "   macro avg       0.53      0.96      0.56     45569\n",
            "weighted avg       1.00      0.98      0.99     45569\n",
            "\n"
          ]
        }
      ]
    },
    {
      "cell_type": "code",
      "metadata": {
        "colab": {
          "base_uri": "https://localhost:8080/",
          "height": 279
        },
        "id": "8mS8ePh3Mrm8",
        "outputId": "01f50971-e422-4d47-910c-5dd05d12d662"
      },
      "source": [
        "(precis3,recall3,thresh3) = precision_recall_curve(y_val, decFunc3)\n",
        "plt.plot(recall3,precis3,'b')\n",
        "plt.plot(recall2,precis2,'k')\n",
        "plt.xlabel('recall')\n",
        "plt.ylabel('precision')\n",
        "plt.show()"
      ],
      "execution_count": 56,
      "outputs": [
        {
          "output_type": "display_data",
          "data": {
            "image/png": "[encoded data removed]",
            "text/plain": [
              "<Figure size 432x288 with 1 Axes>"
            ]
          },
          "metadata": {
            "needs_background": "light"
          }
        }
      ]
    },
    {
      "cell_type": "code",
      "metadata": {
        "colab": {
          "base_uri": "https://localhost:8080/"
        },
        "id": "uHX5NiW4MvRG",
        "outputId": "6b35d2df-b281-46d9-d600-fe85e7011f52"
      },
      "source": [
        "\n",
        "print(auc(recall3,precis3))\n",
        "print(average_precision_score(y_val,decFunc3))"
      ],
      "execution_count": 57,
      "outputs": [
        {
          "output_type": "stream",
          "name": "stdout",
          "text": [
            "0.8002516150277891\n",
            "0.8018112769445926\n"
          ]
        }
      ]
    },
    {
      "cell_type": "markdown",
      "metadata": {
        "id": "XR27sPqtM2Ne"
      },
      "source": [
        "We achived good results even without tuning.\n",
        "Tuning: Some tuning options are irrelevant, since our perf metric doesn't use a threshold.\n",
        "Our performance metric depends only on our ability to return a SORT that best separates out fraud vs legit\n",
        "score is weighted evenly across all possible thresholds that could be implemented on that sorted list of confidences"
      ]
    },
    {
      "cell_type": "code",
      "metadata": {
        "id": "k8b74PMBM-ro"
      },
      "source": [
        "pipe3 = Pipeline([('amt_tx',AmountTransformer(myFloor=0.005)),\n",
        "                  ('std_normz',StandardScaler()),\n",
        "                 ('logisticRegression',LogisticRegression(\n",
        "                         penalty='l2',fit_intercept=True,class_weight='balanced',solver='lbfgs',C=0.01))])\n",
        "_=pipe3.fit(X_train,y_train)"
      ],
      "execution_count": 58,
      "outputs": []
    },
    {
      "cell_type": "code",
      "metadata": {
        "id": "H9X7TbbxNHN4"
      },
      "source": [
        "preds3=pipe3.predict(X_val)\n",
        "decFunc3 = pipe3.decision_function(X_val)\n",
        "(precis3,recall3,thresh3) = precision_recall_curve(y_val, decFunc3)\n",
        "print(auc(recall3,precis3))\n"
      ],
      "execution_count": null,
      "outputs": []
    },
    {
      "cell_type": "markdown",
      "metadata": {
        "id": "2KqnRfmrNN47"
      },
      "source": [
        "# Random Forests"
      ]
    },
    {
      "cell_type": "code",
      "metadata": {
        "id": "bPZmO8TwNPgC"
      },
      "source": [
        "from sklearn.ensemble import RandomForestClassifier\n",
        "import time\n",
        "import multiprocessing"
      ],
      "execution_count": null,
      "outputs": []
    },
    {
      "cell_type": "code",
      "metadata": {
        "colab": {
          "base_uri": "https://localhost:8080/"
        },
        "id": "jLDRZaUsNaWO",
        "outputId": "437c6b43-4583-436f-ee31-248fa300b3ce"
      },
      "source": [
        "multiprocessing.cpu_count()"
      ],
      "execution_count": 61,
      "outputs": [
        {
          "output_type": "execute_result",
          "data": {
            "text/plain": [
              "2"
            ]
          },
          "metadata": {},
          "execution_count": 61
        }
      ]
    },
    {
      "cell_type": "code",
      "metadata": {
        "colab": {
          "base_uri": "https://localhost:8080/"
        },
        "id": "3UHeT34VNfDI",
        "outputId": "49b23ba6-7001-4d4c-f878-8ea13d32045d"
      },
      "source": [
        "#Random Forest Using default parameters\n",
        "tic=time.process_time()\n",
        "pipe4 = Pipeline([('rafo',RandomForestClassifier(n_jobs=-1))])\n",
        "_=pipe4.fit(X_train,y_train)\n",
        "print('Processing time (s):')\n",
        "print(time.process_time()-tic)"
      ],
      "execution_count": 62,
      "outputs": [
        {
          "output_type": "stream",
          "name": "stdout",
          "text": [
            "Processing time (s):\n",
            "230.165207159\n"
          ]
        }
      ]
    },
    {
      "cell_type": "code",
      "metadata": {
        "id": "hUXrZSM9No_W"
      },
      "source": [
        "preds4=pipe4.predict_proba(X_val)"
      ],
      "execution_count": null,
      "outputs": []
    },
    {
      "cell_type": "code",
      "metadata": {
        "id": "OhKEuTV9OS1N"
      },
      "source": [
        "preds4[:,1]"
      ],
      "execution_count": null,
      "outputs": []
    },
    {
      "cell_type": "code",
      "metadata": {
        "id": "KlxCVcvlOWk2"
      },
      "source": [
        "print(len(preds4),sum(preds4[:,1]>0))"
      ],
      "execution_count": null,
      "outputs": []
    },
    {
      "cell_type": "code",
      "metadata": {
        "id": "jo-8jvwGOaBk"
      },
      "source": [
        "for fraudProbability in preds4[:,1]:\n",
        "    if (fraudProbability>0):\n",
        "        print(fraudProbability)\n",
        "# these are all exactly an integer divided by 100.\n",
        "# Because the confidence values are given by a vote amongst trees"
      ],
      "execution_count": null,
      "outputs": []
    },
    {
      "cell_type": "code",
      "metadata": {
        "id": "W9nY3IDiOgZ-"
      },
      "source": [
        "from collections import Counter\n",
        "(sorted(list(Counter(preds4[:,1]).items()),key=lambda x: x[0]))"
      ],
      "execution_count": null,
      "outputs": []
    },
    {
      "cell_type": "markdown",
      "metadata": {
        "id": "4cczaCzAOlc9"
      },
      "source": [
        "Predictions are discretized to integers/100 because they are a vote amongst 100 trees"
      ]
    },
    {
      "cell_type": "code",
      "metadata": {
        "id": "hDZx618POm97"
      },
      "source": [
        "plt.plot(preds4[:,1],'.')"
      ],
      "execution_count": null,
      "outputs": []
    },
    {
      "cell_type": "code",
      "metadata": {
        "id": "iz40zjHrOs3F"
      },
      "source": [
        "preds4"
      ],
      "execution_count": null,
      "outputs": []
    },
    {
      "cell_type": "code",
      "metadata": {
        "id": "k5qw0t_VOwvb"
      },
      "source": [
        "(precis4,recall4,thresh4) = precision_recall_curve(y_val,preds4[:,1])"
      ],
      "execution_count": null,
      "outputs": []
    },
    {
      "cell_type": "code",
      "metadata": {
        "id": "x9hFKX8bGRp4"
      },
      "source": [
        "thresh4"
      ],
      "execution_count": null,
      "outputs": []
    },
    {
      "cell_type": "code",
      "metadata": {
        "id": "h6Dg73w-GVgx"
      },
      "source": [
        "(precis4,recall4,thresh4) = precision_recall_curve(y_val,preds4[:,1])\n",
        "plt.plot(recall4,precis4,'b')\n",
        "plt.plot(recall3,precis3,'k')\n",
        "plt.xlabel('recall')\n",
        "plt.ylabel('precision')\n",
        "plt.show()"
      ],
      "execution_count": null,
      "outputs": []
    },
    {
      "cell_type": "code",
      "metadata": {
        "id": "Y2htciobGZ59"
      },
      "source": [
        "print(auc(recall4,precis4))"
      ],
      "execution_count": null,
      "outputs": []
    },
    {
      "cell_type": "markdown",
      "metadata": {
        "id": "lwq7EV78GbYQ"
      },
      "source": [
        "# More trees¶"
      ]
    },
    {
      "cell_type": "code",
      "metadata": {
        "id": "DAOO8DNyGeSB"
      },
      "source": [
        "tic=time.process_time()\n",
        "pipe5 = Pipeline([('rafo',RandomForestClassifier(n_estimators=1000,n_jobs=-1))])\n",
        "_=pipe5.fit(X_train,y_train)\n",
        "print('Processing time (s):')\n",
        "print(time.process_time()-tic)"
      ],
      "execution_count": null,
      "outputs": []
    },
    {
      "cell_type": "code",
      "metadata": {
        "id": "-MnzdWQ_G3O8"
      },
      "source": [
        "preds5=pipe5.predict_proba(X_val)"
      ],
      "execution_count": null,
      "outputs": []
    },
    {
      "cell_type": "code",
      "metadata": {
        "id": "7dfCHH_iG35g"
      },
      "source": [
        "preds5[:,1]"
      ],
      "execution_count": null,
      "outputs": []
    },
    {
      "cell_type": "code",
      "metadata": {
        "id": "8_Rl7fNFG6pQ"
      },
      "source": [
        "from collections import Counter\n",
        "(sorted(list(Counter(preds5[:,1]).items()),key=lambda x: x[0]))"
      ],
      "execution_count": null,
      "outputs": []
    },
    {
      "cell_type": "code",
      "metadata": {
        "id": "JD-PbYOqG-Qz"
      },
      "source": [
        "\n",
        "(precis5,recall5,thresh5) = precision_recall_curve(y_val,preds5[:,1])\n",
        "plt.plot(recall5,precis5,'b')\n",
        "plt.plot(recall4,precis4,'k')\n",
        "plt.xlabel('recall')\n",
        "plt.ylabel('precision')\n",
        "plt.show()"
      ],
      "execution_count": null,
      "outputs": []
    },
    {
      "cell_type": "code",
      "metadata": {
        "id": "E0lVVgqIHBwB"
      },
      "source": [
        "print(auc(recall5,precis5))"
      ],
      "execution_count": null,
      "outputs": []
    },
    {
      "cell_type": "markdown",
      "metadata": {
        "id": "ZOUSo6ilHGg5"
      },
      "source": [
        "# class_weight = 'balanced'"
      ]
    },
    {
      "cell_type": "code",
      "metadata": {
        "id": "Jkmx8CQYHFhg"
      },
      "source": [
        "tic=time.process_time()\n",
        "pipe42 = Pipeline([('rafo',RandomForestClassifier(n_estimators=100,n_jobs=-1,class_weight='balanced'))])\n",
        "_=pipe42.fit(X_train,y_train)\n",
        "print('Processing time (s):')\n",
        "print(time.process_time()-tic)"
      ],
      "execution_count": null,
      "outputs": []
    },
    {
      "cell_type": "code",
      "metadata": {
        "id": "zxwybNnEMule"
      },
      "source": [
        "preds42=pipe42.predict_proba(X_val)\n",
        "(sorted(list(Counter(preds42[:,1]).items()),key=lambda x: x[0]))"
      ],
      "execution_count": null,
      "outputs": []
    },
    {
      "cell_type": "code",
      "metadata": {
        "id": "XWdpEuo_M1Hr"
      },
      "source": [
        "sum(preds42[:,1]>0.5)"
      ],
      "execution_count": null,
      "outputs": []
    },
    {
      "cell_type": "code",
      "metadata": {
        "id": "87AoePhZM1g9"
      },
      "source": [
        "(precis42,recall42,thresh42) = precision_recall_curve(y_val,preds42[:,1])\n",
        "plt.plot(recall42,precis42,'b')\n",
        "plt.plot(recall4,precis4,'k')\n",
        "plt.xlabel('recall')\n",
        "plt.ylabel('precision')\n",
        "plt.show()"
      ],
      "execution_count": null,
      "outputs": []
    },
    {
      "cell_type": "code",
      "metadata": {
        "id": "8Fqk1be7M5ud"
      },
      "source": [
        "print(auc(recall42,precis42))"
      ],
      "execution_count": null,
      "outputs": []
    },
    {
      "cell_type": "markdown",
      "metadata": {
        "id": "6V8uxZrtNA6g"
      },
      "source": [
        "# class_weight = 'balanced_subsample'"
      ]
    },
    {
      "cell_type": "code",
      "metadata": {
        "id": "DXYemigYNEpE"
      },
      "source": [
        "tic=time.process_time()\n",
        "pipe43 = Pipeline([('rafo',RandomForestClassifier(n_estimators=100,n_jobs=-1,class_weight='balanced_subsample'))])\n",
        "_=pipe43.fit(X_train,y_train)\n",
        "print('Processing time (s):')\n",
        "print(time.process_time()-tic)"
      ],
      "execution_count": null,
      "outputs": []
    },
    {
      "cell_type": "code",
      "metadata": {
        "id": "agonUYZxNJNR"
      },
      "source": [
        "preds43=pipe43.predict_proba(X_val)\n",
        "(sorted(list(Counter(preds43[:,1]).items()),key=lambda x: x[0]))"
      ],
      "execution_count": null,
      "outputs": []
    },
    {
      "cell_type": "code",
      "metadata": {
        "id": "LASUtU1fNMb7"
      },
      "source": [
        "(precis43,recall43,thresh43) = precision_recall_curve(y_val,preds43[:,1])\n",
        "plt.plot(recall43,precis43,'b')\n",
        "plt.plot(recall4,precis4,'k')\n",
        "plt.xlabel('recall')\n",
        "plt.ylabel('precision')\n",
        "plt.show()"
      ],
      "execution_count": null,
      "outputs": []
    },
    {
      "cell_type": "code",
      "metadata": {
        "id": "DWssCMOtNP5-"
      },
      "source": [
        "print(auc(recall43,precis43))"
      ],
      "execution_count": null,
      "outputs": []
    },
    {
      "cell_type": "markdown",
      "metadata": {
        "id": "YQQm0CN9NTUS"
      },
      "source": [
        "# imblearn library: BalancedRandomForestClassifier"
      ]
    },
    {
      "cell_type": "code",
      "metadata": {
        "id": "2I34YUnQNZFc"
      },
      "source": [
        "from imblearn.ensemble import BalancedRandomForestClassifier"
      ],
      "execution_count": null,
      "outputs": []
    },
    {
      "cell_type": "code",
      "metadata": {
        "id": "IaGhFWE0Nq16"
      },
      "source": [
        "tic=time.process_time()\n",
        "pipe60 = Pipeline([('brafo',BalancedRandomForestClassifier(n_estimators=100,n_jobs=-1,class_weight=None))])\n",
        "_=pipe60.fit(X_train,y_train)\n",
        "print('Processing time (s):')\n",
        "print(time.process_time()-tic)"
      ],
      "execution_count": null,
      "outputs": []
    },
    {
      "cell_type": "code",
      "metadata": {
        "id": "IrXsHrzVDjNe"
      },
      "source": [
        "# Build a trivial logistic regression model, using only one feature directly as the confidence value.\n",
        "# Try V14, which seemed to provide decent class separation.\n",
        "# It will be a monotonic function of the single variable."
      ],
      "execution_count": null,
      "outputs": []
    },
    {
      "cell_type": "code",
      "metadata": {
        "id": "SGObX603Dke2"
      },
      "source": [
        "pipe2 = Pipeline([('amt_tx',AmountTransformer(myFloor=0.005)),\n",
        "                  ('std_normz',StandardScaler()),\n",
        "                 ('logisticRegression',LogisticRegression(penalty='none',fit_intercept=True,class_weight='balanced'))])\n",
        "_=pipe2.fit(X_train[['V14']],y_train)"
      ],
      "execution_count": null,
      "outputs": []
    },
    {
      "cell_type": "markdown",
      "metadata": {
        "id": "MoeFOVHuTDhV"
      },
      "source": [
        "# Random Forests + SMOTE Augmentation\n",
        "Synthetic Minority Over-sampling Technique (SMOTE) was introduced by Nitesh V. Chawla et. to the. in 2002. SMOTE is an over-sampling technique focused on generating synthetic tabular data. The general idea of SMOTE is the generation of synthetic data between each sample of the minority class and its “k” nearest neighbors. That is, for each one of the samples of the minority class, its “k” nearest neighbors are located (by default k = 5), then between the pairs of points generated by the sample and each of its neighbors, a new synthetic data is generated. In Figure 2 you can see a visual description of the SMOTE implementation.\n",
        "Source:\n",
        "https://towardsdatascience.com/smote-synthetic-data-augmentation-for-tabular-data-1ce28090debc"
      ]
    },
    {
      "cell_type": "code",
      "metadata": {
        "id": "W4dx0992TIDy"
      },
      "source": [
        "from imblearn.over_sampling import SMOTE\n",
        "from imblearn.under_sampling import RandomUnderSampler"
      ],
      "execution_count": null,
      "outputs": []
    },
    {
      "cell_type": "code",
      "metadata": {
        "id": "HZ3X_kGvTbu_"
      },
      "source": [
        "oversample = SMOTE()\n",
        "(X_train_smote0,y_train_smote0) = oversample.fit_resample(X_train, y_train)"
      ],
      "execution_count": null,
      "outputs": []
    },
    {
      "cell_type": "code",
      "metadata": {
        "id": "iB-MrXkiTgui"
      },
      "source": [
        "print(X_train.shape,sum(y_train))\n",
        "print(X_train_smote0.shape,sum(y_train_smote0))"
      ],
      "execution_count": null,
      "outputs": []
    },
    {
      "cell_type": "code",
      "metadata": {
        "id": "ow-BHzi6Tk9H"
      },
      "source": [
        "scatterTwoFields_Imbalanced(X_train,y_train,'V14','V17')"
      ],
      "execution_count": null,
      "outputs": []
    },
    {
      "cell_type": "code",
      "metadata": {
        "colab": {
          "base_uri": "https://localhost:8080/",
          "height": 164
        },
        "id": "3xhKDzXUTs9t",
        "outputId": "23978cac-a220-4c07-802b-e09301fdd541"
      },
      "source": [
        "scatterTwoFields_Imbalanced(X_train_smote,y_train_smote,'V14','V17')"
      ],
      "execution_count": 97,
      "outputs": [
        {
          "ename": "NameError",
          "evalue": "ignored",
          "output_type": "error",
          "traceback": [
            "\u001b[0;31m---------------------------------------------------------------------------\u001b[0m",
            "\u001b[0;31mNameError\u001b[0m                                 Traceback (most recent call last)",
            "\u001b[0;32m<ipython-input-97-a2ed0c0bc9c5>\u001b[0m in \u001b[0;36m<module>\u001b[0;34m()\u001b[0m\n\u001b[0;32m----> 1\u001b[0;31m \u001b[0mscatterTwoFields_Imbalanced\u001b[0m\u001b[0;34m(\u001b[0m\u001b[0mX_train_smote\u001b[0m\u001b[0;34m,\u001b[0m\u001b[0my_train_smote\u001b[0m\u001b[0;34m,\u001b[0m\u001b[0;34m'V14'\u001b[0m\u001b[0;34m,\u001b[0m\u001b[0;34m'V17'\u001b[0m\u001b[0;34m)\u001b[0m\u001b[0;34m\u001b[0m\u001b[0;34m\u001b[0m\u001b[0m\n\u001b[0m",
            "\u001b[0;31mNameError\u001b[0m: name 'X_train_smote' is not defined"
          ]
        }
      ]
    }
  ]
}
